{
 "cells": [
  {
   "cell_type": "markdown",
   "metadata": {},
   "source": [
    "Please Follow this Docker container installation process in your MacBook/Laptop before running this Python+R Notebook below.\n",
    "\n",
    "  - Installation setup of environment where this notebook runs can be found i \n",
    "  Container with Jupyter+H2o.ai+Python3+R+Spark in this [link_here](https://github.com/jpacerqueira/project_lost_saturn)\n",
    "  \n",
    "  Also :\n",
    "  - You need a Strong bandwith the install the Container environment it takes about 10-11 minutes to finish.\n",
    "  \n",
    "  - Good Luck,  stay safe! But investigate Corona virus(covid-19 or SARS-Cov-2) in your area and give the information back to the comunity!\n",
    "\n",
    "  - Folium maps have custom Javascript and won't display in GitHub : https://stackoverflow.com/questions/53240378/folium-map-fail-to-render-in-notebook-on-github"
   ]
  },
  {
   "cell_type": "markdown",
   "metadata": {},
   "source": [
    "# SparkSQL   -  Daily Analysis   -  Covid19 Sars-Cov2\n",
    "\n",
    "\n",
    "###  COVID-19 SARS-COV2 - Daily Analysis\n",
    "\n",
    "\n",
    "### Executed with data from John Hopkins inst. gituhub + my daily analysis notebooks\n",
    "\n",
    "\n",
    "## Scrool to the bottom and look at the latest grafics"
   ]
  },
  {
   "cell_type": "markdown",
   "metadata": {},
   "source": [
    "### 1.\n",
    "\n",
    "###  Loading csv Daily Analysis file"
   ]
  },
  {
   "cell_type": "code",
   "execution_count": null,
   "metadata": {
    "scrolled": false
   },
   "outputs": [
    {
     "name": "stdout",
     "output_type": "stream",
     "text": [
      "'''2021-09-06'''\n"
     ]
    }
   ],
   "source": [
    "#################################################################\n",
    "###### Load The Daily JohnHopkins + 1Day Notebook Analysis ######\n",
    "#################################################################\n",
    "### Input date for analysis\n",
    "from datetime import datetime\n",
    "#\n",
    "#anltdate=\"2021-XX-XX\"\n",
    "anltdate=datetime.today().strftime('%Y-%m-%d')\n",
    "vanltdate=\"'''\"+anltdate+\"'''\"\n",
    "print(vanltdate)\n",
    "configs = {\"analytics_date\":vanltdate}\n",
    "#\n",
    "### Input delta in folder :  /data\n",
    "my_input_csv_table=\"World_v2--Confirmed-1Day_Forecast_--_train_\"+anltdate+\"-copy0.csv\"\n",
    "delta_location_covid19=\"file:///home/notebookuser/notebooks/data/delta_daily-covid19-global-analysis/dt=\"+anltdate\n",
    "###\n",
    "######\n",
    "##############################Execution##########################\n",
    "import findspark\n",
    "findspark.init()\n",
    "#\n",
    "import pyspark\n",
    "from pyspark.sql import functions as pfunc\n",
    "from pyspark.sql import SQLContext\n",
    "from pyspark.sql import Window, types\n",
    "import re\n",
    "import pandas as pd\n",
    "import numpy as np\n",
    "from pandas import DataFrame\n",
    "from pyspark.sql.types import IntegerType\n",
    "from pyspark.sql.types import FloatType\n",
    "from pyspark.sql.functions import udf\n",
    "from pyspark.sql.functions import *\n",
    "from scipy.stats import kstest\n",
    "from scipy import stats\n",
    "#\n",
    "import subprocess\n",
    "#\n",
    "sc = pyspark.SparkContext(appName=\"Daily-Covid19-Global-Analysis\")\n",
    "sqlContext = SQLContext(sc)\n",
    "#\n",
    "#\n",
    "internal_csv_files=\"file:///home/notebookuser/notebooks/covid19/data/\"+my_input_csv_table\n",
    "#\n",
    "# Join with Internal Curation Data in urltopredict staged folder\n",
    "from pyspark.sql import functions as F\n",
    "### Scructure\n",
    "from pyspark.sql.types import StructField,IntegerType,StructType,StringType,FloatType,DoubleType\n",
    "newDF=[StructField('date',StringType(),True),\n",
    "       StructField('region',StringType(),True),\n",
    "       StructField('confirmed',StringType(),True),\n",
    "       StructField('1_day_change',FloatType(),True),\n",
    "       StructField('3_day_change',FloatType(),True),\n",
    "       StructField('7_day_change',FloatType(),True),\n",
    "       StructField('1_day_change_rate',DoubleType(),True),\n",
    "       StructField('3_day_change_rate',DoubleType(),True),\n",
    "       StructField('7_day_change_rate',DoubleType(),True),\n",
    "       StructField('confirmed_yesterday',FloatType(),True),\n",
    "       StructField('confirmed_prediction',FloatType(),True),\n",
    "       StructField('population',FloatType(),True),\n",
    "       StructField('infected_rate',DoubleType(),True),\n",
    "       StructField('min',FloatType(),True),\n",
    "       StructField('max',FloatType(),True),\n",
    "       StructField('population_percentage_infected_rate_confirmed',DoubleType(),True),\n",
    "       StructField('population_percentage_factor_9a10_infected_rate_confirmed',DoubleType(),True),\n",
    "       StructField('delta_pred_new_cases',FloatType(),True),\n",
    "       StructField('delta_pred_new_cases_per_1M_hab',FloatType(),True),\n",
    "       StructField('delta_roling_7day_AVG',FloatType(),True),\n",
    "       StructField('delta_aprox_14day_case_notification_rate_per_100k_hab',FloatType(),True)\n",
    "       ]\n",
    "finalStruct=StructType(fields=newDF)\n",
    "#\n",
    "dataframe_df1=sqlContext.read.csv(internal_csv_files,header=\"true\",schema=finalStruct)\\\n",
    ".fillna(\"\",subset=['date', 'region'])\\\n",
    ".fillna(0, subset=['1_day_change', '3_day_change', '7_day_change', 'confirmed_yesterday', 'confirmed_prediction', 'population', 'infected_rate', 'min', 'max', 'population_percentage_infected_rate_confirmed', 'population_percentage_factor_9a10_infected_rate_confirmed', 'population_percentage_factor_9a10_infected_rate_confirmed', 'delta_pred_new_cases', 'delta_pred_new_cases_per_1M_hab', 'delta_roling_7day_AVG', 'delta_aprox_14day_case_notification_rate_per_100k_hab'])\\\n",
    ".persist(pyspark.StorageLevel.MEMORY_AND_DISK_2)\n",
    "#   \n",
    "columns_to_drop = ['1_day_change_rate', '3_day_change_rate', '7_day_change_rate', 'infected_rate', 'min', 'max']\n",
    "#\n",
    "#dataframe_df1.printSchema()\n",
    "dataframe_df1.drop(*columns_to_drop).show(5)\n",
    "df2=dataframe_df1.drop(*columns_to_drop)\n",
    "df2.write.mode('overwrite').option(\"mergeSchema\", \"true\").format(\"delta\").save(delta_location_covid19)\n",
    "###\n",
    "####\n",
    "## sc.stop()\n",
    "#\n",
    "print(\"Data Load Done!\")\n",
    "#"
   ]
  },
  {
   "cell_type": "markdown",
   "metadata": {},
   "source": [
    "### 2.\n",
    "\n",
    "\n",
    "### Loading Data to Delta Lake for SparkSQL interrogations"
   ]
  },
  {
   "cell_type": "code",
   "execution_count": null,
   "metadata": {},
   "outputs": [],
   "source": [
    "##############################\n",
    "###### Load The Delta   ######\n",
    "##############################\n",
    "###\n",
    "### Input dates\n",
    "from datetime import datetime\n",
    "#\n",
    "anltdate=datetime.today().strftime('%Y-%m-%d')\n",
    "vanltdate=\"'''\"+anltdate+\"'''\"\n",
    "print(vanltdate)\n",
    "configs = {\"analytics_date\":vanltdate}\n",
    "#\n",
    "#\n",
    "### Input delta in folder :  /data\n",
    "my_input_delta_table=\"delta_daily-covid19-global-analysis\"\n",
    "#\n",
    "delta_table_name=\"covid19_jh_analysis\"\n",
    "###\n",
    "######\n",
    "##############################Execution##########################\n",
    "import findspark\n",
    "findspark.init()\n",
    "#\n",
    "import pyspark\n",
    "from pyspark.sql import functions as pfunc\n",
    "from pyspark.sql import SQLContext\n",
    "from pyspark.sql import Window, types\n",
    "import re\n",
    "import pandas as pd\n",
    "import numpy as np\n",
    "from pandas import DataFrame\n",
    "from pyspark.sql.types import IntegerType\n",
    "from pyspark.sql.types import FloatType\n",
    "from pyspark.sql.functions import udf\n",
    "from pyspark.sql.functions import *\n",
    "from scipy.stats import kstest\n",
    "from scipy import stats\n",
    "#\n",
    "import subprocess\n",
    "3#\n",
    "### CONTEXT required for 2nd,3rd,4th,5th runs\n",
    "#\n",
    "#sc = pyspark.SparkContext(appName=\"Daily-Covid19-Delta-Analysis\")\n",
    "#sqlContext = SQLContext(sc)\n",
    "#\n",
    "internal_delta_files=\"file:///home/notebookuser/notebooks/data/\"+my_input_delta_table+\"/dt=\"+anltdate\n",
    "#\n",
    "# Join with Internal Curation Data in urltopredict staged folder\n",
    "from pyspark.sql import functions as F\n",
    "delta_dataframe_df1=sqlContext.read.format(\"delta\").load(internal_delta_files)\\\n",
    ".persist(pyspark.StorageLevel.MEMORY_AND_DISK_2)\n",
    "#\n",
    "## ,schema=finalStruct)\\\n",
    "## Py4JJavaError: An error occurred while calling o48.load.\n",
    "## : org.apache.spark.sql.AnalysisException: delta does not allow user-specified schemas.;\n",
    "##      \tat org.apache.spark.sql.execution.datasources.DataSource.resolveRelation(DataSource.scala:325)\n",
    "#\n",
    "delta_dataframe_df1.printSchema()\n",
    "delta_dataframe_df1.registerTempTable(delta_table_name)\n",
    "#\n",
    "#\n",
    "print(\"Delta table \"+delta_table_name+\" : registration Done!\")\n",
    "#"
   ]
  },
  {
   "cell_type": "markdown",
   "metadata": {},
   "source": [
    "### 3.\n",
    "\n",
    "### Registering SQL functions as jupyter line_cell_magic"
   ]
  },
  {
   "cell_type": "code",
   "execution_count": null,
   "metadata": {},
   "outputs": [],
   "source": [
    "#\n",
    "###### https://github.com/LucaCanali/Miscellaneous/blob/master/Pyspark_SQL_Magic_Jupyter/IPython_Pyspark_SQL_Magic.py\n",
    "#\n",
    "#\n",
    "# IPython magic functions to use with Pyspark and Spark SQL\n",
    "# The following code is intended as examples of shorcuts to simplify the use of SQL in pyspark\n",
    "# The defined functions are:\n",
    "#\n",
    "# %sql <statement>          - return a Spark DataFrame for lazy evaluation of the SQL\n",
    "# %sql_show <statement>     - run the SQL statement and show max_show_lines (50) lines\n",
    "# %sql_display <statement>  - run the SQL statement and display the results using a HTML table \n",
    "#                           - this is implemented passing via Pandas and displays up to max_show_lines (50)\n",
    "# %sql_explain <statement>  - display the execution plan of the SQL statement\n",
    "#\n",
    "# Use: %<magic> for line magic or %%<magic> for cell magic.\n",
    "#\n",
    "# Author: Luca.Canali@cern.ch\n",
    "# September 2016\n",
    "#\n",
    "\n",
    "from IPython.core.magic import register_line_cell_magic\n",
    "\n",
    "# Configuration parameters\n",
    "max_show_lines = 80         # Limit on the number of lines to show with %sql_show and %sql_display\n",
    "detailed_explain = True     # Set to False if you want to see only the physical plan when running explain\n",
    "\n",
    "#### Joao - Fix - inject - AnalyticsData\n",
    "##configs = {'analytics_date': << THE_DATE >> } #,\"TABLE_NAME\":\"my_table\",\"SCHEMA\":\"my_schema\"}\n",
    "### Input date for analysis\n",
    "from datetime import datetime\n",
    "anltdate=datetime.today().strftime('%Y-%m-%d')\n",
    "vanltdate=\"'''\"+anltdate+\"'''\"\n",
    "print(vanltdate)\n",
    "configs = {\"analytics_date\":vanltdate}\n",
    "### \n",
    "\n",
    "@register_line_cell_magic\n",
    "def sql(line, cell=None):\n",
    "    \"Return a Spark DataFrame for lazy evaluation of the sql. Use: %sql or %%sql\"\n",
    "    val = cell if cell is not None else line \n",
    "    return sqlContext.sql(val.format(**configs))\n",
    "\n",
    "@register_line_cell_magic\n",
    "def sql_show(line, cell=None):\n",
    "    \"Execute sql and show the first max_show_lines lines. Use: %sql_show or %%sql_show\"\n",
    "    val = cell if cell is not None else line \n",
    "    return sqlContext.sql(val.format(**configs)).show(max_show_lines) \n",
    "\n",
    "@register_line_cell_magic\n",
    "def sql_display(line, cell=None):\n",
    "    \"\"\"Execute sql and convert results to Pandas DataFrame for pretty display or further processing.\n",
    "    Use: %sql_display or %%sql_display\"\"\"\n",
    "    val = cell if cell is not None else line \n",
    "    return sqlContext.sql(val.format(**configs)).limit(max_show_lines).toPandas() \n",
    "\n",
    "@register_line_cell_magic\n",
    "def sql_explain(line, cell=None):\n",
    "    \"Display the execution plan of the sql. Use: %sql_explain or %%sql_explain\"\n",
    "    val = cell if cell is not None else line \n",
    "    return sqlContext.sql(val.format(**configs)).explain(detailed_explain)\n",
    "#\n",
    "\n",
    "#sc.stop()\n",
    "#exit()\n",
    "import os \n",
    "# printing environment variables\n",
    "print(os.environ)"
   ]
  },
  {
   "cell_type": "markdown",
   "metadata": {},
   "source": [
    "### 4.\n",
    "\n",
    "\n",
    "### Validate SPARK-SQL instructions  %%sql_display  %%sql_explain %%sql_show"
   ]
  },
  {
   "cell_type": "code",
   "execution_count": null,
   "metadata": {
    "scrolled": false
   },
   "outputs": [],
   "source": [
    "%%sql_display\n",
    "select * from covid19_jh_analysis  order by date desc, region asc limit 5"
   ]
  },
  {
   "cell_type": "code",
   "execution_count": null,
   "metadata": {},
   "outputs": [],
   "source": [
    "%%sql_display\n",
    "select * from covid19_jh_analysis where region is not null and date >= {analytics_date}\n",
    "  order by date desc, region asc limit 5"
   ]
  },
  {
   "cell_type": "code",
   "execution_count": null,
   "metadata": {},
   "outputs": [],
   "source": [
    "print(configs)"
   ]
  },
  {
   "cell_type": "markdown",
   "metadata": {},
   "source": [
    "### 5.1.0\n",
    "\n",
    "\n",
    "### The Regions in the World with +200  'notifications per 100k hab. in last 14days' and +10 cases a day AVG last 7days "
   ]
  },
  {
   "cell_type": "code",
   "execution_count": null,
   "metadata": {
    "scrolled": false
   },
   "outputs": [],
   "source": [
    "%%sql_display\n",
    "select date,region,delta_roling_7day_AVG,delta_aprox_14day_case_notification_rate_per_100k_hab,\n",
    "    1_day_change,3_day_change,7_day_change,confirmed_yesterday,\n",
    "    population,population_percentage_factor_9a10_infected_rate_confirmed,\n",
    "    delta_pred_new_cases,delta_pred_new_cases_per_1M_hab\n",
    "    from covid19_jh_analysis where region is not null and\n",
    "    date >= {analytics_date} and\n",
    "    delta_roling_7day_AVG >= 200 and\n",
    "    delta_aprox_14day_case_notification_rate_per_100k_hab >= 10\n",
    "order by delta_roling_7day_AVG desc, region asc\n",
    "limit 60"
   ]
  },
  {
   "cell_type": "code",
   "execution_count": null,
   "metadata": {
    "scrolled": false
   },
   "outputs": [],
   "source": [
    "%%sql_display\n",
    "select date,region,delta_roling_7day_AVG,delta_aprox_14day_case_notification_rate_per_100k_hab,\n",
    "    1_day_change,3_day_change,7_day_change,confirmed_yesterday,\n",
    "    population,population_percentage_factor_9a10_infected_rate_confirmed,\n",
    "    delta_pred_new_cases,delta_pred_new_cases_per_1M_hab\n",
    "    from covid19_jh_analysis where region is not null and\n",
    "    date >= {analytics_date} and\n",
    "    delta_roling_7day_AVG <= 1000 and\n",
    "    delta_roling_7day_AVG >= 200 and\n",
    "    delta_aprox_14day_case_notification_rate_per_100k_hab >= 10\n",
    "order by delta_roling_7day_AVG desc, region asc"
   ]
  },
  {
   "cell_type": "code",
   "execution_count": null,
   "metadata": {
    "scrolled": false
   },
   "outputs": [],
   "source": [
    "%%sql_display\n",
    "select date,region,delta_roling_7day_AVG,delta_aprox_14day_case_notification_rate_per_100k_hab,\n",
    "    1_day_change,3_day_change,7_day_change,confirmed_yesterday,\n",
    "    population,population_percentage_factor_9a10_infected_rate_confirmed,\n",
    "    delta_pred_new_cases,delta_pred_new_cases_per_1M_hab\n",
    "    from covid19_jh_analysis where region is not null and\n",
    "    date >= {analytics_date} and\n",
    "    delta_roling_7day_AVG >= 200 and\n",
    "    delta_aprox_14day_case_notification_rate_per_100k_hab >= 80\n",
    "order by delta_roling_7day_AVG desc, region asc"
   ]
  },
  {
   "cell_type": "markdown",
   "metadata": {},
   "source": [
    "### 5.1.1\n",
    "\n",
    "\n",
    "### The Regions in the World with +240  'notifications per 100k hab. in last 14days' and +300 cases AVG last 7days"
   ]
  },
  {
   "cell_type": "code",
   "execution_count": null,
   "metadata": {
    "scrolled": false
   },
   "outputs": [],
   "source": [
    "%%sql_display\n",
    "select date,region,delta_roling_7day_AVG,delta_aprox_14day_case_notification_rate_per_100k_hab,\n",
    "    1_day_change,3_day_change,7_day_change,confirmed_yesterday,\n",
    "    population,population_percentage_factor_9a10_infected_rate_confirmed,\n",
    "    delta_pred_new_cases,delta_pred_new_cases_per_1M_hab\n",
    "    from covid19_jh_analysis where region is not null and\n",
    "    date >= {analytics_date} and\n",
    "    delta_roling_7day_AVG >= 300 and\n",
    "    delta_aprox_14day_case_notification_rate_per_100k_hab >= 240\n",
    "order by delta_roling_7day_AVG desc, region asc\n",
    "limit 80"
   ]
  },
  {
   "cell_type": "markdown",
   "metadata": {},
   "source": [
    "### 5.1.2\n",
    "\n",
    "\n",
    "### The Regions in the World with +120  'notifications per 100k hab. in last 14days' and +300 cases AVG last 7days"
   ]
  },
  {
   "cell_type": "code",
   "execution_count": null,
   "metadata": {
    "scrolled": false
   },
   "outputs": [],
   "source": [
    "%%sql_display\n",
    "select date,region, delta_roling_7day_AVG, delta_aprox_14day_case_notification_rate_per_100k_hab,\n",
    "    1_day_change,3_day_change,7_day_change,confirmed_yesterday,\n",
    "    population,population_percentage_factor_9a10_infected_rate_confirmed,\n",
    "    delta_pred_new_cases,delta_pred_new_cases_per_1M_hab\n",
    "    from covid19_jh_analysis where region is not null and\n",
    "    date >= {analytics_date} and\n",
    "    delta_roling_7day_AVG >= 300 and\n",
    "    delta_aprox_14day_case_notification_rate_per_100k_hab >= 120 and \n",
    "    delta_aprox_14day_case_notification_rate_per_100k_hab < 240\n",
    "order by delta_roling_7day_AVG desc, region asc\n",
    "limit 80"
   ]
  },
  {
   "cell_type": "code",
   "execution_count": null,
   "metadata": {},
   "outputs": [],
   "source": [
    "%%sql_display\n",
    "select date,region, delta_roling_7day_AVG, delta_aprox_14day_case_notification_rate_per_100k_hab,\n",
    "    1_day_change,3_day_change,7_day_change,confirmed_yesterday,\n",
    "    population,population_percentage_factor_9a10_infected_rate_confirmed,\n",
    "    delta_pred_new_cases,delta_pred_new_cases_per_1M_hab\n",
    "    from covid19_jh_analysis where region is not null and\n",
    "    date >= {analytics_date} and\n",
    "    delta_roling_7day_AVG >= 300 and\n",
    "    delta_aprox_14day_case_notification_rate_per_100k_hab >= 80 and \n",
    "    delta_aprox_14day_case_notification_rate_per_100k_hab < 120\n",
    "order by delta_roling_7day_AVG desc, region asc\n",
    "limit 80"
   ]
  },
  {
   "cell_type": "code",
   "execution_count": null,
   "metadata": {},
   "outputs": [],
   "source": [
    "%%sql_display\n",
    "select date,region, delta_roling_7day_AVG, delta_aprox_14day_case_notification_rate_per_100k_hab,\n",
    "    1_day_change,3_day_change,7_day_change,confirmed_yesterday,\n",
    "    population,population_percentage_factor_9a10_infected_rate_confirmed,\n",
    "    delta_pred_new_cases,delta_pred_new_cases_per_1M_hab\n",
    "    from covid19_jh_analysis where region is not null and\n",
    "    date >= {analytics_date} and\n",
    "    delta_roling_7day_AVG >= 300 and\n",
    "    delta_aprox_14day_case_notification_rate_per_100k_hab < 10 and \n",
    "    delta_aprox_14day_case_notification_rate_per_100k_hab < 80\n",
    "order by delta_roling_7day_AVG desc, region asc\n",
    "limit 80"
   ]
  },
  {
   "cell_type": "markdown",
   "metadata": {},
   "source": [
    "### 5.1.3\n",
    "\n",
    "\n",
    "### The Regions in the World with +80  'notifications per 100k hab. in last 14days' and +200 cases AVG last 7days"
   ]
  },
  {
   "cell_type": "code",
   "execution_count": null,
   "metadata": {
    "scrolled": false
   },
   "outputs": [],
   "source": [
    "%%sql_display\n",
    "select date,region, delta_roling_7day_AVG, delta_aprox_14day_case_notification_rate_per_100k_hab,\n",
    "    1_day_change,3_day_change,7_day_change,confirmed_yesterday,\n",
    "    population,population_percentage_factor_9a10_infected_rate_confirmed,\n",
    "    delta_pred_new_cases,delta_pred_new_cases_per_1M_hab\n",
    "    from covid19_jh_analysis where region is not null and\n",
    "    date >= {analytics_date} and\n",
    "    delta_roling_7day_AVG >= 200 and\n",
    "    delta_aprox_14day_case_notification_rate_per_100k_hab >= 80 and\n",
    "    delta_aprox_14day_case_notification_rate_per_100k_hab <= 120\n",
    "order by delta_roling_7day_AVG desc, region asc\n",
    "limit 80"
   ]
  },
  {
   "cell_type": "markdown",
   "metadata": {},
   "source": [
    "### 5.2\n",
    "\n",
    "\n",
    "### The Regions in the World in analysis (population not dummy 10M) but with lower cases than above"
   ]
  },
  {
   "cell_type": "code",
   "execution_count": null,
   "metadata": {
    "scrolled": false
   },
   "outputs": [],
   "source": [
    "%%sql_display\n",
    "select date,region, delta_roling_7day_AVG, delta_aprox_14day_case_notification_rate_per_100k_hab,\n",
    "    1_day_change,3_day_change,7_day_change,confirmed_yesterday,\n",
    "    population,population_percentage_factor_9a10_infected_rate_confirmed,\n",
    "    delta_pred_new_cases,delta_pred_new_cases_per_1M_hab\n",
    "    from covid19_jh_analysis where region is not null and\n",
    "    date >= {analytics_date} and\n",
    "    delta_roling_7day_AVG < 200 and\n",
    "    delta_aprox_14day_case_notification_rate_per_100k_hab < 80 and\n",
    "    population not in (10000000.0 )\n",
    "    order by delta_roling_7day_AVG desc, region asc\n",
    "limit 60"
   ]
  },
  {
   "cell_type": "code",
   "execution_count": null,
   "metadata": {
    "scrolled": false
   },
   "outputs": [],
   "source": [
    "%%sql_display\n",
    "select date,region, delta_roling_7day_AVG, delta_aprox_14day_case_notification_rate_per_100k_hab,\n",
    "    1_day_change,3_day_change,7_day_change,confirmed_yesterday,\n",
    "    population,population_percentage_factor_9a10_infected_rate_confirmed,\n",
    "    delta_pred_new_cases,delta_pred_new_cases_per_1M_hab\n",
    "    from covid19_jh_analysis where region is not null and\n",
    "    date >= {analytics_date} and\n",
    "    delta_roling_7day_AVG < 200 and\n",
    "    delta_aprox_14day_case_notification_rate_per_100k_hab < 80 and\n",
    "    population not in (10000000.0 )\n",
    "    order by delta_roling_7day_AVG desc, region asc\n",
    "limit 60    "
   ]
  },
  {
   "cell_type": "markdown",
   "metadata": {},
   "source": [
    "### 6.\n",
    "\n",
    "\n",
    "### Regions out of model where ratios requiring model view may require data in population.csv"
   ]
  },
  {
   "cell_type": "code",
   "execution_count": null,
   "metadata": {},
   "outputs": [],
   "source": [
    "%%sql_display\n",
    "select date,region, delta_roling_7day_AVG, delta_aprox_14day_case_notification_rate_per_100k_hab,\n",
    "    1_day_change,3_day_change,7_day_change,confirmed_yesterday,\n",
    "    population,population_percentage_factor_9a10_infected_rate_confirmed,\n",
    "    delta_pred_new_cases,delta_pred_new_cases_per_1M_hab\n",
    "    from covid19_jh_analysis where region is not null and\n",
    "    date >= {analytics_date} and\n",
    "    delta_roling_7day_AVG <= 1.5 and\n",
    "    delta_aprox_14day_case_notification_rate_per_100k_hab < 80 and\n",
    "    population not in (10000000.0 ) \n",
    "    order by delta_roling_7day_AVG desc, region asc\n",
    "limit 60  "
   ]
  },
  {
   "cell_type": "code",
   "execution_count": null,
   "metadata": {},
   "outputs": [],
   "source": [
    "%%sql_display\n",
    "select * from covid19_jh_analysis where region is not null and\n",
    "    date >= {analytics_date} and\n",
    "    delta_roling_7day_AVG >= 300 and\n",
    "    delta_aprox_14day_case_notification_rate_per_100k_hab >= 40 and\n",
    "    population in (10000000.0 )\n",
    "order by region asc\n",
    "limit 80"
   ]
  },
  {
   "cell_type": "code",
   "execution_count": null,
   "metadata": {},
   "outputs": [],
   "source": [
    "%%sql_display\n",
    "select * from covid19_jh_analysis where region is not null and\n",
    "    date >= {analytics_date} and\n",
    "    delta_roling_7day_AVG >= 150 and\n",
    "    delta_aprox_14day_case_notification_rate_per_100k_hab >= 20 and\n",
    "    population in (10000000.0 )\n",
    "order by region asc\n",
    "limit 80"
   ]
  },
  {
   "cell_type": "code",
   "execution_count": null,
   "metadata": {},
   "outputs": [],
   "source": [
    "%%sql_display\n",
    "select * from covid19_jh_analysis where region is not null and\n",
    "    date >= {analytics_date} and\n",
    "    delta_roling_7day_AVG >= 40 and\n",
    "    delta_aprox_14day_case_notification_rate_per_100k_hab >= 10 and\n",
    "    population in (10000000.0 )\n",
    "order by region asc\n",
    "limit 80"
   ]
  },
  {
   "cell_type": "code",
   "execution_count": null,
   "metadata": {},
   "outputs": [],
   "source": [
    "%%sql_display\n",
    "select * from covid19_jh_analysis where region is not null and\n",
    "    date >= {analytics_date} and\n",
    "    delta_roling_7day_AVG >= 10 and\n",
    "    delta_aprox_14day_case_notification_rate_per_100k_hab >= 10 and\n",
    "    population in (10000000.0 )\n",
    "order by region asc\n",
    "limit 80"
   ]
  },
  {
   "cell_type": "code",
   "execution_count": null,
   "metadata": {},
   "outputs": [],
   "source": [
    "%%sql_display\n",
    "select * from covid19_jh_analysis where region is not null and\n",
    "    date >= {analytics_date} and\n",
    "    delta_roling_7day_AVG >= 5 and\n",
    "    delta_aprox_14day_case_notification_rate_per_100k_hab >= 5 and\n",
    "    population in (10000000.0 )\n",
    "order by region asc\n",
    "limit 80"
   ]
  },
  {
   "cell_type": "markdown",
   "metadata": {},
   "source": [
    "### 7.1\n",
    "\n",
    "\n",
    "### Regions where population.csv has not been fulfilled and model has default 10,000,000 hab."
   ]
  },
  {
   "cell_type": "code",
   "execution_count": null,
   "metadata": {
    "scrolled": false
   },
   "outputs": [],
   "source": [
    "%%sql_display\n",
    "select distinct(region) from covid19_jh_analysis \n",
    "where where region is not null and\n",
    "    date >= {analytics_date} and population in (10000000.0 ) order by region asc\n",
    "limit 60"
   ]
  },
  {
   "cell_type": "markdown",
   "metadata": {},
   "source": [
    "### 7.2\n",
    "\n",
    "\n",
    "### Regions where total cases <= 50 and population.csv has not been fulfilled for the regions and model has default 10,000,000 hab."
   ]
  },
  {
   "cell_type": "code",
   "execution_count": null,
   "metadata": {},
   "outputs": [],
   "source": [
    "%%sql_display\n",
    "select distinct(region) from covid19_jh_analysis \n",
    "where where region is not null and\n",
    "    date >= {analytics_date} and confirmed_yesterday <= 50 and population in (10000000.0 ) order by region asc\n",
    "limit 60"
   ]
  },
  {
   "cell_type": "markdown",
   "metadata": {},
   "source": [
    "### 7.3\n",
    "\n",
    "\n",
    "### Regions where total cases <= 50  and population.csv is correct in model."
   ]
  },
  {
   "cell_type": "code",
   "execution_count": null,
   "metadata": {
    "scrolled": false
   },
   "outputs": [],
   "source": [
    "%%sql_display\n",
    "select distinct(region) from covid19_jh_analysis \n",
    "where where region is not null and\n",
    "    date >= {analytics_date} and confirmed_yesterday <= 50 and population not in (10000000.0 ) order by region asc\n",
    "limit 60"
   ]
  },
  {
   "cell_type": "markdown",
   "metadata": {},
   "source": [
    "### 7.4\n",
    "\n",
    "\n",
    "### Regions where total cases >= 50  and population.csv is not correct in model and at risk start being analysed."
   ]
  },
  {
   "cell_type": "code",
   "execution_count": null,
   "metadata": {},
   "outputs": [],
   "source": [
    "%%sql_display\n",
    "select * from covid19_jh_analysis \n",
    "where where region is not null and\n",
    "    date >= {analytics_date} and confirmed_yesterday >= 50 and\n",
    "    population in (10000000.0 )\n",
    "order by confirmed_yesterday desc"
   ]
  },
  {
   "cell_type": "code",
   "execution_count": null,
   "metadata": {},
   "outputs": [],
   "source": [
    "#\n",
    "print(\"Analysis Done!\")\n",
    "#"
   ]
  },
  {
   "cell_type": "markdown",
   "metadata": {},
   "source": [
    "### 8.\n",
    "\n",
    "\n",
    "### Plot Analysis with today's data for   +120 in the  14day case per 100k hab  and delta roling 7day AVG +300"
   ]
  },
  {
   "cell_type": "code",
   "execution_count": null,
   "metadata": {
    "scrolled": false
   },
   "outputs": [],
   "source": [
    "delta_display=sqlContext.sql(\"select date,region,1_day_change,3_day_change,7_day_change,confirmed_yesterday,\\\n",
    " population,population_percentage_factor_9a10_infected_rate_confirmed,\\\n",
    " delta_pred_new_cases,delta_pred_new_cases_per_1M_hab,delta_roling_7day_AVG,\\\n",
    " delta_aprox_14day_case_notification_rate_per_100k_hab \\\n",
    " from covid19_jh_analysis where region is not null \\\n",
    " and date >= '2020-09-01' and  date <= {analytics_date} and delta_roling_7day_AVG >= 200 and \\\n",
    " delta_aprox_14day_case_notification_rate_per_100k_hab >= 20 \\\n",
    " order by region,date asc limit 35000\".format(**configs))\n",
    "#\n",
    "delta_display.printSchema()\n",
    "#\n",
    "pdt=delta_display.toPandas()\n",
    "t=pdt\n",
    "#\n",
    "print(t)"
   ]
  },
  {
   "cell_type": "code",
   "execution_count": null,
   "metadata": {},
   "outputs": [],
   "source": [
    "sc.stop()"
   ]
  },
  {
   "cell_type": "code",
   "execution_count": null,
   "metadata": {},
   "outputs": [],
   "source": [
    "%matplotlib inline\n",
    "##%matplotlib notebook"
   ]
  },
  {
   "cell_type": "code",
   "execution_count": null,
   "metadata": {},
   "outputs": [],
   "source": [
    "%matplotlib notebook"
   ]
  },
  {
   "cell_type": "code",
   "execution_count": null,
   "metadata": {
    "scrolled": false
   },
   "outputs": [],
   "source": [
    "# JOAO - FIX - Automation WarmUp of Plot Library\n",
    "import matplotlib.pyplot as plt\n",
    "import time\n",
    "plt.legend(loc = 'upper left')\n",
    "fig= plt.figure()\n",
    "ax= fig.add_subplot(111)\n",
    "ax.set_xlim(0.5, 4.5)\n",
    "plt.show()"
   ]
  },
  {
   "cell_type": "code",
   "execution_count": null,
   "metadata": {},
   "outputs": [],
   "source": [
    "#### Turn-off automation\n",
    "#\n",
    "#%matplotlib notebook\n",
    "%matplotlib inline"
   ]
  },
  {
   "cell_type": "code",
   "execution_count": null,
   "metadata": {},
   "outputs": [],
   "source": [
    "region='United States_nan'\n",
    "eval_var='delta_aprox_14day_case_notification_rate_per_100k_hab'\n",
    "p=t[t['region']==region][['date','region',eval_var]]\n",
    "#\n",
    "p.iloc[len(p)-1,1]=None\n",
    "p=p.set_index(['date'])\n",
    "p[:].plot(marker='*',figsize=(12,8),title ='Last 16 weeks Covid19 confirmed \\\"'+eval_var +'\\\" in '+region)\n",
    "plt.legend(loc = 'upper left')\n",
    "plt.show()"
   ]
  },
  {
   "cell_type": "code",
   "execution_count": null,
   "metadata": {
    "scrolled": false
   },
   "outputs": [],
   "source": [
    "region='United Kingdom_nan'\n",
    "eval_var='delta_aprox_14day_case_notification_rate_per_100k_hab'\n",
    "p=t[t['region']==region][['date','region',eval_var]]\n",
    "#\n",
    "p.iloc[len(p)-1,1]=None\n",
    "p=p.set_index(['date'])\n",
    "p[:].plot(marker='*',figsize=(12,8),title ='Last 16 weeks Covid19 confirmed \\\"'+eval_var +'\\\" in '+region)\n",
    "plt.legend(loc = 'upper left')\n",
    "plt.show()"
   ]
  },
  {
   "cell_type": "code",
   "execution_count": null,
   "metadata": {},
   "outputs": [],
   "source": [
    "region='India_nan'\n",
    "eval_var='delta_aprox_14day_case_notification_rate_per_100k_hab'\n",
    "p=t[t['region']==region][['date','region',eval_var]]\n",
    "#\n",
    "p.iloc[len(p)-1,1]=None\n",
    "p=p.set_index(['date'])\n",
    "p[:].plot(marker='*',figsize=(12,8),title ='Last 16 weeks Covid19 confirmed \\\"'+eval_var +'\\\" in '+region)\n",
    "plt.legend(loc = 'upper left')\n",
    "plt.show()"
   ]
  },
  {
   "cell_type": "code",
   "execution_count": null,
   "metadata": {},
   "outputs": [],
   "source": [
    "region='South Africa_nan'\n",
    "eval_var='delta_aprox_14day_case_notification_rate_per_100k_hab'\n",
    "p=t[t['region']==region][['date','region',eval_var]]\n",
    "#\n",
    "p.iloc[len(p)-1,1]=None\n",
    "p=p.set_index(['date'])\n",
    "p[:].plot(marker='*',figsize=(12,8),title ='Last 16 weeks Covid19 confirmed \\\"'+eval_var +'\\\" in '+region)\n",
    "plt.legend(loc = 'upper left')\n",
    "plt.show()"
   ]
  },
  {
   "cell_type": "code",
   "execution_count": null,
   "metadata": {},
   "outputs": [],
   "source": [
    "region='France_nan'\n",
    "eval_var='delta_aprox_14day_case_notification_rate_per_100k_hab'\n",
    "p=t[t['region']==region][['date','region',eval_var]]\n",
    "#\n",
    "p.iloc[len(p)-1,1]=None\n",
    "p=p.set_index(['date'])\n",
    "p[:].plot(marker='*',figsize=(12,8),title ='Last 16 weeks Covid19 confirmed \\\"'+eval_var +'\\\" in '+region)\n",
    "plt.legend(loc = 'upper left')\n",
    "plt.show()"
   ]
  },
  {
   "cell_type": "code",
   "execution_count": null,
   "metadata": {},
   "outputs": [],
   "source": [
    "region='Spain_nan'\n",
    "eval_var='delta_aprox_14day_case_notification_rate_per_100k_hab'\n",
    "p=t[t['region']==region][['date','region',eval_var]]\n",
    "#\n",
    "p.iloc[len(p)-1,1]=None\n",
    "p=p.set_index(['date'])\n",
    "p[:].plot(marker='*',figsize=(12,8),title ='Last 16 weeks Covid19 confirmed \\\"'+eval_var +'\\\" in '+region)\n",
    "plt.legend(loc = 'upper left')\n",
    "plt.show()"
   ]
  },
  {
   "cell_type": "code",
   "execution_count": null,
   "metadata": {},
   "outputs": [],
   "source": [
    "region='Italy_nan'\n",
    "eval_var='delta_aprox_14day_case_notification_rate_per_100k_hab'\n",
    "p=t[t['region']==region][['date','region',eval_var]]\n",
    "#\n",
    "p.iloc[len(p)-1,1]=None\n",
    "p=p.set_index(['date'])\n",
    "p[:].plot(marker='*',figsize=(12,8),title ='Last 16 weeks Covid19 confirmed \\\"'+eval_var +'\\\" in '+region)\n",
    "plt.legend(loc = 'upper left')\n",
    "plt.show()"
   ]
  },
  {
   "cell_type": "code",
   "execution_count": null,
   "metadata": {},
   "outputs": [],
   "source": [
    "region='Germany_nan'\n",
    "eval_var='delta_aprox_14day_case_notification_rate_per_100k_hab'\n",
    "p=t[t['region']==region][['date','region',eval_var]]\n",
    "#\n",
    "p.iloc[len(p)-1,1]=None\n",
    "p=p.set_index(['date'])\n",
    "p[:].plot(marker='*',figsize=(12,8),title ='Last 16 weeks Covid19 confirmed \\\"'+eval_var +'\\\" in '+region)\n",
    "plt.legend(loc = 'upper left')\n",
    "plt.show()"
   ]
  },
  {
   "cell_type": "code",
   "execution_count": null,
   "metadata": {},
   "outputs": [],
   "source": [
    "region='Switzerland_nan'\n",
    "eval_var='delta_aprox_14day_case_notification_rate_per_100k_hab'\n",
    "p=t[t['region']==region][['date','region',eval_var]]\n",
    "#\n",
    "p.iloc[len(p)-1,1]=None\n",
    "p=p.set_index(['date'])\n",
    "p[:].plot(marker='*',figsize=(12,8),title ='Last 16 weeks Covid19 confirmed \\\"'+eval_var +'\\\" in '+region)\n",
    "plt.legend(loc = 'upper left')\n",
    "plt.show()"
   ]
  },
  {
   "cell_type": "code",
   "execution_count": null,
   "metadata": {},
   "outputs": [],
   "source": [
    "region='Belgium_nan'\n",
    "eval_var='delta_aprox_14day_case_notification_rate_per_100k_hab'\n",
    "p=t[t['region']==region][['date','region',eval_var]]\n",
    "#\n",
    "p.iloc[len(p)-1,1]=None\n",
    "p=p.set_index(['date'])\n",
    "p[:].plot(marker='*',figsize=(12,8),title ='Last 16 weeks Covid19 confirmed \\\"'+eval_var +'\\\" in '+region)\n",
    "plt.legend(loc = 'upper left')\n",
    "plt.show()"
   ]
  },
  {
   "cell_type": "code",
   "execution_count": null,
   "metadata": {},
   "outputs": [],
   "source": [
    "region='Netherlands_nan'\n",
    "eval_var='delta_aprox_14day_case_notification_rate_per_100k_hab'\n",
    "p=t[t['region']==region][['date','region',eval_var]]\n",
    "#\n",
    "p.iloc[len(p)-1,1]=None\n",
    "p=p.set_index(['date'])\n",
    "p[:].plot(marker='*',figsize=(12,8),title ='Last 16 weeks Covid19 confirmed \\\"'+eval_var +'\\\" in '+region)\n",
    "plt.legend(loc = 'upper left')\n",
    "plt.show()"
   ]
  },
  {
   "cell_type": "code",
   "execution_count": null,
   "metadata": {},
   "outputs": [],
   "source": [
    "region='Czechia_nan'\n",
    "eval_var='delta_aprox_14day_case_notification_rate_per_100k_hab'\n",
    "p=t[t['region']==region][['date','region',eval_var]]\n",
    "#\n",
    "p.iloc[len(p)-1,1]=None\n",
    "p=p.set_index(['date'])\n",
    "p[:].plot(marker='*',figsize=(12,8),title ='Last 16 weeks Covid19 confirmed \\\"'+eval_var +'\\\" in '+region)\n",
    "plt.legend(loc = 'upper left')\n",
    "plt.show()"
   ]
  },
  {
   "cell_type": "code",
   "execution_count": null,
   "metadata": {
    "scrolled": false
   },
   "outputs": [],
   "source": [
    "region='Portugal_nan'\n",
    "eval_var='delta_aprox_14day_case_notification_rate_per_100k_hab'\n",
    "p=t[t['region']==region][['date','region',eval_var]]\n",
    "#\n",
    "p.iloc[len(p)-1,1]=None\n",
    "p=p.set_index(['date'])\n",
    "p[:].plot(marker='*',figsize=(12,8),title ='Last 16 weeks Covid19 confirmed \\\"'+eval_var +'\\\" in '+region)\n",
    "plt.legend(loc = 'upper left')\n",
    "plt.show()"
   ]
  },
  {
   "cell_type": "code",
   "execution_count": null,
   "metadata": {},
   "outputs": [],
   "source": [
    "#%matplotlib notebook\n",
    "%matplotlib inline"
   ]
  },
  {
   "cell_type": "code",
   "execution_count": null,
   "metadata": {
    "scrolled": false
   },
   "outputs": [],
   "source": [
    "region='United States_nan'\n",
    "eval_var='7_day_change'\n",
    "p=t[t['region']==region][['date','region',eval_var]]\n",
    "#\n",
    "p.iloc[len(p)-1,1]=None\n",
    "p=p.set_index(['date'])\n",
    "p[:].plot(marker='*',figsize=(12,8),title ='Last 16 weeks Covid19 confirmed \\\"'+eval_var +'\\\" in '+region)\n",
    "plt.legend(loc = 'upper left')\n",
    "plt.show()"
   ]
  },
  {
   "cell_type": "code",
   "execution_count": null,
   "metadata": {},
   "outputs": [],
   "source": [
    "region='United Kingdom_nan'\n",
    "eval_var='7_day_change'\n",
    "p=t[t['region']==region][['date','region',eval_var]]\n",
    "#\n",
    "p.iloc[len(p)-1,1]=None\n",
    "p=p.set_index(['date'])\n",
    "p[:].plot(marker='*',figsize=(12,8),title ='Last 16 weeks Covid19 confirmed \\\"'+eval_var +'\\\" in '+region)\n",
    "plt.legend(loc = 'upper left')\n",
    "plt.show()"
   ]
  },
  {
   "cell_type": "code",
   "execution_count": null,
   "metadata": {},
   "outputs": [],
   "source": [
    "region='India_nan'\n",
    "eval_var='7_day_change'\n",
    "p=t[t['region']==region][['date','region',eval_var]]\n",
    "#\n",
    "p.iloc[len(p)-1,1]=None\n",
    "p=p.set_index(['date'])\n",
    "p[:].plot(marker='*',figsize=(12,8),title ='Last 16 weeks Covid19 confirmed \\\"'+eval_var +'\\\" in '+region)\n",
    "plt.legend(loc = 'upper left')\n",
    "plt.show()"
   ]
  },
  {
   "cell_type": "code",
   "execution_count": null,
   "metadata": {},
   "outputs": [],
   "source": [
    "region='South Africa_nan'\n",
    "eval_var='7_day_change'\n",
    "p=t[t['region']==region][['date','region',eval_var]]\n",
    "#\n",
    "p.iloc[len(p)-1,1]=None\n",
    "p=p.set_index(['date'])\n",
    "p[:].plot(marker='*',figsize=(12,8),title ='Last 16 weeks Covid19 confirmed \\\"'+eval_var +'\\\" in '+region)\n",
    "plt.legend(loc = 'upper left')\n",
    "plt.show()"
   ]
  },
  {
   "cell_type": "code",
   "execution_count": null,
   "metadata": {},
   "outputs": [],
   "source": [
    "region='France_nan'\n",
    "eval_var='7_day_change'\n",
    "p=t[t['region']==region][['date','region',eval_var]]\n",
    "#\n",
    "p.iloc[len(p)-1,1]=None\n",
    "p=p.set_index(['date'])\n",
    "p[:].plot(marker='*',figsize=(12,8),title ='Last 16 weeks Covid19 confirmed \\\"'+eval_var +'\\\" in '+region)\n",
    "plt.legend(loc = 'upper left')\n",
    "plt.show()"
   ]
  },
  {
   "cell_type": "code",
   "execution_count": null,
   "metadata": {
    "scrolled": false
   },
   "outputs": [],
   "source": [
    "region='Spain_nan'\n",
    "eval_var='7_day_change'\n",
    "p=t[t['region']==region][['date','region',eval_var]]\n",
    "#\n",
    "p.iloc[len(p)-1,1]=None\n",
    "p=p.set_index(['date'])\n",
    "p[:].plot(marker='*',figsize=(12,8),title ='Last 16 weeks Covid19 confirmed \\\"'+eval_var +'\\\" in '+region)\n",
    "plt.legend(loc = 'upper left')\n",
    "plt.show()"
   ]
  },
  {
   "cell_type": "code",
   "execution_count": null,
   "metadata": {},
   "outputs": [],
   "source": [
    "region='Italy_nan'\n",
    "eval_var='7_day_change'\n",
    "p=t[t['region']==region][['date','region',eval_var]]\n",
    "#\n",
    "p.iloc[len(p)-1,1]=None\n",
    "p=p.set_index(['date'])\n",
    "p[:].plot(marker='*',figsize=(12,8),title ='Last 16 weeks Covid19 confirmed \\\"'+eval_var +'\\\" in '+region)\n",
    "plt.legend(loc = 'upper left')\n",
    "plt.show()"
   ]
  },
  {
   "cell_type": "code",
   "execution_count": null,
   "metadata": {},
   "outputs": [],
   "source": [
    "region='Germany_nan'\n",
    "eval_var='7_day_change'\n",
    "p=t[t['region']==region][['date','region',eval_var]]\n",
    "#\n",
    "p.iloc[len(p)-1,1]=None\n",
    "p=p.set_index(['date'])\n",
    "p[:].plot(marker='*',figsize=(12,8),title ='Last 16 weeks Covid19 confirmed \\\"'+eval_var +'\\\" in '+region)\n",
    "plt.legend(loc = 'upper left')\n",
    "plt.show()"
   ]
  },
  {
   "cell_type": "code",
   "execution_count": null,
   "metadata": {},
   "outputs": [],
   "source": [
    "region='Netherlands_nan'\n",
    "eval_var='7_day_change'\n",
    "p=t[t['region']==region][['date','region',eval_var]]\n",
    "#\n",
    "p.iloc[len(p)-1,1]=None\n",
    "p=p.set_index(['date'])\n",
    "p[:].plot(marker='*',figsize=(12,8),title ='Last 16 weeks Covid19 confirmed \\\"'+eval_var +'\\\" in '+region)\n",
    "plt.legend(loc = 'upper left')\n",
    "plt.show()"
   ]
  },
  {
   "cell_type": "code",
   "execution_count": null,
   "metadata": {},
   "outputs": [],
   "source": [
    "region='Belgium_nan'\n",
    "eval_var='7_day_change'\n",
    "p=t[t['region']==region][['date','region',eval_var]]\n",
    "#\n",
    "p.iloc[len(p)-1,1]=None\n",
    "p=p.set_index(['date'])\n",
    "p[:].plot(marker='*',figsize=(12,8),title ='Last 16 weeks Covid19 confirmed \\\"'+eval_var +'\\\" in '+region)\n",
    "plt.legend(loc = 'upper left')\n",
    "plt.show()"
   ]
  },
  {
   "cell_type": "code",
   "execution_count": null,
   "metadata": {},
   "outputs": [],
   "source": [
    "region='Czechia_nan'\n",
    "eval_var='7_day_change'\n",
    "p=t[t['region']==region][['date','region',eval_var]]\n",
    "#\n",
    "p.iloc[len(p)-1,1]=None\n",
    "p=p.set_index(['date'])\n",
    "p[:].plot(marker='*',figsize=(12,8),title ='Last 16 weeks Covid19 confirmed \\\"'+eval_var +'\\\" in '+region)\n",
    "plt.legend(loc = 'upper left')\n",
    "plt.show()"
   ]
  },
  {
   "cell_type": "code",
   "execution_count": null,
   "metadata": {},
   "outputs": [],
   "source": [
    "region='Portugal_nan'\n",
    "eval_var='7_day_change'\n",
    "p=t[t['region']==region][['date','region',eval_var]]\n",
    "#\n",
    "p.iloc[len(p)-1,1]=None\n",
    "p=p.set_index(['date'])\n",
    "p[:].plot(marker='*',figsize=(12,8),title ='Last 16 weeks Covid19 confirmed \\\"'+eval_var +'\\\" in '+region)\n",
    "plt.legend(loc = 'upper left')\n",
    "plt.show()"
   ]
  },
  {
   "cell_type": "code",
   "execution_count": null,
   "metadata": {},
   "outputs": [],
   "source": [
    "%matplotlib notebook\n",
    "#%matplotlib inline"
   ]
  },
  {
   "cell_type": "code",
   "execution_count": null,
   "metadata": {},
   "outputs": [],
   "source": [
    "%matplotlib notebook\n",
    "#%matplotlib inline"
   ]
  },
  {
   "cell_type": "code",
   "execution_count": null,
   "metadata": {},
   "outputs": [],
   "source": [
    "%matplotlib notebook\n",
    "#%matplotlib inline"
   ]
  },
  {
   "cell_type": "code",
   "execution_count": null,
   "metadata": {},
   "outputs": [],
   "source": [
    "# Warm-Up\n",
    "region='United States_nan'\n",
    "eval_var='delta_roling_7day_AVG'\n",
    "p=t[t['region']==region][['date','region',eval_var]]\n",
    "#\n",
    "p.iloc[len(p)-1,1]=None\n",
    "p=p.set_index(['date'])\n",
    "p[:].plot(marker='*',figsize=(12,8),title ='Last 16 weeks Covid19 confirmed \\\"'+eval_var +'\\\" in '+region)\n",
    "plt.legend(loc = 'upper left')\n",
    "plt.show()\n",
    "plt.savefig(\"heatmaps/Daily-Covid19-Analysis-Spark-SQL-Delta.Lake_matplot.pyplot.\"+region+\".png\")"
   ]
  },
  {
   "cell_type": "code",
   "execution_count": null,
   "metadata": {},
   "outputs": [],
   "source": [
    "%matplotlib notebook\n",
    "#%matplotlib inline"
   ]
  },
  {
   "cell_type": "code",
   "execution_count": null,
   "metadata": {
    "scrolled": false
   },
   "outputs": [],
   "source": [
    "region='United States_nan'\n",
    "eval_var='delta_roling_7day_AVG'\n",
    "p=t[t['region']==region][['date','region',eval_var]]\n",
    "#\n",
    "p.iloc[len(p)-1,1]=None\n",
    "p=p.set_index(['date'])\n",
    "p[:].plot(marker='*',figsize=(12,8),title ='Last 16 weeks Covid19 confirmed \\\"'+eval_var +'\\\" in '+region)\n",
    "plt.legend(loc = 'upper left')\n",
    "plt.show()\n",
    "plt.savefig(\"heatmaps/Daily-Covid19-Analysis-Spark-SQL-Delta.Lake_matplot.pyplot.\"+region+\".png\")"
   ]
  },
  {
   "cell_type": "code",
   "execution_count": null,
   "metadata": {
    "scrolled": false
   },
   "outputs": [],
   "source": [
    "region='United Kingdom_nan'\n",
    "eval_var='delta_roling_7day_AVG'\n",
    "p=t[t['region']==region][['date','region',eval_var]]\n",
    "#\n",
    "p.iloc[len(p)-1,1]=None\n",
    "p=p.set_index(['date'])\n",
    "p[:].plot(marker='*',figsize=(12,8),title ='Last 16 weeks Covid19 confirmed \\\"'+eval_var +'\\\" in '+region)\n",
    "plt.legend(loc = 'upper left')\n",
    "plt.show()\n",
    "plt.savefig(\"heatmaps/Daily-Covid19-Analysis-Spark-SQL-Delta.Lake_matplot.pyplot.\"+region+\".png\")"
   ]
  },
  {
   "cell_type": "code",
   "execution_count": null,
   "metadata": {},
   "outputs": [],
   "source": [
    "region='India_nan'\n",
    "eval_var='delta_roling_7day_AVG'\n",
    "p=t[t['region']==region][['date','region',eval_var]]\n",
    "#\n",
    "p.iloc[len(p)-1,1]=None\n",
    "p=p.set_index(['date'])\n",
    "p[:].plot(marker='*',figsize=(12,8),title ='Last 16 weeks Covid19 confirmed \\\"'+eval_var +'\\\" in '+region)\n",
    "plt.legend(loc = 'upper left')\n",
    "plt.show()\n",
    "plt.savefig(\"heatmaps/Daily-Covid19-Analysis-Spark-SQL-Delta.Lake_matplot.pyplot.\"+region+\".png\")"
   ]
  },
  {
   "cell_type": "code",
   "execution_count": null,
   "metadata": {},
   "outputs": [],
   "source": [
    "region='South Africa_nan'\n",
    "eval_var='delta_roling_7day_AVG'\n",
    "p=t[t['region']==region][['date','region',eval_var]]\n",
    "#\n",
    "p.iloc[len(p)-1,1]=None\n",
    "p=p.set_index(['date'])\n",
    "p[:].plot(marker='*',figsize=(12,8),title ='Last 16 weeks Covid19 confirmed \\\"'+eval_var +'\\\" in '+region)\n",
    "plt.legend(loc = 'upper left')\n",
    "plt.show()\n",
    "plt.savefig(\"heatmaps/Daily-Covid19-Analysis-Spark-SQL-Delta.Lake_matplot.pyplot.\"+region+\".png\")"
   ]
  },
  {
   "cell_type": "code",
   "execution_count": null,
   "metadata": {
    "scrolled": false
   },
   "outputs": [],
   "source": [
    "region='France_nan'\n",
    "eval_var='delta_roling_7day_AVG'\n",
    "p=t[t['region']==region][['date','region',eval_var]]\n",
    "#\n",
    "p.iloc[len(p)-1,1]=None\n",
    "p=p.set_index(['date'])\n",
    "p[:].plot(marker='*',figsize=(12,8),title ='Last 16 weeks Covid19 confirmed \\\"'+eval_var +'\\\" in '+region)\n",
    "plt.legend(loc = 'upper left')\n",
    "plt.show()\n",
    "plt.savefig(\"heatmaps/Daily-Covid19-Analysis-Spark-SQL-Delta.Lake_matplot.pyplot.\"+region+\".png\")"
   ]
  },
  {
   "cell_type": "code",
   "execution_count": null,
   "metadata": {
    "scrolled": false
   },
   "outputs": [],
   "source": [
    "region='Spain_nan'\n",
    "eval_var='delta_roling_7day_AVG'\n",
    "p=t[t['region']==region][['date','region',eval_var]]\n",
    "#\n",
    "p.iloc[len(p)-1,1]=None\n",
    "p=p.set_index(['date'])\n",
    "p[:].plot(marker='*',figsize=(12,8),title ='Last 16 weeks Covid19 confirmed \\\"'+eval_var +'\\\" in '+region)\n",
    "plt.legend(loc = 'upper left')\n",
    "plt.show()\n",
    "plt.savefig(\"heatmaps/Daily-Covid19-Analysis-Spark-SQL-Delta.Lake_matplot.pyplot.\"+region+\".png\")"
   ]
  },
  {
   "cell_type": "code",
   "execution_count": null,
   "metadata": {},
   "outputs": [],
   "source": [
    "region='Italy_nan'\n",
    "eval_var='delta_roling_7day_AVG'\n",
    "p=t[t['region']==region][['date','region',eval_var]]\n",
    "#\n",
    "p.iloc[len(p)-1,1]=None\n",
    "p=p.set_index(['date'])\n",
    "p[:].plot(marker='*',figsize=(12,8),title ='Last 16 weeks Covid19 confirmed \\\"'+eval_var +'\\\" in '+region)\n",
    "plt.legend(loc = 'upper left')\n",
    "plt.show()\n",
    "plt.savefig(\"heatmaps/Daily-Covid19-Analysis-Spark-SQL-Delta.Lake_matplot.pyplot.\"+region+\".png\")"
   ]
  },
  {
   "cell_type": "code",
   "execution_count": null,
   "metadata": {
    "scrolled": false
   },
   "outputs": [],
   "source": [
    "region='Germany_nan'\n",
    "eval_var='delta_roling_7day_AVG'\n",
    "p=t[t['region']==region][['date','region',eval_var]]\n",
    "#\n",
    "p.iloc[len(p)-1,1]=None\n",
    "p=p.set_index(['date'])\n",
    "p[:].plot(marker='*',figsize=(12,8),title ='Last 16 weeks Covid19 confirmed \\\"'+eval_var +'\\\" in '+region)\n",
    "plt.legend(loc = 'upper left')\n",
    "plt.show()\n",
    "plt.savefig(\"heatmaps/Daily-Covid19-Analysis-Spark-SQL-Delta.Lake_matplot.pyplot.\"+region+\".png\")"
   ]
  },
  {
   "cell_type": "code",
   "execution_count": null,
   "metadata": {},
   "outputs": [],
   "source": [
    "region='Switzerland_nan'\n",
    "eval_var='delta_roling_7day_AVG'\n",
    "p=t[t['region']==region][['date','region',eval_var]]\n",
    "#\n",
    "p.iloc[len(p)-1,1]=None\n",
    "p=p.set_index(['date'])\n",
    "p[:].plot(marker='*',figsize=(12,8),title ='Last 16 weeks Covid19 confirmed \\\"'+eval_var +'\\\" in '+region)\n",
    "plt.legend(loc = 'upper left')\n",
    "plt.show()\n",
    "plt.savefig(\"heatmaps/Daily-Covid19-Analysis-Spark-SQL-Delta.Lake_matplot.pyplot.\"+region+\".png\")"
   ]
  },
  {
   "cell_type": "code",
   "execution_count": null,
   "metadata": {},
   "outputs": [],
   "source": [
    "region='Belgium_nan'\n",
    "eval_var='delta_roling_7day_AVG'\n",
    "p=t[t['region']==region][['date','region',eval_var]]\n",
    "#\n",
    "p.iloc[len(p)-1,1]=None\n",
    "p=p.set_index(['date'])\n",
    "p[:].plot(marker='*',figsize=(12,8),title ='Last 16 weeks Covid19 confirmed \\\"'+eval_var +'\\\" in '+region)\n",
    "plt.legend(loc = 'upper left')\n",
    "plt.show()\n",
    "plt.savefig(\"heatmaps/Daily-Covid19-Analysis-Spark-SQL-Delta.Lake_matplot.pyplot.\"+region+\".png\")"
   ]
  },
  {
   "cell_type": "code",
   "execution_count": null,
   "metadata": {
    "scrolled": false
   },
   "outputs": [],
   "source": [
    "region='Netherlands_nan'\n",
    "eval_var='delta_roling_7day_AVG'\n",
    "p=t[t['region']==region][['date','region',eval_var]]\n",
    "#\n",
    "p.iloc[len(p)-1,1]=None\n",
    "p=p.set_index(['date'])\n",
    "p[:].plot(marker='*',figsize=(12,8),title ='Last 16 weeks Covid19 confirmed \\\"'+eval_var +'\\\" in '+region)\n",
    "plt.legend(loc = 'upper left')\n",
    "plt.show()\n",
    "plt.savefig(\"heatmaps/Daily-Covid19-Analysis-Spark-SQL-Delta.Lake_matplot.pyplot.\"+region+\".png\")"
   ]
  },
  {
   "cell_type": "code",
   "execution_count": null,
   "metadata": {
    "scrolled": false
   },
   "outputs": [],
   "source": [
    "region='Czechia_nan'\n",
    "eval_var='delta_roling_7day_AVG'\n",
    "p=t[t['region']==region][['date','region',eval_var]]\n",
    "#\n",
    "p.iloc[len(p)-1,1]=None\n",
    "p=p.set_index(['date'])\n",
    "p[:].plot(marker='*',figsize=(12,8),title ='Last 16 weeks Covid19 confirmed \\\"'+eval_var +'\\\" in '+region)\n",
    "plt.legend(loc = 'upper left')\n",
    "plt.show()\n",
    "plt.savefig(\"heatmaps/Daily-Covid19-Analysis-Spark-SQL-Delta.Lake_matplot.pyplot.\"+region+\".png\")"
   ]
  },
  {
   "cell_type": "code",
   "execution_count": null,
   "metadata": {},
   "outputs": [],
   "source": [
    "region='Portugal_nan'\n",
    "eval_var='delta_roling_7day_AVG'\n",
    "p=t[t['region']==region][['date','region',eval_var]]\n",
    "#\n",
    "p.iloc[len(p)-1,1]=None\n",
    "p=p.set_index(['date'])\n",
    "p[:].plot(marker='*',figsize=(12,8),title ='Last 16 weeks Covid19 confirmed \\\"'+eval_var +'\\\" in '+region)\n",
    "plt.legend(loc = 'upper left')\n",
    "plt.show()\n",
    "plt.savefig(\"heatmaps/Daily-Covid19-Analysis-Spark-SQL-Delta.Lake_matplot.pyplot.\"+region+\".png\")"
   ]
  },
  {
   "cell_type": "code",
   "execution_count": null,
   "metadata": {},
   "outputs": [],
   "source": [
    "print(\"Validation Analysis \"+anltdate+\" : 1day-Forecast and last 16 weeks plot for https://FuelBigData.com/blog is done!\")"
   ]
  },
  {
   "cell_type": "code",
   "execution_count": null,
   "metadata": {},
   "outputs": [],
   "source": [
    "import os\n",
    "os.system(\"sleep 5\")"
   ]
  },
  {
   "cell_type": "code",
   "execution_count": null,
   "metadata": {},
   "outputs": [],
   "source": [
    "exit()"
   ]
  },
  {
   "cell_type": "code",
   "execution_count": null,
   "metadata": {},
   "outputs": [],
   "source": []
  }
 ],
 "metadata": {
  "celltoolbar": "Raw Cell Format",
  "kernelspec": {
   "display_name": "Python 3",
   "language": "python",
   "name": "python3"
  },
  "language_info": {
   "codemirror_mode": {
    "name": "ipython",
    "version": 3
   },
   "file_extension": ".py",
   "mimetype": "text/x-python",
   "name": "python",
   "nbconvert_exporter": "python",
   "pygments_lexer": "ipython3",
   "version": "3.7.7"
  }
 },
 "nbformat": 4,
 "nbformat_minor": 2
}
