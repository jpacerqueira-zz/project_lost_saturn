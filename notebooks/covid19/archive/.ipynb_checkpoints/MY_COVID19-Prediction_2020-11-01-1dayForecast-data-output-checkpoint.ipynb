{
 "cells": [
  {
   "cell_type": "markdown",
   "metadata": {},
   "source": [
    "Please Follow this Docker container installation process in your MacBook/Laptop before running this Python+R Notebook below.\n",
    "\n",
    "  - Installation setup of environment where this notebook runs can be found i \n",
    "  Container with Jupyter+H2o.ai+Python3+R+Spark in this [link_here](https://github.com/jpacerqueira/project_lost_saturn)\n",
    "  \n",
    "  Also :\n",
    "  - You need a Strong bandwith the install the Container environment it takes about 10-11 minutes to finish.\n",
    "  \n",
    "  - Good Luck,  stay safe! But investigate Corona virus(covid-19 or SARS-Cov-2) in your area and give the information back to the comunity!\n"
   ]
  },
  {
   "cell_type": "markdown",
   "metadata": {
    "colab_type": "text",
    "id": "f1S90bdBVIaK"
   },
   "source": [
    "# CoronaVirus Prediction"
   ]
  },
  {
   "cell_type": "markdown",
   "metadata": {},
   "source": [
    "### Number of Day to Predict 1"
   ]
  },
  {
   "cell_type": "code",
   "execution_count": 1,
   "metadata": {},
   "outputs": [],
   "source": [
    "num_days_R_prediction=1"
   ]
  },
  {
   "cell_type": "code",
   "execution_count": 2,
   "metadata": {},
   "outputs": [],
   "source": [
    "#!pip install rpy2\n",
    "import rpy2\n",
    "%load_ext rpy2.ipython\n",
    "%Rpush num_days_R_prediction"
   ]
  },
  {
   "cell_type": "code",
   "execution_count": 3,
   "metadata": {},
   "outputs": [],
   "source": [
    "%%R\n",
    "max_days_prediction<-num_days_R_prediction"
   ]
  },
  {
   "cell_type": "code",
   "execution_count": null,
   "metadata": {},
   "outputs": [],
   "source": [
    "bypass_weather=1 # =1 bypass weather_pi api calls\n",
    "#\n",
    "number_past_days_training=27 # =(6/14) * num_days_R_prediction  # Number of Past days on training # max to be on 6.Feb.2020\n",
    "#\n",
    "max_countries_map=51\n",
    "#\n",
    "## DROP_N=0   => 22/01\n",
    "## DROP_N=15  => 06/02\n",
    "## DROP_N=45  => 08/03\n",
    "## DROP_N=75  => 07/04\n",
    "## DROP_N=145 => 08/06\n",
    "#\n",
    "drop_n_dataset_days=0 #15\n",
    "#"
   ]
  },
  {
   "cell_type": "markdown",
   "metadata": {},
   "source": [
    "## Regression - 1 Day Prediction"
   ]
  },
  {
   "cell_type": "code",
   "execution_count": null,
   "metadata": {},
   "outputs": [
    {
     "name": "stdout",
     "output_type": "stream",
     "text": [
      "Checking whether there is an H2O instance running at http://localhost:54321 ..... not found.\n",
      "Attempting to start a local H2O server...\n",
      "  Java Version: openjdk version \"11.0.9\" 2020-10-20; OpenJDK Runtime Environment (build 11.0.9+11-Ubuntu-0ubuntu1.18.04.1); OpenJDK 64-Bit Server VM (build 11.0.9+11-Ubuntu-0ubuntu1.18.04.1, mixed mode, sharing)\n",
      "  Starting server from /home/notebookuser/anaconda3/lib/python3.7/site-packages/h2o/backend/bin/h2o.jar\n",
      "  Ice root: /tmp/tmpzc6_el23\n",
      "  JVM stdout: /tmp/tmpzc6_el23/h2o_unknownUser_started_from_python.out\n",
      "  JVM stderr: /tmp/tmpzc6_el23/h2o_unknownUser_started_from_python.err\n"
     ]
    }
   ],
   "source": [
    "#!pip install h2o\n",
    "import h2o\n",
    "from h2o.estimators import H2ORandomForestEstimator\n",
    "from h2o.estimators.glm import H2OGeneralizedLinearEstimator\n",
    "from h2o.grid.grid_search import H2OGridSearch\n",
    "h2o.init(min_mem_size='3G')\n",
    "import numpy as np\n",
    "from sklearn.linear_model import LinearRegression"
   ]
  },
  {
   "cell_type": "markdown",
   "metadata": {},
   "source": [
    "### Load Data from Github - John Hopkins Institute "
   ]
  },
  {
   "cell_type": "code",
   "execution_count": null,
   "metadata": {},
   "outputs": [],
   "source": [
    "# Get data from Github\n",
    "import numpy as np\n",
    "from math import sqrt\n",
    "from sklearn.metrics import mean_squared_error\n",
    "import pandas as pd\n",
    "\n",
    "#url_1 = 'https://raw.githubusercontent.com/CSSEGISandData/COVID-19/master/csse_covid_19_data/csse_covid_19_time_series/time_series_19-covid-Confirmed.csv'\n",
    "url_1 = 'https://github.com/CSSEGISandData/COVID-19/raw/master/csse_covid_19_data/csse_covid_19_time_series/time_series_covid19_confirmed_global.csv'\n",
    "confirmed = pd.read_csv(url_1, error_bad_lines=False)\n",
    "\n",
    "#url_2 = 'https://raw.githubusercontent.com/CSSEGISandData/COVID-19/master/csse_covid_19_data/csse_covid_19_time_series/time_series_19-covid-Deaths.csv'\n",
    "url_2 = 'https://github.com/CSSEGISandData/COVID-19/raw/master/csse_covid_19_data/csse_covid_19_time_series/time_series_covid19_deaths_global.csv'\n",
    "death = pd.read_csv(url_2, error_bad_lines=False)\n",
    "\n",
    "#url_3 = 'https://raw.githubusercontent.com/CSSEGISandData/COVID-19/master/csse_covid_19_data/csse_covid_19_time_series/time_series_19-covid-Recovered.csv'\n",
    "url_3 = 'https://github.com/CSSEGISandData/COVID-19/raw/master/csse_covid_19_data/csse_covid_19_time_series/time_series_covid19_recovered_global.csv'\n",
    "recover = pd.read_csv(url_3, error_bad_lines=False)\n",
    "\n",
    "# fix region names\n",
    "confirmed['Country/Region']= confirmed['Country/Region'].str.replace(\"Mainland China\", \"China\")\n",
    "confirmed['Country/Region']= confirmed['Country/Region'].str.replace(\"US\", \"United States\")\n",
    "\n",
    "death['Country/Region']= death['Country/Region'].str.replace(\"Mainland China\", \"China\")\n",
    "death['Country/Region']= death['Country/Region'].str.replace(\"US\", \"United States\")\n",
    "\n",
    "recover['Country/Region']= recover['Country/Region'].str.replace(\"Mainland China\", \"China\")\n",
    "recover['Country/Region']= recover['Country/Region'].str.replace(\"US\", \"United States\")"
   ]
  },
  {
   "cell_type": "code",
   "execution_count": null,
   "metadata": {
    "scrolled": true
   },
   "outputs": [],
   "source": [
    "confirmed.iloc[:,:]"
   ]
  },
  {
   "cell_type": "markdown",
   "metadata": {
    "colab_type": "text",
    "id": "Vvb-N49UipcR"
   },
   "source": [
    "## Get Population"
   ]
  },
  {
   "cell_type": "code",
   "execution_count": null,
   "metadata": {
    "colab": {},
    "colab_type": "code",
    "id": "2h7I0zT9kmFS"
   },
   "outputs": [],
   "source": [
    "population=pd.read_csv('/home/notebookuser/notebooks/covid19/data/population.csv', sep=',', encoding='latin1') \n",
    "confirmed=pd.merge(confirmed, population,how='left' ,on=['Province/State','Country/Region'])\n",
    "death=pd.merge(death, population,how='left' ,on=['Province/State','Country/Region'])\n",
    "recover=pd.merge(recover, population,how='left' ,on=['Province/State','Country/Region'])"
   ]
  },
  {
   "cell_type": "code",
   "execution_count": null,
   "metadata": {
    "colab": {
     "base_uri": "https://localhost:8080/",
     "height": 224
    },
    "colab_type": "code",
    "executionInfo": {
     "elapsed": 906,
     "status": "ok",
     "timestamp": 1582444047902,
     "user": {
      "displayName": "Ran Kremer",
      "photoUrl": "https://lh3.googleusercontent.com/a-/AAuE7mB2_ZiPPU7rQBIvIt172EuazLz5955iIqYS5NAMAQ=s64",
      "userId": "05457805718113099013"
     },
     "user_tz": -120
    },
    "id": "4_P8_F9poBQk",
    "outputId": "28901cce-a647-4d3c-afd2-5ccfaa18fd9d"
   },
   "outputs": [],
   "source": [
    "# merge region confirmed + death + recover\n",
    "confirmed['region']=confirmed['Country/Region'].map(str)+'_'+confirmed['Province/State'].map(str)\n",
    "death['region']=death['Country/Region'].map(str)+'_'+death['Province/State'].map(str)\n",
    "recover['region']=recover['Country/Region'].map(str)+'_'+recover['Province/State'].map(str)\n",
    "confirmed.iloc[:,:]"
   ]
  },
  {
   "cell_type": "code",
   "execution_count": null,
   "metadata": {},
   "outputs": [],
   "source": [
    "# merge region death\n",
    "death.iloc[185:195,:]"
   ]
  },
  {
   "cell_type": "code",
   "execution_count": null,
   "metadata": {
    "scrolled": true
   },
   "outputs": [],
   "source": [
    "# merge region recover\n",
    "recover.iloc[175:185,:]"
   ]
  },
  {
   "cell_type": "code",
   "execution_count": null,
   "metadata": {
    "scrolled": true
   },
   "outputs": [],
   "source": [
    "confirmed.iloc[185:195,:]"
   ]
  },
  {
   "cell_type": "code",
   "execution_count": null,
   "metadata": {},
   "outputs": [],
   "source": [
    "confirmed.iloc[220:230,:]"
   ]
  },
  {
   "cell_type": "markdown",
   "metadata": {
    "colab_type": "text",
    "id": "2dJhgqRCVgBV"
   },
   "source": [
    "## Create Time Series + Plots"
   ]
  },
  {
   "cell_type": "code",
   "execution_count": null,
   "metadata": {
    "colab": {},
    "colab_type": "code",
    "id": "V21PYZNdlf5m"
   },
   "outputs": [],
   "source": [
    "def create_ts(df):\n",
    "  ts=df\n",
    "  ts=ts.drop(['Province/State', 'Country/Region','Lat', 'Long',' Population '], axis=1)\n",
    "  ts.set_index('region')\n",
    "  ts=ts.T\n",
    "  ts.columns=ts.loc['region']\n",
    "  ts=ts.drop('region')\n",
    "  ts=ts.fillna(0)\n",
    "  ts=ts.reindex(sorted(ts.columns), axis=1)\n",
    "  return (ts)"
   ]
  },
  {
   "cell_type": "code",
   "execution_count": null,
   "metadata": {
    "colab": {},
    "colab_type": "code",
    "id": "7XmTDuNDlx-k"
   },
   "outputs": [],
   "source": [
    "## JOAO - Fix - Drop Duplicates # Keep Last # Issue With Data source Change from John Hopkins institute\n",
    "#\n",
    "ts=create_ts(confirmed.drop_duplicates(subset=['region'], keep='last', inplace=False) )\n",
    "ts_d=create_ts(death.drop_duplicates(subset=['region'], keep='last', inplace=False) )\n",
    "ts_rec=create_ts(recover.drop_duplicates(subset=['region'], keep='last', inplace=False) )"
   ]
  },
  {
   "cell_type": "code",
   "execution_count": null,
   "metadata": {},
   "outputs": [],
   "source": [
    "# JOAO - FIX - Automation WarmUp of Plot Library\n",
    "import matplotlib.pyplot as plt\n",
    "import time\n",
    "plt.legend(loc = 'upper left')\n",
    "plt.show()"
   ]
  },
  {
   "cell_type": "code",
   "execution_count": null,
   "metadata": {
    "colab": {
     "base_uri": "https://localhost:8080/",
     "height": 1000
    },
    "colab_type": "code",
    "executionInfo": {
     "elapsed": 2666,
     "status": "ok",
     "timestamp": 1582444057086,
     "user": {
      "displayName": "Ran Kremer",
      "photoUrl": "https://lh3.googleusercontent.com/a-/AAuE7mB2_ZiPPU7rQBIvIt172EuazLz5955iIqYS5NAMAQ=s64",
      "userId": "05457805718113099013"
     },
     "user_tz": -120
    },
    "id": "jOOwU-KzPssI",
    "outputId": "19b97499-f8c5-460e-f173-aa44515444ec",
    "scrolled": false
   },
   "outputs": [],
   "source": [
    "#\n",
    "p=ts.reindex(ts.max().sort_values(ascending=False).index, axis=1)\n",
    "p.iloc[:,0:3].plot(marker='*',figsize=(20,12)).set_title('Daily Update - Total Confirmed - Top_3 World Region ',fontdict={'fontsize': 22})\n",
    "p.iloc[:,3:25].plot(marker='*',figsize=(20,12)).set_title('Daily Update - Total Confirmed - Major_4,25 2nd Areas',fontdict={'fontsize': 22})\n",
    "\n",
    "p_d=ts_d.reindex(ts_d.max().sort_values(ascending=False).index, axis=1)\n",
    "p_d.iloc[:,0:3].plot(marker='*',figsize=(20,12)).set_title('Daily Update - Total Deaths - Top_3 World Region',fontdict={'fontsize': 22})\n",
    "p_d.iloc[:,3:25].plot(marker='*',figsize=(20,12)).set_title('Daily Update - Total Deaths - Major_4,25 2nd Areas',fontdict={'fontsize': 22})\n",
    "\n",
    "p_r=ts_rec.reindex(ts_rec.max().sort_values(ascending=False).index, axis=1)\n",
    "p_r.iloc[:,0:3].plot(marker='*',figsize=(20,12)).set_title('Daily Update - Total Recovered - Top_3 World Region',fontdict={'fontsize': 22})\n",
    "p_r.iloc[:,3:25].plot(marker='*',figsize=(20,12)).set_title('Daily Update - Total Recovered - Major_4,25 2nd Areas',fontdict={'fontsize': 22})"
   ]
  },
  {
   "cell_type": "markdown",
   "metadata": {
    "colab_type": "text",
    "id": "EsVRIFMLoV_3"
   },
   "source": [
    "### Extract Weather Data"
   ]
  },
  {
   "cell_type": "code",
   "execution_count": null,
   "metadata": {
    "colab": {},
    "colab_type": "code",
    "id": "LwxsJMRHoQKS"
   },
   "outputs": [],
   "source": [
    "#!pip install pyweatherbit\n",
    "#\n",
    "from weatherbit.api import Api\n",
    "import json  \n",
    "import pandas as pd  \n",
    "from pandas.io.json import json_normalize \n",
    "\n",
    "### API - Joao\n",
    "from datetime import datetime\n",
    "#\n",
    "#api_key=\"46f953cbca334ea1b85ab5d47dbc9aa0\" # joao@fuelbigdata.com\n",
    "api_key=\"27a4e12ebc7f41b2bd6e300015f1a090\" # jpacerqueira.consult.bigdata@gmail.com\n",
    "#\n",
    "\n",
    "api = Api(api_key)\n",
    "api.set_granularity('daily')\n",
    "\n",
    "# # Set the granularity of the API - Options: ['daily','hourly','3hourly']\n",
    "# # Will only affect forecast requests.\n",
    "\n",
    "#api.get_forecast(lat='Lat', lon='Lon')\n",
    "#my_end_date=datetime.today().strftime('%Y-%m-%d')\n",
    "\n",
    "#### United Kingdom\n",
    "#lat1='55.378100'\n",
    "#lon1='-3.436000'\n",
    "#api.get_history(lat=lat1,lon=lon1, start_date='2020-03-29',end_date=my_end_date)\n"
   ]
  },
  {
   "cell_type": "code",
   "execution_count": null,
   "metadata": {},
   "outputs": [],
   "source": [
    "##\n",
    "#### My List of Countries and Regions to train and represent data\n",
    "my_train_list=[\n",
    " ### JOAO - LIST of Countries - Start here\n",
    "     #   'Andorra_nan', \n",
    "        'United States_nan',\n",
    "        'United Kingdom_nan',\n",
    "        'Italy_nan',\n",
    "        'Spain_nan',  \n",
    "        'Netherlands_nan',\n",
    "        'France_nan', \n",
    "        'Belgium_nan',\n",
    "        'Portugal_nan',\n",
    "        'Switzerland_nan',\n",
    "        'Germany_nan',\n",
    "        'Japan_nan',\n",
    "        'Poland_nan',\n",
    "  ### JOAO - LIST of Countries - Finish here\n",
    "        'Korea, South_nan',\n",
    "        'China_Hubei',\n",
    "        'China_Beijing',\n",
    "        'China_Guangdong',\n",
    "        'China_Shanghai',\n",
    "      #  'China_Shanxi',\n",
    "      #  'China_Sichuan',  'China_Xinjiang',\n",
    "      #  'China_Yunnan', 'China_Zhejiang',\n",
    "      #  'China_Anhui', 'China_Beijing',\n",
    "      #  'China_Chongqing', 'China_Fujian', 'China_Gansu',\n",
    "      #  'China_Guangdong', 'China_Guangxi', 'China_Guizhou',\n",
    "      #  'China_Hainan', 'China_Hebei', 'China_Heilongjiang', 'China_Henan',\n",
    "      #  'China_Hubei', 'China_Hunan', 'China_Inner Mongolia',\n",
    "      #  'China_Jiangsu', 'China_Jiangxi', 'China_Jilin', 'China_Liaoning',\n",
    "      #  'China_Ningxia', 'China_Qinghai', 'China_Shaanxi',\n",
    "      #  'China_Shandong', 'China_Shanghai', 'China_Shanxi',\n",
    "      #  'China_Sichuan', 'China_Tianjin', 'China_Tibet', 'China_Xinjiang',\n",
    "      #  'China_Yunnan', 'China_Zhejiang',\n",
    "      #  'Morocco_nan',\n",
    "        'Australia_New South Wales',\n",
    "      # 'Australia_Queensland',\n",
    "      # 'Australia_South Australia', 'Australia_Victoria', \n",
    "        'Brazil_nan',\n",
    "      # 'Cambodia_nan',\n",
    "      # 'Canada_British Columbia',\n",
    "        'Canada_Ontario',\n",
    "        'Canada_Quebec',\n",
    "      # 'Egypt_nan',\n",
    "        'China_Hong Kong',\n",
    "        'China_Macau',\n",
    "        'Finland_nan',\n",
    "        'India_nan',\n",
    "        'Iran_nan',\n",
    "        'Malaysia_nan',\n",
    "      # 'Nepal_nan',\n",
    "        'Norway_nan',\n",
    "        'Philippines_nan', 'Russia_nan', 'Singapore_nan',\n",
    "     #  'Sri Lanka_nan', 'Thailand_nan', 'United Arab Emirates_nan',\n",
    "        'Sweden_nan',\n",
    "        'Austria_nan',\n",
    "     #  'Taiwan*_nan', \n",
    "     #  'Vietnam_nan',\n",
    "        'Turkey_nan',\n",
    "        'Peru_nan',\n",
    "        'Chile_nan',\n",
    "        'Mexico_nan'\n",
    "       ]\n",
    "#"
   ]
  },
  {
   "cell_type": "markdown",
   "metadata": {
    "colab_type": "text",
    "id": "6BthA7XNoBnx"
   },
   "source": [
    "#### Weather History"
   ]
  },
  {
   "cell_type": "code",
   "execution_count": null,
   "metadata": {
    "colab": {},
    "colab_type": "code",
    "id": "eEriYmKdoFaN"
   },
   "outputs": [],
   "source": [
    "# ################## already done since API is limited to 500 call per day\n",
    "## consume Wether data From 15/03/2020 forward to end_date=30/03/2020\n",
    "#\n",
    "### Location in confirmed array to start in pos 1='Albania_nan' 61 = 'China_Hong Kong'\n",
    "### Only run for Countries in above : my_train_list \n",
    "vpos=len(confirmed.iloc[1])-1 #90# 89 #88 #87 #86 #85 #84 #83 #82 #81 #80 #79 #78 #77 #76 #75 #74 #1 #73\n",
    "print('xcountry_region='+confirmed.iloc[1,vpos])\n",
    "\n",
    "my_weather_fetch_list= my_train_list # ['Canada_Quebec'] #  ['Iran_nan'] #['Brazil_nan'] #\n",
    "\n",
    "start_date_init=pd.to_datetime('today').strftime('%Y/%m/%d') # '2020-04-18'\n",
    "print('start_date_init=',start_date_init)\n",
    "offset_days=-1 # -1 to start yesterday pick today # API free-tier just picks one per api call!\n",
    "max_days=1 #1\n",
    "\n",
    "w=pd.DataFrame(columns=['date','region','min','max'])\n",
    "if bypass_weather != 1 :\n",
    "    for h in range(0,max_days):\n",
    "        offset_days=h\n",
    "        start_date=pd.to_datetime(start_date_init)\n",
    "        #\n",
    "        end_date=(start_date+pd.DateOffset(days=offset_days+1)).strftime('%Y-%m-%d')\n",
    "        start_date=(start_date+pd.DateOffset(days=offset_days)).strftime('%Y-%m-%d')\n",
    "        prnt_start_date=pd.to_datetime(start_date).strftime('%Y/%m/%d')\n",
    "        prnt_end_date=pd.to_datetime(end_date).strftime('%Y/%m/%d')\n",
    "        #\n",
    "        for i in range (1,len(confirmed)):\n",
    "            if confirmed.iloc[i,vpos] not in my_weather_fetch_list:\n",
    "                continue\n",
    "            if confirmed.iloc[i,vpos] in my_weather_fetch_list:\n",
    "                #\n",
    "                # Clean JSON structure return from API Call\n",
    "                jas=\"\"\n",
    "                jas=api.get_history(lat=confirmed.iloc[i,2], lon=confirmed.iloc[i,3], start_date=start_date,end_date=end_date).json\n",
    "                if (((json_normalize(jas['data'])['min_temp'].values[0])=='')\n",
    "                     or (np.isnan((json_normalize(jas['data'])['min_temp'].values[0])) == True )):\n",
    "                    continue\n",
    "                try:\n",
    "                    w=w.append({'date':prnt_end_date,'region':confirmed.iloc[i,vpos] ,'min':json_normalize(jas['data'])['min_temp'].values[0],'max':json_normalize(jas['data'])['max_temp'].values[0]}, ignore_index=True)\n",
    "                except Exception:\n",
    "                    w=w.append({'date':prnt_end_date,'region':confirmed.iloc[i,vpos] ,'min':None,'max':None}, ignore_index=True)\n",
    "    #        \n",
    "#\n",
    "table_columns=['date','region','min','max']\n",
    "w = w[w.columns.intersection(table_columns)]"
   ]
  },
  {
   "cell_type": "code",
   "execution_count": null,
   "metadata": {},
   "outputs": [],
   "source": [
    "w.to_csv('data/w_v2_v227.csv', index = False, header=True)"
   ]
  },
  {
   "cell_type": "code",
   "execution_count": null,
   "metadata": {},
   "outputs": [],
   "source": [
    "w[:]"
   ]
  },
  {
   "cell_type": "markdown",
   "metadata": {
    "colab_type": "text",
    "id": "DP96GEhbXKL1"
   },
   "source": [
    "## Kalman Filter With R"
   ]
  },
  {
   "cell_type": "code",
   "execution_count": null,
   "metadata": {},
   "outputs": [],
   "source": [
    "# Joao - FIX - Improve Performance \n",
    "### Drop the Months of Jan, Feb < 06/02 as\n",
    "### they are too in the Past and model no longuer trains in China Hubei only!\n",
    "#\n",
    "## DROP_N=75 => 07/04\n",
    "\n",
    "drop_n=drop_n_dataset_days\n",
    "\n",
    "ts=ts[drop_n:]\n",
    "ts_d=ts_d[drop_n:]\n",
    "ts_rec=ts_rec[drop_n:]"
   ]
  },
  {
   "cell_type": "code",
   "execution_count": null,
   "metadata": {},
   "outputs": [],
   "source": [
    "ts[:3]"
   ]
  },
  {
   "cell_type": "code",
   "execution_count": null,
   "metadata": {},
   "outputs": [],
   "source": [
    "ts[-4:]"
   ]
  },
  {
   "cell_type": "code",
   "execution_count": null,
   "metadata": {
    "colab": {},
    "colab_type": "code",
    "id": "ie1YVvCXgybm"
   },
   "outputs": [],
   "source": [
    "# Create data for R script\n",
    "ts_conf=ts.reset_index()\n",
    "ts_conf=ts_conf.rename(columns = {'index':'date'})\n",
    "ts_conf['date']=pd.to_datetime(ts_conf['date'] ,errors ='coerce')\n",
    "ts_conf.to_csv(r'/home/notebookuser/notebooks/covid19/data/ts_conf_r.csv')\n",
    "\n",
    "ts_rec=ts_rec.reset_index()\n",
    "ts_rec=ts_rec.rename(columns = {'index':'date'})\n",
    "ts_rec['date']=pd.to_datetime(ts_rec['date'] ,errors ='coerce')\n",
    "ts_rec.to_csv(r'/home/notebookuser/notebooks/covid19/data/ts_rec_r.csv')\n",
    "\n",
    "\n",
    "ts_d=ts_d.reset_index()\n",
    "ts_d=ts_d.rename(columns = {'index':'date'})\n",
    "ts_d['date']=pd.to_datetime(ts_d['date'] ,errors ='coerce')\n",
    "ts_d.to_csv(r'/home/notebookuser/notebooks/covid19/data/ts_d_r.csv')\n"
   ]
  },
  {
   "cell_type": "code",
   "execution_count": null,
   "metadata": {
    "colab": {
     "base_uri": "https://localhost:8080/",
     "height": 629
    },
    "colab_type": "code",
    "executionInfo": {
     "elapsed": 19024,
     "status": "ok",
     "timestamp": 1582444082482,
     "user": {
      "displayName": "Ran Kremer",
      "photoUrl": "https://lh3.googleusercontent.com/a-/AAuE7mB2_ZiPPU7rQBIvIt172EuazLz5955iIqYS5NAMAQ=s64",
      "userId": "05457805718113099013"
     },
     "user_tz": -120
    },
    "id": "ngrkbpXcprcN",
    "outputId": "b79bf710-1544-449f-9d07-411cc2efcda5"
   },
   "outputs": [],
   "source": [
    "%%R\n",
    "\n",
    "#install.packages('pracma')\n",
    "#install.packages('Metrics')\n",
    "#install.packages('readr')\n",
    "#install.packages('reshape')\n",
    "\n",
    "Sys.setenv(TZ='GMT')\n",
    "Sys.timezone()"
   ]
  },
  {
   "cell_type": "code",
   "execution_count": null,
   "metadata": {
    "colab": {
     "base_uri": "https://localhost:8080/",
     "height": 238
    },
    "colab_type": "code",
    "executionInfo": {
     "elapsed": 2026,
     "status": "ok",
     "timestamp": 1582444084537,
     "user": {
      "displayName": "Ran Kremer",
      "photoUrl": "https://lh3.googleusercontent.com/a-/AAuE7mB2_ZiPPU7rQBIvIt172EuazLz5955iIqYS5NAMAQ=s64",
      "userId": "05457805718113099013"
     },
     "user_tz": -120
    },
    "id": "mcIMrc3AW-Km",
    "outputId": "31c140e2-1428-44fb-b669-97c0ba6b6321",
    "scrolled": true
   },
   "outputs": [],
   "source": [
    "%%R\n",
    "require(pracma)\n",
    "require(Metrics)\n",
    "require(readr)\n",
    "all<- read_csv(\"/home/notebookuser/notebooks/covid19/data/ts_conf_r.csv\")\n",
    "all$X1<-NULL\n",
    "date<-all[,1]\n",
    "date[nrow(date) + 1,1] <-all[nrow(all),1]+1\n",
    "pred_all<-NULL\n",
    "for (n in 2:ncol(all)-1) {\n",
    "  Y<-ts(data = all[n+1], start = 1, end =nrow(all)+1)  \n",
    "  sig_w<-0.01\n",
    "  w<-sig_w*randn(1,100) # acceleration which denotes the fluctuation (Q/R) rnorm(100, mean = 0, sd = 1)\n",
    "  sig_v<-0.01\n",
    "  v<-sig_v*randn(1,100)   \n",
    "  t<-0.45\n",
    "  phi<-matrix(c(1,0,t,1),2,2)\n",
    "  gama<-matrix(c(0.5*t^2,t),2,1)\n",
    "  H<-matrix(c(1,0),1,2)\n",
    "  #Kalman\n",
    "  x0_0<-p0_0<-matrix(c(0,0),2,1)\n",
    "  p0_0<-matrix(c(1,0,0,1),2,2)\n",
    "  Q<-0.01\n",
    "  R<-0.01\n",
    "  X<-NULL\n",
    "  X2<-NULL\n",
    "  pred<-NULL\n",
    "  for (i in 0:nrow(all)) {\n",
    "    namp <-paste(\"p\", i+1,\"_\",i, sep = \"\")\n",
    "    assign(namp, phi%*%(get(paste(\"p\", i,\"_\",i, sep = \"\")))%*%t(phi)+gama%*%Q%*%t(gama))\n",
    "    namk <- paste(\"k\", i+1, sep = \"\")\n",
    "    assign(namk,get(paste(\"p\", i+1,\"_\",i, sep = \"\"))%*%t(H)%*%(1/(H%*%get(paste(\"p\", i+1,\"_\",i, sep = \"\"))%*%t(H)+R)))\n",
    "    namx <- paste(\"x\", i+1,\"_\",i, sep = \"\")\n",
    "    assign(namx,phi%*%get(paste(\"x\", i,\"_\",i, sep = \"\")))\n",
    "    namE <- paste(\"E\", i+1, sep = \"\")\n",
    "    assign(namE,Y[i+1]-H%*%get(paste(\"x\", i+1,\"_\",i, sep = \"\")))\n",
    "    namx2 <- paste(\"x\", i+1,\"_\",i+1, sep = \"\")\n",
    "    assign(namx2,get(paste(\"x\", i+1,\"_\",i, sep = \"\"))+get(paste(\"k\", i+1, sep = \"\"))%*%get(paste(\"E\", i+1, sep = \"\")))\n",
    "    namp2 <- paste(\"p\", i+1,\"_\",i+1, sep = \"\")\n",
    "    assign(namp2,(p0_0-get(paste(\"k\", i+1, sep = \"\"))%*%H)%*%get(paste(\"p\", i+1,\"_\",i, sep = \"\")))\n",
    "    X<-rbind(X,get(paste(\"x\", i+1,\"_\",i,sep = \"\"))[1])\n",
    "    X2<-rbind(X2,get(paste(\"x\", i+1,\"_\",i,sep = \"\"))[2])\n",
    "    if(i>2){\n",
    "      remove(list=(paste(\"p\", i-1,\"_\",i-2, sep = \"\")))\n",
    "      remove(list=(paste(\"k\", i-1, sep = \"\")))\n",
    "      remove(list=(paste(\"E\", i-1, sep = \"\")))\n",
    "      remove(list=(paste(\"p\", i-2,\"_\",i-2, sep = \"\")))\n",
    "      remove(list=(paste(\"x\", i-1,\"_\",i-2, sep = \"\")))\n",
    "      remove(list=(paste(\"x\", i-2,\"_\",i-2, sep = \"\")))}\n",
    "  }\n",
    "  pred<-NULL\n",
    "  pred<-cbind(Y,X,round(X2,4))\n",
    "  pred<-as.data.frame(pred)\n",
    "  pred$region<-colnames(all[,n+1])\n",
    "  pred$date<-date$date\n",
    "  pred$actual<-rbind(0,(cbind(pred[2:nrow(pred),1])/pred[1:nrow(pred)-1,1]-1)*100)\n",
    "  pred$predict<-rbind(0,(cbind(pred[2:nrow(pred),2])/pred[1:nrow(pred)-1,2]-1)*100)\n",
    "  pred$pred_rate<-(pred$X/pred$Y-1)*100\n",
    "  pred$X2_change<-rbind(0,(cbind(pred[2:nrow(pred),3]-pred[1:nrow(pred)-1,3])))\n",
    "  pred_all<-rbind(pred_all,pred)\n",
    "}\n",
    "pred_all<-cbind(pred_all[,4:5],pred_all[,1:3])\n",
    "names(pred_all)[5]<-\"X2\"\n",
    "pred_all=pred_all[with( pred_all, order(region, date)), ]\n",
    "pred_all<-pred_all[,3:5]"
   ]
  },
  {
   "cell_type": "code",
   "execution_count": null,
   "metadata": {},
   "outputs": [],
   "source": [
    "p=%R pred_all"
   ]
  },
  {
   "cell_type": "code",
   "execution_count": null,
   "metadata": {
    "colab": {},
    "colab_type": "code",
    "id": "j8ZrF8iJUcKq",
    "scrolled": true
   },
   "outputs": [],
   "source": [
    "############ Merge R output due to package problem\n",
    "### Joao FIX - \n",
    "# t=ts_d    -  deaths\n",
    "# t=ts_rec  -  recovered\n",
    "# t=ts      -  confirmed\n",
    "t=ts\n",
    "t=t.stack().reset_index(name='confirmed')\n",
    "t.columns=['date', 'region','confirmed']\n",
    "t['date']=pd.to_datetime(t['date'] ,errors ='coerce')\n",
    "t=t.sort_values(['region', 'date'])\n",
    "\n",
    "temp=t.iloc[:,:3]\n",
    "temp=temp.reset_index(drop=True)\n",
    "for i in range(1,len(t)+1):\n",
    "  if(temp.iloc[i,1] is not temp.iloc[i-1,1]):\n",
    "    temp.loc[len(temp)+1] = [temp.iloc[i-1,0]+ pd.DateOffset(1),temp.iloc[i-1,1], 0] \n",
    "temp=temp.sort_values(['region', 'date'])\n",
    "temp=temp.reset_index(drop=True)\n",
    "temp['Y']=p['Y']\n",
    "temp['X']=p['X']\n",
    "temp['X2']=p['X2']\n",
    "\n",
    "# JOAO - FIX - temp fixed\n",
    "# Y,X,X2 nan issue from p revolved\n",
    "\n",
    "p_pd=pd.DataFrame(p,columns=['Y','X','X2'])\n",
    "\n",
    "p_pd['nindex'] = range(1, 1+len(p_pd))\n",
    "temp['nindex']= range(1,1+len(temp))\n",
    "\n",
    "#temp_1 = temp.join(p_pd)\n",
    "temp_1 = temp.merge(p_pd, on='nindex', how='inner', suffixes=('_1', '_2')).rename(columns={\"Y_2\": \"Y\", \"X_2\": \"X\", \"X2_2\" : \"X2\"})\n",
    "temp_1 = temp_1.drop(columns=['Y_1', 'X_1','X2_1','nindex'])\n",
    "\n",
    "\n",
    "temp=temp_1\n",
    "temp.to_csv(r'/home/notebookuser/notebooks/covid19/data/temp.csv')"
   ]
  },
  {
   "cell_type": "markdown",
   "metadata": {
    "colab_type": "text",
    "id": "a7vUr36bVvOb"
   },
   "source": [
    "## Pre Proccessing Data for ML Model"
   ]
  },
  {
   "cell_type": "markdown",
   "metadata": {
    "colab_type": "text",
    "id": "PTerYYnPq2X7"
   },
   "source": [
    "### Extract Weather Forecast Data"
   ]
  },
  {
   "cell_type": "code",
   "execution_count": null,
   "metadata": {
    "colab": {},
    "colab_type": "code",
    "id": "M4XJBLT2-quk"
   },
   "outputs": [],
   "source": [
    "#\n",
    "### Joao - Test Later Weather from new file : w_v2.csv and w_v2_v2.csv\n",
    "w_v2=pd.read_csv('data/w_v2.csv', sep=',', encoding='latin1')\n",
    "w_v2['date']=pd.to_datetime(w_v2['date'],format='%Y/%m/%d')\n",
    "\n",
    "w_v2_v2=pd.read_csv('data/w_v2_v2.csv', sep=',', encoding='latin1')\n",
    "w_v2_v2['date']=pd.to_datetime(w_v2_v2['date'],format='%Y/%m/%d')\n",
    "\n",
    "w_v2_v227=pd.read_csv('data/w_v2_v227.csv', sep=',', encoding='latin1')\n",
    "w_v2_v227['date']=pd.to_datetime(w_v2_v227['date'],format='%Y/%m/%d')\n",
    "\n",
    "w=pd.read_csv('data/w.csv', sep=',', encoding='latin1')\n",
    "w['date']=pd.to_datetime(w['date'],format='%d/%m/%Y')\n",
    "\n",
    "w_forecast=pd.read_csv('data/w_forecast.csv', sep=',', encoding='latin1')\n",
    "w_forecast['date']=pd.to_datetime(w_forecast['date'],format='%d/%m/%Y')\n",
    "\n",
    "### Append Weather fetched now to file w_v2_v2\n",
    "w_n_forward=w_v2_v2.append(w_v2_v227) \n",
    "w_n_forward=w_n_forward.drop_duplicates(subset=['date','region'], keep='last', inplace=False)\n",
    "w_n_forward=w_n_forward.sort_values(by=['region','date'], ascending=True)\n",
    "w_n_forward.to_csv(r'data/w_v2_v2.csv', index = False, header=True)"
   ]
  },
  {
   "cell_type": "code",
   "execution_count": null,
   "metadata": {},
   "outputs": [],
   "source": [
    "w_total=pd.DataFrame(columns=['date','region','min','max'])\n",
    "w_total=w.append(w_forecast).append(w_v2).append(w_v2_v2).append(w_v2_v227) \n",
    "w_total=w_total.drop_duplicates(subset=['date','region'], keep='last', inplace=False)\n",
    "w_total=w_total.sort_values(by=['region','date'], ascending=True)\n",
    "\n",
    "w_total.to_csv(r'data/w_total.csv', index = False, header=True)"
   ]
  },
  {
   "cell_type": "code",
   "execution_count": null,
   "metadata": {},
   "outputs": [],
   "source": [
    "w_in_model=pd.read_csv('data/w_total.csv', sep=',', encoding='latin1')\n",
    "#\n",
    "w_in_model['date']=pd.to_datetime(w_in_model['date'],format='%Y/%m/%d')\n",
    "w_in_model.to_csv(r'data/w_in_model.csv', index = False, header=True)"
   ]
  },
  {
   "cell_type": "code",
   "execution_count": null,
   "metadata": {},
   "outputs": [],
   "source": [
    "w_in_model.tail(2)"
   ]
  },
  {
   "cell_type": "markdown",
   "metadata": {
    "colab_type": "text",
    "id": "2vIZPBkfoqHe"
   },
   "source": [
    "### Build Train Set Data Structure"
   ]
  },
  {
   "cell_type": "code",
   "execution_count": null,
   "metadata": {
    "colab": {},
    "colab_type": "code",
    "id": "YPMRge7kQA8t"
   },
   "outputs": [],
   "source": [
    "### JOAO - Fix -\n",
    "## t=ts confirmed\n",
    "t=ts\n",
    "t=t.stack().reset_index(name='confirmed')\n",
    "t.columns=['date', 'region','confirmed']\n",
    "t['date']=pd.to_datetime(t['date'] ,errors ='coerce')\n",
    "t=t.sort_values(['region', 'date'])\n",
    "\n",
    "# Add 1 Future day for prediction\n",
    "t=t.reset_index(drop=True)\n",
    "for i in range(1,len(t)+1):\n",
    "    if(t.iloc[i,1] is not t.iloc[i-1,1]):\n",
    "        t.loc[len(t)+1] = [t.iloc[i-1,0]+ pd.DateOffset(1),t.iloc[i-1,1], 0] \n",
    "t=t.sort_values(['region', 'date'])\n",
    "t=t.reset_index(drop=True)"
   ]
  },
  {
   "cell_type": "code",
   "execution_count": null,
   "metadata": {
    "scrolled": true
   },
   "outputs": [],
   "source": [
    "### JOAO - Fix -\n",
    "t['1_day_change']=t['3_day_change']=t['7_day_change']=t['1_day_change_rate']=t['3_day_change_rate']=t['7_day_change_rate']=t['last_day']=0\n",
    "#\n",
    "### JOAO - Fix - ipykernel_launcher.py:5: RuntimeWarning: divide by zero encountered in double_scalars\n",
    "for i in range(1,len(t)):\n",
    "    if(t.iloc[i,1] is t.iloc[i-2,1]):\n",
    "        t.iloc[i,3]=t.iloc[i-1,2]-t.iloc[i-2,2]\n",
    "        t.iloc[i,6]=((t.iloc[i-1,2]*100 +1)/(t.iloc[i-2,2]*100 -1 +1))*100\n",
    "        t.iloc[i,9]=t.iloc[i-1,2]\n",
    "    if(t.iloc[i,1] is t.iloc[i-4,1]):\n",
    "        t.iloc[i,4]=t.iloc[i-1,2]-t.iloc[i-4,2]\n",
    "        t.iloc[i,7]=((t.iloc[i-1,2]*100 +1)/(t.iloc[i-4,2]*100 -1 +1))*100\n",
    "    if(t.iloc[i,1] is t.iloc[i-8,1]):\n",
    "        t.iloc[i,5]=t.iloc[i-1,2]-t.iloc[i-8,2]\n",
    "        t.iloc[i,8]=((t.iloc[i-1,2]*100 +1)/(t.iloc[i-8,2]*100 -1 +1))*100\n",
    "t=t.fillna(0)  \n",
    "t=t.merge(temp[['date','region', 'X']],how='left',on=['date','region'])\n",
    "t=t.rename(columns = {'X':'kalman_prediction'}) \n",
    "t=t.replace([np.inf, -np.inf], 0)\n",
    "\n",
    "### Joao - Fix NaN Kalman_Filter\n",
    "t['kalman_prediction']=np.nan_to_num(t['kalman_prediction'])\n",
    "t['kalman_prediction']=round(t['kalman_prediction'])\n",
    "\n",
    "#\n",
    "train=t.merge(confirmed[['region',' Population ']],how='left',on='region')\n",
    "train=train.rename(columns = {' Population ':'population'})\n",
    "train['population']=train['population'].str.replace(r\" \", '')\n",
    "train['population']=train['population'].str.replace(r\",\", '')\n",
    "train['population']=train['population'].fillna(10000000) ### Fill 10M if nan\n",
    "train['population']=train['population'].astype('int32')\n",
    "### JOAO - Fix - ipykernel_launcher.py:5: RuntimeWarning: divide by zero encountered in double_scalars\n",
    "# train['infected_rate']=train['last_day']/train['population']*10000\n",
    "train['infected_rate']=(((train['last_day'] +1)*100)/((train['population'] +1)*100000) *10) # *100 - % converter\n",
    " #\n",
    "#### Joao , merge w weather only !?!\n",
    "##train=train.merge(w,how='left',on=['date','region'])\n",
    "train=train.merge(w_in_model,how='left',on=['date','region'])\n",
    "#\n",
    "train=train.sort_values(['region', 'date'])\n",
    "### fill missing weather \n",
    "for i in range(0,len(train)):\n",
    "    if(np.isnan(train.iloc[i,13])):\n",
    "        if(train.iloc[i,1] is train.iloc[i-1,1]):\n",
    "            train.iloc[i,13]=train.iloc[i-1,13]\n",
    "            train.iloc[i,14]=train.iloc[i-1,14]"
   ]
  },
  {
   "cell_type": "code",
   "execution_count": null,
   "metadata": {},
   "outputs": [],
   "source": [
    "# Joao - Fix - Nulls are an issue\n",
    "train_notnull=train[train['kalman_prediction'] != 0.0 ] #.any(axis=1)]\n",
    "train_notnull[:]"
   ]
  },
  {
   "cell_type": "code",
   "execution_count": null,
   "metadata": {},
   "outputs": [],
   "source": [
    "# Joao - Fix - Nulls are an issue\n",
    "train_nulls=train[train['kalman_prediction'].isnull() ] #.any(axis=1)]\n",
    "train_nulls[:]"
   ]
  },
  {
   "cell_type": "code",
   "execution_count": null,
   "metadata": {},
   "outputs": [],
   "source": [
    "# Joao - Fix - Nulls are an issue\n",
    "\n",
    "train_nulls=train[train.isnull().any(axis=1)]\n",
    "train_nulls[:]\n",
    "train[-1:]"
   ]
  },
  {
   "cell_type": "code",
   "execution_count": null,
   "metadata": {},
   "outputs": [],
   "source": [
    "## JOAO - FIX Drop Duplicates\n",
    "train=train.drop_duplicates(subset=['date','region'], keep='last', inplace=False)"
   ]
  },
  {
   "cell_type": "code",
   "execution_count": null,
   "metadata": {},
   "outputs": [],
   "source": [
    "train.to_csv(r'data/train.csv', index = False, header=True)\n",
    "\n",
    "##Shared -- Ratio in Confirmed - 21Day Forecast -- train 25April2020 - I\n",
    "ratiod=pd.read_csv('data/train.csv', sep=',', encoding='latin1')\n",
    "todayd=datetime.today().strftime('%Y-%m-%d')\n",
    "ratiofn=\"World v2 -- Confirmed - \"+str(num_days_R_prediction)+\"Day Forecast -- train \"+todayd+\".csv\"\n",
    "\n",
    "ratiod['population_percentage : infected_rate confirmed']=ratiod['infected_rate']*100\n",
    "ratiod['population_percentage : factor 9/10 infected_rate confirmed']=ratiod['infected_rate']*1000\n",
    "ratiod['delta : new_cases']=ratiod['kalman_prediction']-ratiod['last_day']\n",
    "ratiod['delta : new_cases per 1M hab']=ratiod['delta : new_cases']/ratiod['population']*1000000\n",
    "\n",
    "### roling 7day_AVG\n",
    "ratiod['delta : roling 7day AVG']=ratiod['7_day_change']/7\n",
    "ratiod['delta : aprox 14-day case notification rate per 100k hab']=(ratiod['7_day_change']*2)/ratiod['population']*100000\n",
    "###\n",
    "\n",
    "ratiod=ratiod.rename(columns={'kalman_prediction': 'confirmed_prediction', 'last_day': 'confirmed_yesterday'})\n",
    "ratiod.to_csv(r'data/'+ratiofn, index = False, header=True)\n",
    "ratiod[-3:]"
   ]
  },
  {
   "cell_type": "markdown",
   "metadata": {
    "colab_type": "text",
    "id": "YekOqU6Xr-qZ"
   },
   "source": [
    "## Kalman 1 day Prediction with Evaluation"
   ]
  },
  {
   "cell_type": "code",
   "execution_count": null,
   "metadata": {},
   "outputs": [],
   "source": [
    "# Select region\n",
    "region='China_Hubei'\n",
    "\n",
    "evaluation=pd.DataFrame(columns=['region','mse','rmse','mae'])\n",
    "place=0\n",
    "for i in range(1,len(t)):\n",
    "    if(t.iloc[i,1] is not t.iloc[i-1,1]):\n",
    "        ex=np.array(t.iloc[i-len(ts):i,10])\n",
    "        pred=np.array(t.iloc[i-len(ts):i,2])\n",
    "        evaluation=evaluation.append({'region': t.iloc[i-1,1], 'mse': np.power((ex - pred),2).mean(),'rmse':sqrt(mean_squared_error(ex,pred)),'mae': (abs(ex - pred)).mean()}, ignore_index=True)\n",
    "p=t[t['region']==region][['date','region','confirmed','kalman_prediction']]\n",
    "#p=p.rename(columns = {'confirmed':'recoverd'})\n",
    "p.iloc[len(p)-1,2]=None\n",
    "p=p.set_index(['date'])\n",
    "p.iloc[:,1:].plot(marker='o',figsize=(16,8)).set_title('Kalman Prediction - Select Region to Change - {}'.format(p.iloc[0,0]))\n",
    "\n",
    "print(evaluation[evaluation['region']==p.iloc[0,0]])"
   ]
  },
  {
   "cell_type": "code",
   "execution_count": null,
   "metadata": {},
   "outputs": [],
   "source": [
    "# Select region\n",
    "region='Japan_nan'\n",
    "\n",
    "evaluation=pd.DataFrame(columns=['region','mse','rmse','mae'])\n",
    "place=0\n",
    "for i in range(1,len(t)):\n",
    "    if(t.iloc[i,1] is not t.iloc[i-1,1]):\n",
    "        ex=np.array(t.iloc[i-len(ts):i,10])\n",
    "        pred=np.array(t.iloc[i-len(ts):i,2])\n",
    "        evaluation=evaluation.append({'region': t.iloc[i-1,1], 'mse': np.power((ex - pred),2).mean(),'rmse':sqrt(mean_squared_error(ex,pred)),'mae': (abs(ex - pred)).mean()}, ignore_index=True)\n",
    "p=t[t['region']==region][['date','region','confirmed','kalman_prediction']]\n",
    "#p=p.rename(columns = {'confirmed':'recoverd'})\n",
    "p.iloc[len(p)-1,2]=None\n",
    "p=p.set_index(['date'])\n",
    "p.iloc[:,1:].plot(marker='o',figsize=(16,8)).set_title('Kalman Prediction - Select Region to Change - {}'.format(p.iloc[0,0]))\n",
    "\n",
    "print(evaluation[evaluation['region']==p.iloc[0,0]])"
   ]
  },
  {
   "cell_type": "code",
   "execution_count": null,
   "metadata": {},
   "outputs": [],
   "source": [
    "# Select region\n",
    "region='Korea, South_nan'\n",
    "\n",
    "evaluation=pd.DataFrame(columns=['region','mse','rmse','mae'])\n",
    "place=0\n",
    "for i in range(1,len(t)):\n",
    "    if(t.iloc[i,1] is not t.iloc[i-1,1]):\n",
    "        ex=np.array(t.iloc[i-len(ts):i,10])\n",
    "        pred=np.array(t.iloc[i-len(ts):i,2])\n",
    "        evaluation=evaluation.append({'region': t.iloc[i-1,1], 'mse': np.power((ex - pred),2).mean(),'rmse':sqrt(mean_squared_error(ex,pred)),'mae': (abs(ex - pred)).mean()}, ignore_index=True)\n",
    "p=t[t['region']==region][['date','region','confirmed','kalman_prediction']]\n",
    "#p=p.rename(columns = {'confirmed':'recoverd'})\n",
    "p.iloc[len(p)-1,2]=None\n",
    "p=p.set_index(['date'])\n",
    "p.iloc[:,1:].plot(marker='o',figsize=(16,8)).set_title('Kalman Prediction - Select Region to Change - {}'.format(p.iloc[0,0]))\n",
    "\n",
    "print(evaluation[evaluation['region']==p.iloc[0,0]])"
   ]
  },
  {
   "cell_type": "code",
   "execution_count": null,
   "metadata": {
    "scrolled": false
   },
   "outputs": [],
   "source": [
    "# Select region\n",
    "region='United States_nan'\n",
    "\n",
    "evaluation=pd.DataFrame(columns=['region','mse','rmse','mae'])\n",
    "place=0\n",
    "for i in range(1,len(t)):\n",
    "    if(t.iloc[i,1] is not t.iloc[i-1,1]):\n",
    "        ex=np.array(t.iloc[i-len(ts):i,10])\n",
    "        pred=np.array(t.iloc[i-len(ts):i,2])\n",
    "        evaluation=evaluation.append({'region': t.iloc[i-1,1], 'mse': np.power((ex - pred),2).mean(),'rmse':sqrt(mean_squared_error(ex,pred)),'mae': (abs(ex - pred)).mean()}, ignore_index=True)\n",
    "p=t[t['region']==region][['date','region','confirmed','kalman_prediction']]\n",
    "#p=p.rename(columns = {'confirmed':'recoverd'})\n",
    "p.iloc[len(p)-1,2]=None\n",
    "p=p.set_index(['date'])\n",
    "p.iloc[:,1:].plot(marker='o',figsize=(16,8)).set_title('Kalman Prediction - Select Region to Change - {}'.format(p.iloc[0,0]))\n",
    "\n",
    "print(evaluation[evaluation['region']==p.iloc[0,0]])"
   ]
  },
  {
   "cell_type": "code",
   "execution_count": null,
   "metadata": {},
   "outputs": [],
   "source": [
    "# Select region\n",
    "region='India_nan'\n",
    "\n",
    "evaluation=pd.DataFrame(columns=['region','mse','rmse','mae'])\n",
    "place=0\n",
    "for i in range(1,len(t)):\n",
    "    if(t.iloc[i,1] is not t.iloc[i-1,1]):\n",
    "        ex=np.array(t.iloc[i-len(ts):i,10])\n",
    "        pred=np.array(t.iloc[i-len(ts):i,2])\n",
    "        evaluation=evaluation.append({'region': t.iloc[i-1,1], 'mse': np.power((ex - pred),2).mean(),'rmse':sqrt(mean_squared_error(ex,pred)),'mae': (abs(ex - pred)).mean()}, ignore_index=True)\n",
    "p=t[t['region']==region][['date','region','confirmed','kalman_prediction']]\n",
    "#p=p.rename(columns = {'confirmed':'recoverd'})\n",
    "p.iloc[len(p)-1,2]=None\n",
    "p=p.set_index(['date'])\n",
    "p.iloc[:,1:].plot(marker='o',figsize=(16,8)).set_title('Kalman Prediction - Select Region to Change - {}'.format(p.iloc[0,0]))\n",
    "\n",
    "print(evaluation[evaluation['region']==p.iloc[0,0]])"
   ]
  },
  {
   "cell_type": "code",
   "execution_count": null,
   "metadata": {},
   "outputs": [],
   "source": [
    "# Select region\n",
    "region='Russia_nan'\n",
    "\n",
    "evaluation=pd.DataFrame(columns=['region','mse','rmse','mae'])\n",
    "place=0\n",
    "for i in range(1,len(t)):\n",
    "    if(t.iloc[i,1] is not t.iloc[i-1,1]):\n",
    "        ex=np.array(t.iloc[i-len(ts):i,10])\n",
    "        pred=np.array(t.iloc[i-len(ts):i,2])\n",
    "        evaluation=evaluation.append({'region': t.iloc[i-1,1], 'mse': np.power((ex - pred),2).mean(),'rmse':sqrt(mean_squared_error(ex,pred)),'mae': (abs(ex - pred)).mean()}, ignore_index=True)\n",
    "p=t[t['region']==region][['date','region','confirmed','kalman_prediction']]\n",
    "#p=p.rename(columns = {'confirmed':'recoverd'})\n",
    "p.iloc[len(p)-1,2]=None\n",
    "p=p.set_index(['date'])\n",
    "p.iloc[:,1:].plot(marker='o',figsize=(16,8)).set_title('Kalman Prediction - Select Region to Change - {}'.format(p.iloc[0,0]))\n",
    "\n",
    "print(evaluation[evaluation['region']==p.iloc[0,0]])"
   ]
  },
  {
   "cell_type": "code",
   "execution_count": null,
   "metadata": {},
   "outputs": [],
   "source": [
    "# Select region\n",
    "region='Brazil_nan'\n",
    "\n",
    "evaluation=pd.DataFrame(columns=['region','mse','rmse','mae'])\n",
    "place=0\n",
    "for i in range(1,len(t)):\n",
    "    if(t.iloc[i,1] is not t.iloc[i-1,1]):\n",
    "        ex=np.array(t.iloc[i-len(ts):i,10])\n",
    "        pred=np.array(t.iloc[i-len(ts):i,2])\n",
    "        evaluation=evaluation.append({'region': t.iloc[i-1,1], 'mse': np.power((ex - pred),2).mean(),'rmse':sqrt(mean_squared_error(ex,pred)),'mae': (abs(ex - pred)).mean()}, ignore_index=True)\n",
    "p=t[t['region']==region][['date','region','confirmed','kalman_prediction']]\n",
    "#p=p.rename(columns = {'confirmed':'recoverd'})\n",
    "p.iloc[len(p)-1,2]=None\n",
    "p=p.set_index(['date'])\n",
    "p.iloc[:,1:].plot(marker='o',figsize=(16,8)).set_title('Kalman Prediction - Select Region to Change - {}'.format(p.iloc[0,0]))\n",
    "\n",
    "print(evaluation[evaluation['region']==p.iloc[0,0]])"
   ]
  },
  {
   "cell_type": "code",
   "execution_count": null,
   "metadata": {},
   "outputs": [],
   "source": [
    "# Select region\n",
    "region='Mexico_nan'\n",
    "\n",
    "evaluation=pd.DataFrame(columns=['region','mse','rmse','mae'])\n",
    "place=0\n",
    "for i in range(1,len(t)):\n",
    "    if(t.iloc[i,1] is not t.iloc[i-1,1]):\n",
    "        ex=np.array(t.iloc[i-len(ts):i,10])\n",
    "        pred=np.array(t.iloc[i-len(ts):i,2])\n",
    "        evaluation=evaluation.append({'region': t.iloc[i-1,1], 'mse': np.power((ex - pred),2).mean(),'rmse':sqrt(mean_squared_error(ex,pred)),'mae': (abs(ex - pred)).mean()}, ignore_index=True)\n",
    "p=t[t['region']==region][['date','region','confirmed','kalman_prediction']]\n",
    "#p=p.rename(columns = {'confirmed':'recoverd'})\n",
    "p.iloc[len(p)-1,2]=None\n",
    "p=p.set_index(['date'])\n",
    "p.iloc[:,1:].plot(marker='o',figsize=(16,8)).set_title('Kalman Prediction - Select Region to Change - {}'.format(p.iloc[0,0]))\n",
    "\n",
    "print(evaluation[evaluation['region']==p.iloc[0,0]])"
   ]
  },
  {
   "cell_type": "code",
   "execution_count": null,
   "metadata": {
    "scrolled": true
   },
   "outputs": [],
   "source": [
    "# Select region\n",
    "region='United Kingdom_nan'\n",
    "\n",
    "evaluation=pd.DataFrame(columns=['region','mse','rmse','mae'])\n",
    "place=0\n",
    "for i in range(1,len(t)):\n",
    "    if(t.iloc[i,1] is not t.iloc[i-1,1]):\n",
    "        ex=np.array(t.iloc[i-len(ts):i,10])\n",
    "        pred=np.array(t.iloc[i-len(ts):i,2])\n",
    "        evaluation=evaluation.append({'region': t.iloc[i-1,1], 'mse': np.power((ex - pred),2).mean(),'rmse':sqrt(mean_squared_error(ex,pred)),'mae': (abs(ex - pred)).mean()}, ignore_index=True)\n",
    "p=t[t['region']==region][['date','region','confirmed','kalman_prediction']]\n",
    "#p=p.rename(columns = {'confirmed':'recoverd'})\n",
    "p.iloc[len(p)-1,2]=None\n",
    "p=p.set_index(['date'])\n",
    "p.iloc[:,1:].plot(marker='o',figsize=(16,8)).set_title('Kalman Prediction - Select Region to Change - {}'.format(p.iloc[0,0]))\n",
    "\n",
    "print(evaluation[evaluation['region']==p.iloc[0,0]])"
   ]
  },
  {
   "cell_type": "code",
   "execution_count": null,
   "metadata": {},
   "outputs": [],
   "source": [
    "# Select region\n",
    "region='France_nan'\n",
    "\n",
    "evaluation=pd.DataFrame(columns=['region','mse','rmse','mae'])\n",
    "place=0\n",
    "for i in range(1,len(t)):\n",
    "    if(t.iloc[i,1] is not t.iloc[i-1,1]):\n",
    "        ex=np.array(t.iloc[i-len(ts):i,10])\n",
    "        pred=np.array(t.iloc[i-len(ts):i,2])\n",
    "        evaluation=evaluation.append({'region': t.iloc[i-1,1], 'mse': np.power((ex - pred),2).mean(),'rmse':sqrt(mean_squared_error(ex,pred)),'mae': (abs(ex - pred)).mean()}, ignore_index=True)\n",
    "p=t[t['region']==region][['date','region','confirmed','kalman_prediction']]\n",
    "#p=p.rename(columns = {'confirmed':'recoverd'})\n",
    "p.iloc[len(p)-1,2]=None\n",
    "p=p.set_index(['date'])\n",
    "p.iloc[:,1:].plot(marker='o',figsize=(16,8)).set_title('Kalman Prediction - Select Region to Change - {}'.format(p.iloc[0,0]))\n",
    "\n",
    "print(evaluation[evaluation['region']==p.iloc[0,0]])"
   ]
  },
  {
   "cell_type": "code",
   "execution_count": null,
   "metadata": {},
   "outputs": [],
   "source": [
    "# Select region\n",
    "region='Italy_nan'\n",
    "\n",
    "evaluation=pd.DataFrame(columns=['region','mse','rmse','mae'])\n",
    "place=0\n",
    "for i in range(1,len(t)):\n",
    "    if(t.iloc[i,1] is not t.iloc[i-1,1]):\n",
    "        ex=np.array(t.iloc[i-len(ts):i,10])\n",
    "        pred=np.array(t.iloc[i-len(ts):i,2])\n",
    "        evaluation=evaluation.append({'region': t.iloc[i-1,1], 'mse': np.power((ex - pred),2).mean(),'rmse':sqrt(mean_squared_error(ex,pred)),'mae': (abs(ex - pred)).mean()}, ignore_index=True)\n",
    "p=t[t['region']==region][['date','region','confirmed','kalman_prediction']]\n",
    "#p=p.rename(columns = {'confirmed':'recoverd'})\n",
    "p.iloc[len(p)-1,2]=None\n",
    "p=p.set_index(['date'])\n",
    "p.iloc[:,1:].plot(marker='o',figsize=(16,8)).set_title('Kalman Prediction - Select Region to Change - {}'.format(p.iloc[0,0]))\n",
    "\n",
    "print(evaluation[evaluation['region']==p.iloc[0,0]])"
   ]
  },
  {
   "cell_type": "code",
   "execution_count": null,
   "metadata": {},
   "outputs": [],
   "source": [
    "# Select region\n",
    "region='Portugal_nan'\n",
    "\n",
    "evaluation=pd.DataFrame(columns=['region','mse','rmse','mae'])\n",
    "place=0\n",
    "for i in range(1,len(t)):\n",
    "    if(t.iloc[i,1] is not t.iloc[i-1,1]):\n",
    "        ex=np.array(t.iloc[i-len(ts):i,10])\n",
    "        pred=np.array(t.iloc[i-len(ts):i,2])\n",
    "        evaluation=evaluation.append({'region': t.iloc[i-1,1], 'mse': np.power((ex - pred),2).mean(),'rmse':sqrt(mean_squared_error(ex,pred)),'mae': (abs(ex - pred)).mean()}, ignore_index=True)\n",
    "p=t[t['region']==region][['date','region','confirmed','kalman_prediction']]\n",
    "#p=p.rename(columns = {'confirmed':'recoverd'})\n",
    "p.iloc[len(p)-1,2]=None\n",
    "p=p.set_index(['date'])\n",
    "p.iloc[:,1:].plot(marker='o',figsize=(16,8)).set_title('Kalman Prediction - Select Region to Change - {}'.format(p.iloc[0,0]))\n",
    "\n",
    "print(evaluation[evaluation['region']==p.iloc[0,0]])"
   ]
  },
  {
   "cell_type": "code",
   "execution_count": null,
   "metadata": {},
   "outputs": [],
   "source": [
    "# Select region\n",
    "region='Spain_nan'\n",
    "\n",
    "evaluation=pd.DataFrame(columns=['region','mse','rmse','mae'])\n",
    "place=0\n",
    "for i in range(1,len(t)):\n",
    "    if(t.iloc[i,1] is not t.iloc[i-1,1]):\n",
    "        ex=np.array(t.iloc[i-len(ts):i,10])\n",
    "        pred=np.array(t.iloc[i-len(ts):i,2])\n",
    "        evaluation=evaluation.append({'region': t.iloc[i-1,1], 'mse': np.power((ex - pred),2).mean(),'rmse':sqrt(mean_squared_error(ex,pred)),'mae': (abs(ex - pred)).mean()}, ignore_index=True)\n",
    "p=t[t['region']==region][['date','region','confirmed','kalman_prediction']]\n",
    "#p=p.rename(columns = {'confirmed':'recoverd'})\n",
    "p.iloc[len(p)-1,2]=None\n",
    "p=p.set_index(['date'])\n",
    "p.iloc[:,1:].plot(marker='o',figsize=(16,8)).set_title('Kalman Prediction - Select Region to Change - {}'.format(p.iloc[0,0]))\n",
    "\n",
    "print(evaluation[evaluation['region']==p.iloc[0,0]])"
   ]
  },
  {
   "cell_type": "markdown",
   "metadata": {
    "colab_type": "text",
    "id": "8fjvSTMetENY"
   },
   "source": [
    "## Regression - 1 Day Prediction"
   ]
  },
  {
   "cell_type": "code",
   "execution_count": null,
   "metadata": {},
   "outputs": [],
   "source": [
    "print(\"Light version 1day for display purpose at https://FuelBigData.com/blog \")"
   ]
  },
  {
   "cell_type": "code",
   "execution_count": null,
   "metadata": {
    "colab": {},
    "colab_type": "code",
    "id": "15zSGQ9xZ2Qy"
   },
   "outputs": [],
   "source": [
    "exit()"
   ]
  },
  {
   "cell_type": "code",
   "execution_count": null,
   "metadata": {},
   "outputs": [],
   "source": []
  }
 ],
 "metadata": {
  "colab": {
   "authorship_tag": "ABX9TyO6GjgZRhWecKel7pXtVap2",
   "collapsed_sections": [
    "9lmtGPPCwHta"
   ],
   "name": "COVID19 Prediction.ipynb",
   "provenance": [],
   "toc_visible": true
  },
  "kernelspec": {
   "display_name": "Python 3",
   "language": "python",
   "name": "python3"
  },
  "language_info": {
   "codemirror_mode": {
    "name": "ipython",
    "version": 3
   },
   "file_extension": ".py",
   "mimetype": "text/x-python",
   "name": "python",
   "nbconvert_exporter": "python",
   "pygments_lexer": "ipython3",
   "version": "3.7.7"
  }
 },
 "nbformat": 4,
 "nbformat_minor": 1
}
