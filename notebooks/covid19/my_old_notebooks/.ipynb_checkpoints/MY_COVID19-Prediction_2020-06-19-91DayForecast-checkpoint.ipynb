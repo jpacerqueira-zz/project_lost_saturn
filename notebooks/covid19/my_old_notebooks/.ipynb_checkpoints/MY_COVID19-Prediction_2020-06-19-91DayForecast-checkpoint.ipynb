{
 "cells": [
  {
   "cell_type": "markdown",
   "metadata": {},
   "source": [
    "Please Follow this Docker container installation process in your MacBook/Laptop before running this Python+R Notebook below.\n",
    "\n",
    "  - Installation setup of environment where this notebook runs can be found i \n",
    "  Container with Jupyter+H2o.ai+Python3+R+Spark in this [link_here](https://github.com/jpacerqueira/project_lost_saturn)\n",
    "  \n",
    "  Also :\n",
    "  - You need a Strong bandwith the install the Container environment it takes about 10-11 minutes to finish.\n",
    "  \n",
    "  - Good Luck,  stay safe! But investigate Corona virus(covid-19 or SARS-Cov-2) in your area and give the information back to the comunity!\n"
   ]
  },
  {
   "cell_type": "markdown",
   "metadata": {
    "colab_type": "text",
    "id": "f1S90bdBVIaK"
   },
   "source": [
    "# CoronaVirus Prediction"
   ]
  },
  {
   "cell_type": "markdown",
   "metadata": {},
   "source": [
    "### Number of Day to Predict 91"
   ]
  },
  {
   "cell_type": "code",
   "execution_count": 1,
   "metadata": {},
   "outputs": [],
   "source": [
    "num_days_R_prediction=91"
   ]
  },
  {
   "cell_type": "code",
   "execution_count": 2,
   "metadata": {},
   "outputs": [],
   "source": [
    "#!pip install rpy2\n",
    "import rpy2\n",
    "%load_ext rpy2.ipython\n",
    "%Rpush num_days_R_prediction"
   ]
  },
  {
   "cell_type": "code",
   "execution_count": 3,
   "metadata": {},
   "outputs": [],
   "source": [
    "%%R\n",
    "max_days_prediction<-num_days_R_prediction"
   ]
  },
  {
   "cell_type": "code",
   "execution_count": null,
   "metadata": {},
   "outputs": [],
   "source": [
    "bypass_weather=1 # =1 bypass weather_pi api calls\n",
    "#\n",
    "number_past_days_training=num_days_R_prediction  #Number of Past days on training # max to be on 6.Feb.2020"
   ]
  },
  {
   "cell_type": "markdown",
   "metadata": {},
   "source": [
    "### Load Data from Github - John Hopkins Institute "
   ]
  },
  {
   "cell_type": "code",
   "execution_count": null,
   "metadata": {},
   "outputs": [],
   "source": [
    "# Get data from Github\n",
    "import numpy as np\n",
    "from math import sqrt\n",
    "from sklearn.metrics import mean_squared_error\n",
    "import pandas as pd\n",
    "\n",
    "#url_1 = 'https://raw.githubusercontent.com/CSSEGISandData/COVID-19/master/csse_covid_19_data/csse_covid_19_time_series/time_series_19-covid-Confirmed.csv'\n",
    "url_1 = 'https://github.com/CSSEGISandData/COVID-19/raw/master/csse_covid_19_data/csse_covid_19_time_series/time_series_covid19_confirmed_global.csv'\n",
    "confirmed = pd.read_csv(url_1, error_bad_lines=False)\n",
    "\n",
    "#url_2 = 'https://raw.githubusercontent.com/CSSEGISandData/COVID-19/master/csse_covid_19_data/csse_covid_19_time_series/time_series_19-covid-Deaths.csv'\n",
    "url_2 = 'https://github.com/CSSEGISandData/COVID-19/raw/master/csse_covid_19_data/csse_covid_19_time_series/time_series_covid19_deaths_global.csv'\n",
    "death = pd.read_csv(url_2, error_bad_lines=False)\n",
    "\n",
    "#url_3 = 'https://raw.githubusercontent.com/CSSEGISandData/COVID-19/master/csse_covid_19_data/csse_covid_19_time_series/time_series_19-covid-Recovered.csv'\n",
    "url_3 = 'https://github.com/CSSEGISandData/COVID-19/raw/master/csse_covid_19_data/csse_covid_19_time_series/time_series_covid19_recovered_global.csv'\n",
    "recover = pd.read_csv(url_3, error_bad_lines=False)\n",
    "\n",
    "# fix region names\n",
    "confirmed['Country/Region']= confirmed['Country/Region'].str.replace(\"Mainland China\", \"China\")\n",
    "confirmed['Country/Region']= confirmed['Country/Region'].str.replace(\"US\", \"United States\")\n",
    "\n",
    "death['Country/Region']= death['Country/Region'].str.replace(\"Mainland China\", \"China\")\n",
    "death['Country/Region']= death['Country/Region'].str.replace(\"US\", \"United States\")\n",
    "\n",
    "recover['Country/Region']= recover['Country/Region'].str.replace(\"Mainland China\", \"China\")\n",
    "recover['Country/Region']= recover['Country/Region'].str.replace(\"US\", \"United States\")"
   ]
  },
  {
   "cell_type": "code",
   "execution_count": null,
   "metadata": {
    "scrolled": true
   },
   "outputs": [],
   "source": [
    "confirmed.iloc[:,:]"
   ]
  },
  {
   "cell_type": "markdown",
   "metadata": {
    "colab_type": "text",
    "id": "Vvb-N49UipcR"
   },
   "source": [
    "## Get Population"
   ]
  },
  {
   "cell_type": "code",
   "execution_count": null,
   "metadata": {
    "colab": {},
    "colab_type": "code",
    "id": "2h7I0zT9kmFS"
   },
   "outputs": [],
   "source": [
    "population=pd.read_csv('/home/notebookuser/notebooks/covid19/data/population.csv', sep=',', encoding='latin1') \n",
    "confirmed=pd.merge(confirmed, population,how='left' ,on=['Province/State','Country/Region'])\n",
    "death=pd.merge(death, population,how='left' ,on=['Province/State','Country/Region'])\n",
    "recover=pd.merge(recover, population,how='left' ,on=['Province/State','Country/Region'])"
   ]
  },
  {
   "cell_type": "code",
   "execution_count": null,
   "metadata": {
    "colab": {
     "base_uri": "https://localhost:8080/",
     "height": 224
    },
    "colab_type": "code",
    "executionInfo": {
     "elapsed": 906,
     "status": "ok",
     "timestamp": 1582444047902,
     "user": {
      "displayName": "Ran Kremer",
      "photoUrl": "https://lh3.googleusercontent.com/a-/AAuE7mB2_ZiPPU7rQBIvIt172EuazLz5955iIqYS5NAMAQ=s64",
      "userId": "05457805718113099013"
     },
     "user_tz": -120
    },
    "id": "4_P8_F9poBQk",
    "outputId": "28901cce-a647-4d3c-afd2-5ccfaa18fd9d"
   },
   "outputs": [],
   "source": [
    "# merge region confirmed + death + recover\n",
    "confirmed['region']=confirmed['Country/Region'].map(str)+'_'+confirmed['Province/State'].map(str)\n",
    "death['region']=death['Country/Region'].map(str)+'_'+death['Province/State'].map(str)\n",
    "recover['region']=recover['Country/Region'].map(str)+'_'+recover['Province/State'].map(str)\n",
    "confirmed.iloc[:,:]"
   ]
  },
  {
   "cell_type": "code",
   "execution_count": null,
   "metadata": {},
   "outputs": [],
   "source": [
    "# merge region death\n",
    "death.iloc[185:195,:]"
   ]
  },
  {
   "cell_type": "code",
   "execution_count": null,
   "metadata": {
    "scrolled": true
   },
   "outputs": [],
   "source": [
    "# merge region recover\n",
    "recover.iloc[175:185,:]"
   ]
  },
  {
   "cell_type": "code",
   "execution_count": null,
   "metadata": {
    "scrolled": true
   },
   "outputs": [],
   "source": [
    "confirmed.iloc[185:195,:]"
   ]
  },
  {
   "cell_type": "code",
   "execution_count": null,
   "metadata": {},
   "outputs": [],
   "source": [
    "confirmed.iloc[220:230,:]"
   ]
  },
  {
   "cell_type": "markdown",
   "metadata": {
    "colab_type": "text",
    "id": "2dJhgqRCVgBV"
   },
   "source": [
    "## Create Time Series + Plots"
   ]
  },
  {
   "cell_type": "code",
   "execution_count": null,
   "metadata": {
    "colab": {},
    "colab_type": "code",
    "id": "V21PYZNdlf5m"
   },
   "outputs": [],
   "source": [
    "def create_ts(df):\n",
    "  ts=df\n",
    "  ts=ts.drop(['Province/State', 'Country/Region','Lat', 'Long',' Population '], axis=1)\n",
    "  ts.set_index('region')\n",
    "  ts=ts.T\n",
    "  ts.columns=ts.loc['region']\n",
    "  ts=ts.drop('region')\n",
    "  ts=ts.fillna(0)\n",
    "  ts=ts.reindex(sorted(ts.columns), axis=1)\n",
    "  return (ts)"
   ]
  },
  {
   "cell_type": "code",
   "execution_count": null,
   "metadata": {
    "colab": {},
    "colab_type": "code",
    "id": "7XmTDuNDlx-k"
   },
   "outputs": [],
   "source": [
    "## JOAO - Fix - Drop Duplicates # Keep Last # Issue With Data source Change from John Hopkins institute\n",
    "#\n",
    "ts=create_ts(confirmed.drop_duplicates(subset=['region'], keep='last', inplace=False) )\n",
    "ts_d=create_ts(death.drop_duplicates(subset=['region'], keep='last', inplace=False) )\n",
    "ts_rec=create_ts(recover.drop_duplicates(subset=['region'], keep='last', inplace=False) )"
   ]
  },
  {
   "cell_type": "code",
   "execution_count": null,
   "metadata": {},
   "outputs": [],
   "source": [
    "# JOAO - FIX - Automation WarmUp of Plot Library\n",
    "import matplotlib.pyplot as plt\n",
    "import time\n",
    "plt.legend(loc = 'upper left')\n",
    "plt.show()"
   ]
  },
  {
   "cell_type": "code",
   "execution_count": null,
   "metadata": {
    "colab": {
     "base_uri": "https://localhost:8080/",
     "height": 1000
    },
    "colab_type": "code",
    "executionInfo": {
     "elapsed": 2666,
     "status": "ok",
     "timestamp": 1582444057086,
     "user": {
      "displayName": "Ran Kremer",
      "photoUrl": "https://lh3.googleusercontent.com/a-/AAuE7mB2_ZiPPU7rQBIvIt172EuazLz5955iIqYS5NAMAQ=s64",
      "userId": "05457805718113099013"
     },
     "user_tz": -120
    },
    "id": "jOOwU-KzPssI",
    "outputId": "19b97499-f8c5-460e-f173-aa44515444ec",
    "scrolled": false
   },
   "outputs": [],
   "source": [
    "#\n",
    "p=ts.reindex(ts.max().sort_values(ascending=False).index, axis=1)\n",
    "p.iloc[:,0:3].plot(marker='*',figsize=(20,12)).set_title('Daily Update - Total Confirmed - Top_3 World Region ',fontdict={'fontsize': 22})\n",
    "p.iloc[:,3:25].plot(marker='*',figsize=(20,12)).set_title('Daily Update - Total Confirmed - Major_4,25 2nd Areas',fontdict={'fontsize': 22})\n",
    "\n",
    "p_d=ts_d.reindex(ts_d.max().sort_values(ascending=False).index, axis=1)\n",
    "p_d.iloc[:,0:3].plot(marker='*',figsize=(20,12)).set_title('Daily Update - Total Deaths - Top_3 World Region',fontdict={'fontsize': 22})\n",
    "p_d.iloc[:,3:25].plot(marker='*',figsize=(20,12)).set_title('Daily Update - Total Deaths - Major_4,25 2nd Areas',fontdict={'fontsize': 22})\n",
    "\n",
    "p_r=ts_rec.reindex(ts_rec.max().sort_values(ascending=False).index, axis=1)\n",
    "p_r.iloc[:,0:3].plot(marker='*',figsize=(20,12)).set_title('Daily Update - Total Recovered - Top_3 World Region',fontdict={'fontsize': 22})\n",
    "p_r.iloc[:,3:25].plot(marker='*',figsize=(20,12)).set_title('Daily Update - Total Recovered - Major_4,25 2nd Areas',fontdict={'fontsize': 22})"
   ]
  },
  {
   "cell_type": "markdown",
   "metadata": {
    "colab_type": "text",
    "id": "EsVRIFMLoV_3"
   },
   "source": [
    "### Extract Weather Data"
   ]
  },
  {
   "cell_type": "code",
   "execution_count": null,
   "metadata": {
    "colab": {},
    "colab_type": "code",
    "id": "LwxsJMRHoQKS"
   },
   "outputs": [],
   "source": [
    "#!pip install pyweatherbit\n",
    "#\n",
    "from weatherbit.api import Api\n",
    "import json  \n",
    "import pandas as pd  \n",
    "from pandas.io.json import json_normalize \n",
    "\n",
    "### API - Joao\n",
    "from datetime import datetime\n",
    "#\n",
    "#api_key=\"46f953cbca334ea1b85ab5d47dbc9aa0\" # joao@fuelbigdata.com\n",
    "api_key=\"27a4e12ebc7f41b2bd6e300015f1a090\" # jpacerqueira.consult.bigdata@gmail.com\n",
    "#\n",
    "\n",
    "api = Api(api_key)\n",
    "api.set_granularity('daily')\n",
    "\n",
    "# # Set the granularity of the API - Options: ['daily','hourly','3hourly']\n",
    "# # Will only affect forecast requests.\n",
    "\n",
    "#api.get_forecast(lat='Lat', lon='Lon')\n",
    "#my_end_date=datetime.today().strftime('%Y-%m-%d')\n",
    "\n",
    "#### United Kingdom\n",
    "#lat1='55.378100'\n",
    "#lon1='-3.436000'\n",
    "#api.get_history(lat=lat1,lon=lon1, start_date='2020-03-29',end_date=my_end_date)\n"
   ]
  },
  {
   "cell_type": "code",
   "execution_count": null,
   "metadata": {},
   "outputs": [],
   "source": [
    "##\n",
    "#### My List of Countries and Regions to train and represent data\n",
    "my_train_list=[\n",
    " ### JOAO - LIST of Countries - Start here\n",
    "     #   'Andorra_nan', \n",
    "        'United States_nan',\n",
    "        'United Kingdom_nan',\n",
    "        'Italy_nan',\n",
    "        'Spain_nan',  \n",
    "        'Netherlands_nan',\n",
    "        'France_nan', \n",
    "        'Belgium_nan',\n",
    "        'Portugal_nan',\n",
    "        'Switzerland_nan',\n",
    "        'Germany_nan',\n",
    "        'Japan_nan',\n",
    "        'Poland_nan',\n",
    "  ### JOAO - LIST of Countries - Finish here\n",
    "        'Korea, South_nan',\n",
    "        'China_Hubei',\n",
    "        'China_Beijing',\n",
    "        'China_Guangdong',\n",
    "        'China_Shanghai',\n",
    "      #  'China_Shanxi',\n",
    "      #  'China_Sichuan',  'China_Xinjiang',\n",
    "      #  'China_Yunnan', 'China_Zhejiang',\n",
    "      #  'China_Anhui', 'China_Beijing',\n",
    "      #  'China_Chongqing', 'China_Fujian', 'China_Gansu',\n",
    "      #  'China_Guangdong', 'China_Guangxi', 'China_Guizhou',\n",
    "      #  'China_Hainan', 'China_Hebei', 'China_Heilongjiang', 'China_Henan',\n",
    "      #  'China_Hubei', 'China_Hunan', 'China_Inner Mongolia',\n",
    "      #  'China_Jiangsu', 'China_Jiangxi', 'China_Jilin', 'China_Liaoning',\n",
    "      #  'China_Ningxia', 'China_Qinghai', 'China_Shaanxi',\n",
    "      #  'China_Shandong', 'China_Shanghai', 'China_Shanxi',\n",
    "      #  'China_Sichuan', 'China_Tianjin', 'China_Tibet', 'China_Xinjiang',\n",
    "      #  'China_Yunnan', 'China_Zhejiang',\n",
    "      #  'Morocco_nan',\n",
    "        'Australia_New South Wales',\n",
    "      # 'Australia_Queensland',\n",
    "      # 'Australia_South Australia', 'Australia_Victoria', \n",
    "        'Brazil_nan',\n",
    "      # 'Cambodia_nan',\n",
    "      # 'Canada_British Columbia',\n",
    "        'Canada_Ontario',\n",
    "        'Canada_Quebec',\n",
    "      # 'Egypt_nan',\n",
    "        'China_Hong Kong',\n",
    "        'China_Macau',\n",
    "        'Finland_nan',\n",
    "        'India_nan',\n",
    "        'Iran_nan',\n",
    "        'Malaysia_nan',\n",
    "      # 'Nepal_nan',\n",
    "        'Norway_nan',\n",
    "        'Philippines_nan', 'Russia_nan', 'Singapore_nan',\n",
    "     #  'Sri Lanka_nan', 'Thailand_nan', 'United Arab Emirates_nan',\n",
    "        'Sweden_nan',\n",
    "        'Austria_nan',\n",
    "     #  'Taiwan*_nan', \n",
    "     #  'Vietnam_nan',\n",
    "        'Turkey_nan'\n",
    "       ]\n",
    "#"
   ]
  },
  {
   "cell_type": "markdown",
   "metadata": {
    "colab_type": "text",
    "id": "6BthA7XNoBnx"
   },
   "source": [
    "#### Weather History"
   ]
  },
  {
   "cell_type": "code",
   "execution_count": null,
   "metadata": {
    "colab": {},
    "colab_type": "code",
    "id": "eEriYmKdoFaN"
   },
   "outputs": [],
   "source": [
    "# ################## already done since API is limited to 500 call per day\n",
    "## consume Wether data From 15/03/2020 forward to end_date=30/03/2020\n",
    "#\n",
    "### Location in confirmed array to start in pos 1='Albania_nan' 61 = 'China_Hong Kong'\n",
    "### Only run for Countries in above : my_train_list \n",
    "vpos=len(confirmed.iloc[1])-1 #90# 89 #88 #87 #86 #85 #84 #83 #82 #81 #80 #79 #78 #77 #76 #75 #74 #1 #73\n",
    "print('xcountry_region='+confirmed.iloc[1,vpos])\n",
    "\n",
    "my_weather_fetch_list= my_train_list # ['Canada_Quebec'] #  ['Iran_nan'] #['Brazil_nan'] #\n",
    "\n",
    "start_date_init=pd.to_datetime('today').strftime('%Y/%m/%d') # '2020-04-18'\n",
    "print('start_date_init=',start_date_init)\n",
    "offset_days=-1 # -1 to start yesterday pick today # API free-tier just picks one per api call!\n",
    "max_days=1 #1\n",
    "\n",
    "w=pd.DataFrame(columns=['date','region','min','max'])\n",
    "if bypass_weather != 1 :\n",
    "    for h in range(0,max_days):\n",
    "        offset_days=h\n",
    "        start_date=pd.to_datetime(start_date_init)\n",
    "        #\n",
    "        end_date=(start_date+pd.DateOffset(days=offset_days+1)).strftime('%Y-%m-%d')\n",
    "        start_date=(start_date+pd.DateOffset(days=offset_days)).strftime('%Y-%m-%d')\n",
    "        prnt_start_date=pd.to_datetime(start_date).strftime('%Y/%m/%d')\n",
    "        prnt_end_date=pd.to_datetime(end_date).strftime('%Y/%m/%d')\n",
    "        #\n",
    "        for i in range (1,len(confirmed)):\n",
    "            if confirmed.iloc[i,vpos] not in my_weather_fetch_list:\n",
    "                continue\n",
    "            if confirmed.iloc[i,vpos] in my_weather_fetch_list:\n",
    "                #\n",
    "                # Clean JSON structure return from API Call\n",
    "                jas=\"\"\n",
    "                jas=api.get_history(lat=confirmed.iloc[i,2], lon=confirmed.iloc[i,3], start_date=start_date,end_date=end_date).json\n",
    "                if (((json_normalize(jas['data'])['min_temp'].values[0])=='')\n",
    "                     or (np.isnan((json_normalize(jas['data'])['min_temp'].values[0])) == True )):\n",
    "                    continue\n",
    "                try:\n",
    "                    w=w.append({'date':prnt_end_date,'region':confirmed.iloc[i,vpos] ,'min':json_normalize(jas['data'])['min_temp'].values[0],'max':json_normalize(jas['data'])['max_temp'].values[0]}, ignore_index=True)\n",
    "                except Exception:\n",
    "                    w=w.append({'date':prnt_end_date,'region':confirmed.iloc[i,vpos] ,'min':None,'max':None}, ignore_index=True)\n",
    "    #        \n",
    "#\n",
    "table_columns=['date','region','min','max']\n",
    "w = w[w.columns.intersection(table_columns)]"
   ]
  },
  {
   "cell_type": "code",
   "execution_count": null,
   "metadata": {},
   "outputs": [],
   "source": [
    "w.to_csv('data/w_v2_v227.csv', index = False, header=True)"
   ]
  },
  {
   "cell_type": "code",
   "execution_count": null,
   "metadata": {},
   "outputs": [],
   "source": [
    "w[:]"
   ]
  },
  {
   "cell_type": "markdown",
   "metadata": {
    "colab_type": "text",
    "id": "DP96GEhbXKL1"
   },
   "source": [
    "## Kalman Filter With R"
   ]
  },
  {
   "cell_type": "code",
   "execution_count": null,
   "metadata": {},
   "outputs": [],
   "source": [
    "# Joao - FIX - Improve Performance \n",
    "### Drop the Months of Jan, Feb < 06/02 as\n",
    "### they are too in the Past and model no longuer trains in China Hubei only!\n",
    "\n",
    "ts=ts[15:]\n",
    "ts_d=ts_d[15:]\n",
    "ts_rec=ts_rec[15:]"
   ]
  },
  {
   "cell_type": "code",
   "execution_count": null,
   "metadata": {},
   "outputs": [],
   "source": [
    "ts[:3]"
   ]
  },
  {
   "cell_type": "code",
   "execution_count": null,
   "metadata": {},
   "outputs": [],
   "source": [
    "ts[-4:]"
   ]
  },
  {
   "cell_type": "code",
   "execution_count": null,
   "metadata": {
    "colab": {},
    "colab_type": "code",
    "id": "ie1YVvCXgybm"
   },
   "outputs": [],
   "source": [
    "# Create data for R script\n",
    "ts_conf=ts.reset_index()\n",
    "ts_conf=ts_conf.rename(columns = {'index':'date'})\n",
    "ts_conf['date']=pd.to_datetime(ts_conf['date'] ,errors ='coerce')\n",
    "ts_conf.to_csv(r'/home/notebookuser/notebooks/covid19/data/ts_conf_r.csv')\n",
    "\n",
    "ts_rec=ts_rec.reset_index()\n",
    "ts_rec=ts_rec.rename(columns = {'index':'date'})\n",
    "ts_rec['date']=pd.to_datetime(ts_rec['date'] ,errors ='coerce')\n",
    "ts_rec.to_csv(r'/home/notebookuser/notebooks/covid19/data/ts_rec_r.csv')\n",
    "\n",
    "\n",
    "ts_d=ts_d.reset_index()\n",
    "ts_d=ts_d.rename(columns = {'index':'date'})\n",
    "ts_d['date']=pd.to_datetime(ts_d['date'] ,errors ='coerce')\n",
    "ts_d.to_csv(r'/home/notebookuser/notebooks/covid19/data/ts_d_r.csv')\n"
   ]
  },
  {
   "cell_type": "code",
   "execution_count": null,
   "metadata": {
    "colab": {
     "base_uri": "https://localhost:8080/",
     "height": 629
    },
    "colab_type": "code",
    "executionInfo": {
     "elapsed": 19024,
     "status": "ok",
     "timestamp": 1582444082482,
     "user": {
      "displayName": "Ran Kremer",
      "photoUrl": "https://lh3.googleusercontent.com/a-/AAuE7mB2_ZiPPU7rQBIvIt172EuazLz5955iIqYS5NAMAQ=s64",
      "userId": "05457805718113099013"
     },
     "user_tz": -120
    },
    "id": "ngrkbpXcprcN",
    "outputId": "b79bf710-1544-449f-9d07-411cc2efcda5"
   },
   "outputs": [],
   "source": [
    "%%R\n",
    "\n",
    "#install.packages('pracma')\n",
    "#install.packages('Metrics')\n",
    "#install.packages('readr')\n",
    "#install.packages('reshape')\n",
    "\n",
    "Sys.setenv(TZ='GMT')\n",
    "Sys.timezone()"
   ]
  },
  {
   "cell_type": "code",
   "execution_count": null,
   "metadata": {
    "colab": {
     "base_uri": "https://localhost:8080/",
     "height": 238
    },
    "colab_type": "code",
    "executionInfo": {
     "elapsed": 2026,
     "status": "ok",
     "timestamp": 1582444084537,
     "user": {
      "displayName": "Ran Kremer",
      "photoUrl": "https://lh3.googleusercontent.com/a-/AAuE7mB2_ZiPPU7rQBIvIt172EuazLz5955iIqYS5NAMAQ=s64",
      "userId": "05457805718113099013"
     },
     "user_tz": -120
    },
    "id": "mcIMrc3AW-Km",
    "outputId": "31c140e2-1428-44fb-b669-97c0ba6b6321",
    "scrolled": true
   },
   "outputs": [],
   "source": [
    "%%R\n",
    "require(pracma)\n",
    "require(Metrics)\n",
    "require(readr)\n",
    "all<- read_csv(\"/home/notebookuser/notebooks/covid19/data/ts_conf_r.csv\")\n",
    "all$X1<-NULL\n",
    "date<-all[,1]\n",
    "date[nrow(date) + 1,1] <-all[nrow(all),1]+1\n",
    "pred_all<-NULL\n",
    "for (n in 2:ncol(all)-1) {\n",
    "  Y<-ts(data = all[n+1], start = 1, end =nrow(all)+1)  \n",
    "  sig_w<-0.01\n",
    "  w<-sig_w*randn(1,100) # acceleration which denotes the fluctuation (Q/R) rnorm(100, mean = 0, sd = 1)\n",
    "  sig_v<-0.01\n",
    "  v<-sig_v*randn(1,100)   \n",
    "  t<-0.45\n",
    "  phi<-matrix(c(1,0,t,1),2,2)\n",
    "  gama<-matrix(c(0.5*t^2,t),2,1)\n",
    "  H<-matrix(c(1,0),1,2)\n",
    "  #Kalman\n",
    "  x0_0<-p0_0<-matrix(c(0,0),2,1)\n",
    "  p0_0<-matrix(c(1,0,0,1),2,2)\n",
    "  Q<-0.01\n",
    "  R<-0.01\n",
    "  X<-NULL\n",
    "  X2<-NULL\n",
    "  pred<-NULL\n",
    "  for (i in 0:nrow(all)) {\n",
    "    namp <-paste(\"p\", i+1,\"_\",i, sep = \"\")\n",
    "    assign(namp, phi%*%(get(paste(\"p\", i,\"_\",i, sep = \"\")))%*%t(phi)+gama%*%Q%*%t(gama))\n",
    "    namk <- paste(\"k\", i+1, sep = \"\")\n",
    "    assign(namk,get(paste(\"p\", i+1,\"_\",i, sep = \"\"))%*%t(H)%*%(1/(H%*%get(paste(\"p\", i+1,\"_\",i, sep = \"\"))%*%t(H)+R)))\n",
    "    namx <- paste(\"x\", i+1,\"_\",i, sep = \"\")\n",
    "    assign(namx,phi%*%get(paste(\"x\", i,\"_\",i, sep = \"\")))\n",
    "    namE <- paste(\"E\", i+1, sep = \"\")\n",
    "    assign(namE,Y[i+1]-H%*%get(paste(\"x\", i+1,\"_\",i, sep = \"\")))\n",
    "    namx2 <- paste(\"x\", i+1,\"_\",i+1, sep = \"\")\n",
    "    assign(namx2,get(paste(\"x\", i+1,\"_\",i, sep = \"\"))+get(paste(\"k\", i+1, sep = \"\"))%*%get(paste(\"E\", i+1, sep = \"\")))\n",
    "    namp2 <- paste(\"p\", i+1,\"_\",i+1, sep = \"\")\n",
    "    assign(namp2,(p0_0-get(paste(\"k\", i+1, sep = \"\"))%*%H)%*%get(paste(\"p\", i+1,\"_\",i, sep = \"\")))\n",
    "    X<-rbind(X,get(paste(\"x\", i+1,\"_\",i,sep = \"\"))[1])\n",
    "    X2<-rbind(X2,get(paste(\"x\", i+1,\"_\",i,sep = \"\"))[2])\n",
    "    if(i>2){\n",
    "      remove(list=(paste(\"p\", i-1,\"_\",i-2, sep = \"\")))\n",
    "      remove(list=(paste(\"k\", i-1, sep = \"\")))\n",
    "      remove(list=(paste(\"E\", i-1, sep = \"\")))\n",
    "      remove(list=(paste(\"p\", i-2,\"_\",i-2, sep = \"\")))\n",
    "      remove(list=(paste(\"x\", i-1,\"_\",i-2, sep = \"\")))\n",
    "      remove(list=(paste(\"x\", i-2,\"_\",i-2, sep = \"\")))}\n",
    "  }\n",
    "  pred<-NULL\n",
    "  pred<-cbind(Y,X,round(X2,4))\n",
    "  pred<-as.data.frame(pred)\n",
    "  pred$region<-colnames(all[,n+1])\n",
    "  pred$date<-date$date\n",
    "  pred$actual<-rbind(0,(cbind(pred[2:nrow(pred),1])/pred[1:nrow(pred)-1,1]-1)*100)\n",
    "  pred$predict<-rbind(0,(cbind(pred[2:nrow(pred),2])/pred[1:nrow(pred)-1,2]-1)*100)\n",
    "  pred$pred_rate<-(pred$X/pred$Y-1)*100\n",
    "  pred$X2_change<-rbind(0,(cbind(pred[2:nrow(pred),3]-pred[1:nrow(pred)-1,3])))\n",
    "  pred_all<-rbind(pred_all,pred)\n",
    "}\n",
    "pred_all<-cbind(pred_all[,4:5],pred_all[,1:3])\n",
    "names(pred_all)[5]<-\"X2\"\n",
    "pred_all=pred_all[with( pred_all, order(region, date)), ]\n",
    "pred_all<-pred_all[,3:5]"
   ]
  },
  {
   "cell_type": "code",
   "execution_count": null,
   "metadata": {},
   "outputs": [],
   "source": [
    "p=%R pred_all"
   ]
  },
  {
   "cell_type": "code",
   "execution_count": null,
   "metadata": {
    "colab": {},
    "colab_type": "code",
    "id": "j8ZrF8iJUcKq",
    "scrolled": true
   },
   "outputs": [],
   "source": [
    "############ Merge R output due to package problem\n",
    "### Joao FIX - \n",
    "# t=ts_d    -  deaths\n",
    "# t=ts_rec  -  recovered\n",
    "# t=ts      -  confirmed\n",
    "t=ts\n",
    "t=t.stack().reset_index(name='confirmed')\n",
    "t.columns=['date', 'region','confirmed']\n",
    "t['date']=pd.to_datetime(t['date'] ,errors ='coerce')\n",
    "t=t.sort_values(['region', 'date'])\n",
    "\n",
    "temp=t.iloc[:,:3]\n",
    "temp=temp.reset_index(drop=True)\n",
    "for i in range(1,len(t)+1):\n",
    "  if(temp.iloc[i,1] is not temp.iloc[i-1,1]):\n",
    "    temp.loc[len(temp)+1] = [temp.iloc[i-1,0]+ pd.DateOffset(1),temp.iloc[i-1,1], 0] \n",
    "temp=temp.sort_values(['region', 'date'])\n",
    "temp=temp.reset_index(drop=True)\n",
    "temp['Y']=p['Y']\n",
    "temp['X']=p['X']\n",
    "temp['X2']=p['X2']\n",
    "\n",
    "# JOAO - FIX - temp fixed\n",
    "# Y,X,X2 nan issue from p revolved\n",
    "\n",
    "p_pd=pd.DataFrame(p,columns=['Y','X','X2'])\n",
    "\n",
    "p_pd['nindex'] = range(1, 1+len(p_pd))\n",
    "temp['nindex']= range(1,1+len(temp))\n",
    "\n",
    "#temp_1 = temp.join(p_pd)\n",
    "temp_1 = temp.merge(p_pd, on='nindex', how='inner', suffixes=('_1', '_2')).rename(columns={\"Y_2\": \"Y\", \"X_2\": \"X\", \"X2_2\" : \"X2\"})\n",
    "temp_1 = temp_1.drop(columns=['Y_1', 'X_1','X2_1','nindex'])\n",
    "\n",
    "\n",
    "temp=temp_1\n",
    "temp.to_csv(r'/home/notebookuser/notebooks/covid19/data/temp.csv')"
   ]
  },
  {
   "cell_type": "markdown",
   "metadata": {
    "colab_type": "text",
    "id": "a7vUr36bVvOb"
   },
   "source": [
    "## Pre Proccessing Data for ML Model"
   ]
  },
  {
   "cell_type": "markdown",
   "metadata": {
    "colab_type": "text",
    "id": "PTerYYnPq2X7"
   },
   "source": [
    "### Extract Weather Forecast Data"
   ]
  },
  {
   "cell_type": "code",
   "execution_count": null,
   "metadata": {
    "colab": {},
    "colab_type": "code",
    "id": "M4XJBLT2-quk"
   },
   "outputs": [],
   "source": [
    "#\n",
    "### Joao - Test Later Weather from new file : w_v2.csv and w_v2_v2.csv\n",
    "w_v2=pd.read_csv('data/w_v2.csv', sep=',', encoding='latin1')\n",
    "w_v2['date']=pd.to_datetime(w_v2['date'],format='%Y/%m/%d')\n",
    "\n",
    "w_v2_v2=pd.read_csv('data/w_v2_v2.csv', sep=',', encoding='latin1')\n",
    "w_v2_v2['date']=pd.to_datetime(w_v2_v2['date'],format='%Y/%m/%d')\n",
    "\n",
    "w_v2_v227=pd.read_csv('data/w_v2_v227.csv', sep=',', encoding='latin1')\n",
    "w_v2_v227['date']=pd.to_datetime(w_v2_v227['date'],format='%Y/%m/%d')\n",
    "\n",
    "w=pd.read_csv('data/w.csv', sep=',', encoding='latin1')\n",
    "w['date']=pd.to_datetime(w['date'],format='%d/%m/%Y')\n",
    "\n",
    "w_forecast=pd.read_csv('data/w_forecast.csv', sep=',', encoding='latin1')\n",
    "w_forecast['date']=pd.to_datetime(w_forecast['date'],format='%d/%m/%Y')\n",
    "\n",
    "### Append Weather fetched now to file w_v2_v2\n",
    "w_n_forward=w_v2_v2.append(w_v2_v227) \n",
    "w_n_forward=w_n_forward.drop_duplicates(subset=['date','region'], keep='last', inplace=False)\n",
    "w_n_forward=w_n_forward.sort_values(by=['region','date'], ascending=True)\n",
    "w_n_forward.to_csv(r'data/w_v2_v2.csv', index = False, header=True)"
   ]
  },
  {
   "cell_type": "code",
   "execution_count": null,
   "metadata": {},
   "outputs": [],
   "source": [
    "w_total=pd.DataFrame(columns=['date','region','min','max'])\n",
    "w_total=w.append(w_forecast).append(w_v2).append(w_v2_v2).append(w_v2_v227) \n",
    "w_total=w_total.drop_duplicates(subset=['date','region'], keep='last', inplace=False)\n",
    "w_total=w_total.sort_values(by=['region','date'], ascending=True)\n",
    "\n",
    "w_total.to_csv(r'data/w_total.csv', index = False, header=True)"
   ]
  },
  {
   "cell_type": "code",
   "execution_count": null,
   "metadata": {},
   "outputs": [],
   "source": [
    "w_in_model=pd.read_csv('data/w_total.csv', sep=',', encoding='latin1')\n",
    "#\n",
    "w_in_model['date']=pd.to_datetime(w_in_model['date'],format='%Y/%m/%d')\n",
    "w_in_model.to_csv(r'data/w_in_model.csv', index = False, header=True)"
   ]
  },
  {
   "cell_type": "code",
   "execution_count": null,
   "metadata": {},
   "outputs": [],
   "source": [
    "w_in_model.tail(2)"
   ]
  },
  {
   "cell_type": "markdown",
   "metadata": {
    "colab_type": "text",
    "id": "2vIZPBkfoqHe"
   },
   "source": [
    "### Build Train Set Data Structure"
   ]
  },
  {
   "cell_type": "code",
   "execution_count": null,
   "metadata": {
    "colab": {},
    "colab_type": "code",
    "id": "YPMRge7kQA8t"
   },
   "outputs": [],
   "source": [
    "### JOAO - Fix -\n",
    "## t=ts confirmed\n",
    "t=ts\n",
    "t=t.stack().reset_index(name='confirmed')\n",
    "t.columns=['date', 'region','confirmed']\n",
    "t['date']=pd.to_datetime(t['date'] ,errors ='coerce')\n",
    "t=t.sort_values(['region', 'date'])\n",
    "\n",
    "# Add 1 Future day for prediction\n",
    "t=t.reset_index(drop=True)\n",
    "for i in range(1,len(t)+1):\n",
    "    if(t.iloc[i,1] is not t.iloc[i-1,1]):\n",
    "        t.loc[len(t)+1] = [t.iloc[i-1,0]+ pd.DateOffset(1),t.iloc[i-1,1], 0] \n",
    "t=t.sort_values(['region', 'date'])\n",
    "t=t.reset_index(drop=True)"
   ]
  },
  {
   "cell_type": "code",
   "execution_count": null,
   "metadata": {},
   "outputs": [],
   "source": [
    "### JOAO - Fix -\n",
    "t['1_day_change']=t['3_day_change']=t['7_day_change']=t['1_day_change_rate']=t['3_day_change_rate']=t['7_day_change_rate']=t['last_day']=0\n",
    "#\n",
    "### JOAO - Fix - ipykernel_launcher.py:5: RuntimeWarning: divide by zero encountered in double_scalars\n",
    "for i in range(1,len(t)):\n",
    "    if(t.iloc[i,1] is t.iloc[i-2,1]):\n",
    "        t.iloc[i,3]=t.iloc[i-1,2]-t.iloc[i-2,2]\n",
    "        t.iloc[i,6]=((t.iloc[i-1,2]*100 +1)/(t.iloc[i-2,2]*100 -1 +1))*100\n",
    "        t.iloc[i,9]=t.iloc[i-1,2]\n",
    "    if(t.iloc[i,1] is t.iloc[i-4,1]):\n",
    "        t.iloc[i,4]=t.iloc[i-1,2]-t.iloc[i-4,2]\n",
    "        t.iloc[i,7]=((t.iloc[i-1,2]*100 +1)/(t.iloc[i-4,2]*100 -1 +1))*100\n",
    "    if(t.iloc[i,1] is t.iloc[i-8,1]):\n",
    "        t.iloc[i,5]=t.iloc[i-1,2]-t.iloc[i-8,2]\n",
    "        t.iloc[i,8]=((t.iloc[i-1,2]*100 +1)/(t.iloc[i-8,2]*100 -1 +1))*100\n",
    "t=t.fillna(0)  \n",
    "t=t.merge(temp[['date','region', 'X']],how='left',on=['date','region'])\n",
    "t=t.rename(columns = {'X':'kalman_prediction'}) \n",
    "t=t.replace([np.inf, -np.inf], 0)\n",
    "\n",
    "### Joao - Fix NaN Kalman_Filter\n",
    "t['kalman_prediction']=np.nan_to_num(t['kalman_prediction'])\n",
    "t['kalman_prediction']=round(t['kalman_prediction'])\n",
    "\n",
    "#\n",
    "train=t.merge(confirmed[['region',' Population ']],how='left',on='region')\n",
    "train=train.rename(columns = {' Population ':'population'})\n",
    "train['population']=train['population'].str.replace(r\" \", '')\n",
    "train['population']=train['population'].str.replace(r\",\", '')\n",
    "train['population']=train['population'].fillna(10000000) ### Fill 10M if nan\n",
    "train['population']=train['population'].astype('int32')\n",
    "### JOAO - Fix - ipykernel_launcher.py:5: RuntimeWarning: divide by zero encountered in double_scalars\n",
    "# train['infected_rate']=train['last_day']/train['population']*10000\n",
    "train['infected_rate']=(((train['last_day'] +1)*100)/((train['population'] +1)*100000) *10) # *100 - % converter\n",
    " #\n",
    "#### Joao , merge w weather only !?!\n",
    "##train=train.merge(w,how='left',on=['date','region'])\n",
    "train=train.merge(w_in_model,how='left',on=['date','region'])\n",
    "#\n",
    "train=train.sort_values(['region', 'date'])\n",
    "### fill missing weather \n",
    "for i in range(0,len(train)):\n",
    "    if(np.isnan(train.iloc[i,13])):\n",
    "        if(train.iloc[i,1] is train.iloc[i-1,1]):\n",
    "            train.iloc[i,13]=train.iloc[i-1,13]\n",
    "            train.iloc[i,14]=train.iloc[i-1,14]"
   ]
  },
  {
   "cell_type": "code",
   "execution_count": null,
   "metadata": {},
   "outputs": [],
   "source": [
    "# Joao - Fix - Nulls are an issue\n",
    "train_notnull=train[train['kalman_prediction'] != 0.0 ] #.any(axis=1)]\n",
    "train_notnull[:]"
   ]
  },
  {
   "cell_type": "code",
   "execution_count": null,
   "metadata": {},
   "outputs": [],
   "source": [
    "# Joao - Fix - Nulls are an issue\n",
    "train_nulls=train[train['kalman_prediction'].isnull() ] #.any(axis=1)]\n",
    "train_nulls[:]"
   ]
  },
  {
   "cell_type": "code",
   "execution_count": null,
   "metadata": {},
   "outputs": [],
   "source": [
    "# Joao - Fix - Nulls are an issue\n",
    "\n",
    "train_nulls=train[train.isnull().any(axis=1)]\n",
    "train_nulls[:]\n",
    "train[-1:]"
   ]
  },
  {
   "cell_type": "code",
   "execution_count": null,
   "metadata": {},
   "outputs": [],
   "source": [
    "train.to_csv(r'data/train.csv', index = False, header=True)\n",
    "\n",
    "##Shared -- Ratio in Confirmed - 21Day Forecast -- train 25April2020 - I\n",
    "ratiod=pd.read_csv('data/train.csv', sep=',', encoding='latin1')\n",
    "todayd=datetime.today().strftime('%Y-%m-%d')\n",
    "ratiofn=\"Shared -- Ratio in Confirmed - \"+str(num_days_R_prediction)+\"Day Forecast -- train \"+todayd+\".csv\"\n",
    "\n",
    "ratiod['population_percentage_infected_rate_confirmed']=ratiod['infected_rate']*100\n",
    "ratiod['population_percentage_factor_9.8_10_infected_rate_confirmed']=ratiod['infected_rate']*100*9.8\n",
    "ratiod['delta_new_cases']=ratiod['kalman_prediction']-ratiod['last_day']\n",
    "ratiod['delta_new_cases_per_1M_hab']=ratiod['delta_new_cases']/ratiod['population']*1000000\n",
    "\n",
    "ratiod.to_csv(r'data/'+ratiofn, index = False, header=True)\n",
    "\n",
    "ratiod[-3:]"
   ]
  },
  {
   "cell_type": "markdown",
   "metadata": {
    "colab_type": "text",
    "id": "YekOqU6Xr-qZ"
   },
   "source": [
    "## Kalman 1 day Prediction with Evaluation"
   ]
  },
  {
   "cell_type": "code",
   "execution_count": null,
   "metadata": {},
   "outputs": [],
   "source": [
    "# Select region\n",
    "region='United States_nan'\n",
    "\n",
    "evaluation=pd.DataFrame(columns=['region','mse','rmse','mae'])\n",
    "place=0\n",
    "for i in range(1,len(t)):\n",
    "    if(t.iloc[i,1] is not t.iloc[i-1,1]):\n",
    "        ex=np.array(t.iloc[i-len(ts):i,10])\n",
    "        pred=np.array(t.iloc[i-len(ts):i,2])\n",
    "        evaluation=evaluation.append({'region': t.iloc[i-1,1], 'mse': np.power((ex - pred),2).mean(),'rmse':sqrt(mean_squared_error(ex,pred)),'mae': (abs(ex - pred)).mean()}, ignore_index=True)\n",
    "p=t[t['region']==region][['date','region','confirmed','kalman_prediction']]\n",
    "#p=p.rename(columns = {'confirmed':'recoverd'})\n",
    "p.iloc[len(p)-1,2]=None\n",
    "p=p.set_index(['date'])\n",
    "p.iloc[:,1:].plot(marker='o',figsize=(16,8)).set_title('Kalman Prediction - Select Region to Change - {}'.format(p.iloc[0,0]))\n",
    "\n",
    "print(evaluation[evaluation['region']==p.iloc[0,0]])"
   ]
  },
  {
   "cell_type": "code",
   "execution_count": null,
   "metadata": {},
   "outputs": [],
   "source": [
    "# Select region\n",
    "region='Russia_nan'\n",
    "\n",
    "evaluation=pd.DataFrame(columns=['region','mse','rmse','mae'])\n",
    "place=0\n",
    "for i in range(1,len(t)):\n",
    "    if(t.iloc[i,1] is not t.iloc[i-1,1]):\n",
    "        ex=np.array(t.iloc[i-len(ts):i,10])\n",
    "        pred=np.array(t.iloc[i-len(ts):i,2])\n",
    "        evaluation=evaluation.append({'region': t.iloc[i-1,1], 'mse': np.power((ex - pred),2).mean(),'rmse':sqrt(mean_squared_error(ex,pred)),'mae': (abs(ex - pred)).mean()}, ignore_index=True)\n",
    "p=t[t['region']==region][['date','region','confirmed','kalman_prediction']]\n",
    "#p=p.rename(columns = {'confirmed':'recoverd'})\n",
    "p.iloc[len(p)-1,2]=None\n",
    "p=p.set_index(['date'])\n",
    "p.iloc[:,1:].plot(marker='o',figsize=(16,8)).set_title('Kalman Prediction - Select Region to Change - {}'.format(p.iloc[0,0]))\n",
    "\n",
    "print(evaluation[evaluation['region']==p.iloc[0,0]])"
   ]
  },
  {
   "cell_type": "code",
   "execution_count": null,
   "metadata": {},
   "outputs": [],
   "source": [
    "# Select region\n",
    "region='Brazil_nan'\n",
    "\n",
    "evaluation=pd.DataFrame(columns=['region','mse','rmse','mae'])\n",
    "place=0\n",
    "for i in range(1,len(t)):\n",
    "    if(t.iloc[i,1] is not t.iloc[i-1,1]):\n",
    "        ex=np.array(t.iloc[i-len(ts):i,10])\n",
    "        pred=np.array(t.iloc[i-len(ts):i,2])\n",
    "        evaluation=evaluation.append({'region': t.iloc[i-1,1], 'mse': np.power((ex - pred),2).mean(),'rmse':sqrt(mean_squared_error(ex,pred)),'mae': (abs(ex - pred)).mean()}, ignore_index=True)\n",
    "p=t[t['region']==region][['date','region','confirmed','kalman_prediction']]\n",
    "#p=p.rename(columns = {'confirmed':'recoverd'})\n",
    "p.iloc[len(p)-1,2]=None\n",
    "p=p.set_index(['date'])\n",
    "p.iloc[:,1:].plot(marker='o',figsize=(16,8)).set_title('Kalman Prediction - Select Region to Change - {}'.format(p.iloc[0,0]))\n",
    "\n",
    "print(evaluation[evaluation['region']==p.iloc[0,0]])"
   ]
  },
  {
   "cell_type": "code",
   "execution_count": null,
   "metadata": {},
   "outputs": [],
   "source": [
    "# Select region\n",
    "region='United Kingdom_nan'\n",
    "\n",
    "evaluation=pd.DataFrame(columns=['region','mse','rmse','mae'])\n",
    "place=0\n",
    "for i in range(1,len(t)):\n",
    "    if(t.iloc[i,1] is not t.iloc[i-1,1]):\n",
    "        ex=np.array(t.iloc[i-len(ts):i,10])\n",
    "        pred=np.array(t.iloc[i-len(ts):i,2])\n",
    "        evaluation=evaluation.append({'region': t.iloc[i-1,1], 'mse': np.power((ex - pred),2).mean(),'rmse':sqrt(mean_squared_error(ex,pred)),'mae': (abs(ex - pred)).mean()}, ignore_index=True)\n",
    "p=t[t['region']==region][['date','region','confirmed','kalman_prediction']]\n",
    "#p=p.rename(columns = {'confirmed':'recoverd'})\n",
    "p.iloc[len(p)-1,2]=None\n",
    "p=p.set_index(['date'])\n",
    "p.iloc[:,1:].plot(marker='o',figsize=(16,8)).set_title('Kalman Prediction - Select Region to Change - {}'.format(p.iloc[0,0]))\n",
    "\n",
    "print(evaluation[evaluation['region']==p.iloc[0,0]])"
   ]
  },
  {
   "cell_type": "markdown",
   "metadata": {
    "colab_type": "text",
    "id": "8fjvSTMetENY"
   },
   "source": [
    "## Regression - 1 Day Prediction"
   ]
  },
  {
   "cell_type": "code",
   "execution_count": null,
   "metadata": {
    "colab": {
     "base_uri": "https://localhost:8080/",
     "height": 851
    },
    "colab_type": "code",
    "executionInfo": {
     "elapsed": 31942,
     "status": "ok",
     "timestamp": 1582444237701,
     "user": {
      "displayName": "Ran Kremer",
      "photoUrl": "https://lh3.googleusercontent.com/a-/AAuE7mB2_ZiPPU7rQBIvIt172EuazLz5955iIqYS5NAMAQ=s64",
      "userId": "05457805718113099013"
     },
     "user_tz": -120
    },
    "id": "j0cRQK7UfQVg",
    "outputId": "5e4bc582-2e4a-46c5-83e6-88e92532bca4",
    "scrolled": false
   },
   "outputs": [],
   "source": [
    "#!pip install h2o\n",
    "import h2o\n",
    "from h2o.estimators import H2ORandomForestEstimator\n",
    "from h2o.estimators.glm import H2OGeneralizedLinearEstimator\n",
    "from h2o.grid.grid_search import H2OGridSearch\n",
    "h2o.init(min_mem_size='5G')\n",
    "import numpy as np\n",
    "from sklearn.linear_model import LinearRegression"
   ]
  },
  {
   "cell_type": "code",
   "execution_count": null,
   "metadata": {},
   "outputs": [],
   "source": [
    "\n",
    "train=train.fillna(0)\n",
    "\n",
    "########################################################\n",
    "\n",
    "### Joao - Training  progression - When growth happened 2020/03/05 to 2020/04/12\n",
    "### Joao - FIX - Refresh this daily forward\n",
    "\n",
    "### Old Fixed manual ### Last run 17April2020\n",
    "##\n",
    "#train_df=train[train['date']>'2020-03-04']\n",
    "#train_df=train[train['date']<'2020-04-16']\n",
    "#boots=train_df[train_df['date']>='2020-04-08'] # some bootstrap to give more weight for recent days\n",
    "#train_df=train_df.append([boots[boots['date']>='2020-04-12']]*1000,ignore_index=True)\n",
    "\n",
    "### Train progression of the Virus ### In Country list or Spain only\n",
    "#region_to_train=my_train_list\n",
    "#train_df_v2=train_df[train_df['region'].isin(region_to_train)] # =='Spain_nan'] #\n",
    "#test=train[train['date']>='2020-04-03']\n",
    "#test=test[test['date']<'2020-04-17']\n",
    "#test_v2=test[test['region'].isin(region_to_train)]\n",
    "#valid_v2=test_v2[test_v2['date']>='2020-04-16']\n",
    "\n",
    "########################################################\n",
    "\n",
    "# Set minimum of 42 training day 6weeks.\n",
    "#\n",
    "if number_past_days_training>=42 : \n",
    "    ntraindays=number_past_days_training \n",
    "else : \n",
    "    ntraindays=42\n",
    "#\n",
    "to_day=pd.to_datetime('today')\n",
    "first_train_date=(to_day+pd.DateOffset(days=-ntraindays)).strftime('%Y-%m-%d') # ntraindays/7 weeks =ntraindays days training\n",
    "last_train_date=(to_day+pd.DateOffset(days=-1)).strftime('%Y-%m-%d')\n",
    "first_bootstrap_date=(to_day+pd.DateOffset(days=-9)).strftime('%Y-%m-%d')\n",
    "boost_bootstrap_date=(to_day+pd.DateOffset(days=-4)).strftime('%Y-%m-%d')\n",
    "first_test_date=(to_day+pd.DateOffset(days=-10)).strftime('%Y-%m-%d')\n",
    "last_test_date=to_day.strftime('%Y-%m-%d')\n",
    "first_valid_date=(to_day+pd.DateOffset(days=-2)).strftime('%Y-%m-%d')\n",
    "\n",
    "print('first_train_date=',first_train_date)\n",
    "print('last_train_date=',last_train_date)\n",
    "print('first_bootstrap_date=',first_bootstrap_date)\n",
    "print('boost_bootstrap_date=',boost_bootstrap_date)\n",
    "print('first_test_date=',first_test_date)\n",
    "print('last_test_date=',last_test_date)\n",
    "print('first_valid_date=',first_valid_date)\n",
    "\n",
    "train_df=train[train['date']>first_train_date]\n",
    "train_df=train[train['date']<last_train_date]\n",
    "boots=train_df[train_df['date']>=first_bootstrap_date] # some bootstrap to give more weight for recent days\n",
    "train_df=train_df.append([boots[boots['date']>=boost_bootstrap_date]]*5,ignore_index=True)\n",
    "\n",
    "### Train progression of the Virus ### In Country list or Spain only\n",
    "region_to_train=my_train_list\n",
    "train_df_v2=train_df[train_df['region'].isin(region_to_train)] # =='Spain_nan'] #\n",
    "test=train[train['date']>first_test_date]\n",
    "test=test[test['date']<=last_test_date]\n",
    "test_v2=test[test['region'].isin(region_to_train)]\n",
    "valid_v2=test_v2[test_v2['date']>=first_valid_date]\n"
   ]
  },
  {
   "cell_type": "code",
   "execution_count": null,
   "metadata": {
    "colab": {},
    "colab_type": "code",
    "id": "sAUTYoomzK-j"
   },
   "outputs": [],
   "source": [
    "x_col=[#'region',\n",
    "            '1_day_change', '3_day_change','7_day_change',\n",
    "            '1_day_change_rate', \n",
    "            '3_day_change_rate',\n",
    "            '7_day_change_rate', \n",
    "            'last_day',\n",
    "            'min', 'max',\n",
    "            'infected_rate',\n",
    "            'kalman_prediction'\n",
    "          #  ,'population_percent_infected_rate_confirmed'\n",
    "          #  ,'delta_new_cases'\n",
    "          #  ,'delta_new_cases_per_1M_hab'\n",
    "          ]"
   ]
  },
  {
   "cell_type": "code",
   "execution_count": null,
   "metadata": {
    "colab": {},
    "colab_type": "code",
    "id": "uHZuGtlZq9z2",
    "scrolled": false
   },
   "outputs": [],
   "source": [
    "x=train_df[x_col]\n",
    "y=train_df['confirmed']\n",
    "reg = LinearRegression().fit(x,y)\n",
    "\n",
    "pred2=reg.predict(test[x_col]); pred2=pd.DataFrame(pred2); pred2=round(pred2)\n",
    "pred2['confirmed']=test['confirmed'].values; pred2['date']=test['date'].values; pred2['region']=test['region'].values\n"
   ]
  },
  {
   "cell_type": "code",
   "execution_count": null,
   "metadata": {},
   "outputs": [],
   "source": [
    "pred2.iloc[:25]"
   ]
  },
  {
   "cell_type": "code",
   "execution_count": null,
   "metadata": {},
   "outputs": [],
   "source": [
    "pred2.iloc[175:195]"
   ]
  },
  {
   "cell_type": "code",
   "execution_count": null,
   "metadata": {
    "scrolled": true
   },
   "outputs": [],
   "source": [
    "pred2.iloc[220:240]"
   ]
  },
  {
   "cell_type": "code",
   "execution_count": null,
   "metadata": {
    "colab": {
     "base_uri": "https://localhost:8080/",
     "height": 85
    },
    "colab_type": "code",
    "executionInfo": {
     "elapsed": 52387,
     "status": "ok",
     "timestamp": 1582444259660,
     "user": {
      "displayName": "Ran Kremer",
      "photoUrl": "https://lh3.googleusercontent.com/a-/AAuE7mB2_ZiPPU7rQBIvIt172EuazLz5955iIqYS5NAMAQ=s64",
      "userId": "05457805718113099013"
     },
     "user_tz": -120
    },
    "id": "iX5qZw4cxpKN",
    "outputId": "8f5fe095-8000-4d4a-edad-a480b672b68e"
   },
   "outputs": [],
   "source": [
    "#\n",
    "train_h20 = h2o.H2OFrame(train_df)\n",
    "###train_h20_hubei = h2o.H2OFrame(train_df_hubei) # different model for Hubei\n",
    "#\n",
    "### Joao - Italian Model\n",
    "train_h20_v2 = h2o.H2OFrame(train_df_v2) # different model for V2 region ### Spain This time\n",
    "\n",
    "\n",
    "test_h20 = h2o.H2OFrame(test)\n",
    "#test_h20_hubei = h2o.H2OFrame(test_hubei)\n",
    "test_h20_v2 = h2o.H2OFrame(test_v2)\n",
    "\n",
    "valid_h20_v2=h2o.H2OFrame(valid_v2)\n",
    "\n",
    "#training_columns = ['region','1_day_change', '3_day_change', '7_day_change','1_day_change_rate','3_day_change_rate','7_day_change_rate','last_day', 'kalman_prediction','infected_rate', 'min', 'max']\n",
    "training_cols_v2 = ['region']+x_col #+['population_percent_infected_rate_confirmed','delta_new_cases','delta_new_cases_per_1M_hab']\n",
    "training_columns = training_cols_v2\n",
    "\n",
    "# Output parameter train against input parameters\n",
    "response_column = 'confirmed'\n",
    "\n",
    "# model = H2ORandomForestEstimator(ntrees=300, max_depth=12)\n",
    "# model.train(x=training_columns, y=response_column, training_frame=train_h20)\n",
    "\n",
    "###model_hubei = H2ORandomForestEstimator(ntrees=300, max_depth=12)\n",
    "###model_hubei.train(x=training_columns, y=response_column, training_frame=train_h20_hubei)\n",
    "\n",
    "### Joao - Model V2\n",
    "model_v2 = H2ORandomForestEstimator(ntrees=500, max_depth=23)\n",
    "model_v2.train(x=training_columns, y=response_column, training_frame=train_h20_v2, validation_frame=valid_h20_v2)\n"
   ]
  },
  {
   "cell_type": "code",
   "execution_count": null,
   "metadata": {
    "scrolled": true
   },
   "outputs": [],
   "source": [
    "#Print Model\n",
    "\n",
    "print('# MSE on the training data = ',model_v2.mse())\n",
    "print('# MSE on the validation data = ',model_v2.mse(valid=True))\n",
    "print('# R^2 on the training data = ',model_v2.r2())\n",
    "print('# R^2 on the validation data',model_v2.r2(valid=True))"
   ]
  },
  {
   "cell_type": "code",
   "execution_count": null,
   "metadata": {
    "scrolled": false
   },
   "outputs": [],
   "source": [
    "model_v2.show()"
   ]
  },
  {
   "cell_type": "code",
   "execution_count": null,
   "metadata": {},
   "outputs": [],
   "source": [
    "#model_hubei.varimp(True).iloc[:,:] # Feature importance for Hubei Model RF\n",
    "### Joao -  Model V2\n",
    "modlv2=model_v2.varimp(True).iloc[:,:] # Feature importance for Model V2 Global RF\n",
    "modlv2.sort_values('percentage',ascending=False)"
   ]
  },
  {
   "cell_type": "code",
   "execution_count": null,
   "metadata": {
    "colab": {},
    "colab_type": "code",
    "id": "hNWxFRUrfxZN"
   },
   "outputs": [],
   "source": [
    "## Joao - Model Predictions - Country_nan _v2\n",
    "performance = model_v2.model_performance(test_data=test_h20_v2)\n",
    "# # Model Create Predictions\n",
    "pred=model_v2.predict(test_h20_v2);pred=pred.as_data_frame(); pred=round(pred)\n",
    "# #pred['daily_outcome']=test['daily_outcome'].values\n",
    "pred['confirmed']=test_v2['confirmed'].values\n",
    "pred['date']=test_v2['date'].values\n",
    "pred['region']=test_v2['region'].values"
   ]
  },
  {
   "cell_type": "markdown",
   "metadata": {
    "colab_type": "text",
    "id": "9lmtGPPCwHta"
   },
   "source": [
    "## Correlation Matrix And Temperature"
   ]
  },
  {
   "cell_type": "code",
   "execution_count": null,
   "metadata": {
    "colab": {
     "base_uri": "https://localhost:8080/"
    },
    "colab_type": "code",
    "executionInfo": {
     "elapsed": 1475,
     "status": "ok",
     "timestamp": 1582201111522,
     "user": {
      "displayName": "Ran Kremer",
      "photoUrl": "https://lh3.googleusercontent.com/a-/AAuE7mB2_ZiPPU7rQBIvIt172EuazLz5955iIqYS5NAMAQ=s64",
      "userId": "05457805718113099013"
     },
     "user_tz": -120
    },
    "id": "KkeUCg9ZfxDH",
    "outputId": "57c6763e-619e-41b1-c3d5-99ada2f51d8a"
   },
   "outputs": [],
   "source": [
    "from string import ascii_letters\n",
    "import seaborn as sns\n",
    "import matplotlib.pyplot as plt\n",
    "sns.set(style=\"white\")\n",
    "# Compute the correlation matrix\n",
    "corr = train.iloc[:,2:].corr()\n",
    "# Generate a mask for the upper triangle\n",
    "mask = np.triu(np.ones_like(corr, dtype=np.bool))\n",
    "# Set up the matplotlib figure\n",
    "f, ax = plt.subplots(figsize=(11, 9))\n",
    "# Generate a custom diverging colormap\n",
    "cmap = sns.diverging_palette(220, 10, as_cmap=True)\n",
    "# Draw the heatmap with the mask and correct aspect ratio\n",
    "sns.heatmap(corr, mask=mask, cmap=cmap, vmax=.9, center=0,\n",
    "            square=True, linewidths=.5, cbar_kws={\"shrink\": .5})\n",
    "print ('Correlation Matrix')"
   ]
  },
  {
   "cell_type": "code",
   "execution_count": null,
   "metadata": {
    "colab": {
     "base_uri": "https://localhost:8080/"
    },
    "colab_type": "code",
    "executionInfo": {
     "elapsed": 1295,
     "status": "ok",
     "timestamp": 1582201111524,
     "user": {
      "displayName": "Ran Kremer",
      "photoUrl": "https://lh3.googleusercontent.com/a-/AAuE7mB2_ZiPPU7rQBIvIt172EuazLz5955iIqYS5NAMAQ=s64",
      "userId": "05457805718113099013"
     },
     "user_tz": -120
    },
    "id": "bA3aME-GUyWl",
    "outputId": "cf0707bf-8c10-428c-e768-0aa89167faa8"
   },
   "outputs": [],
   "source": [
    "print('Correlation To Confirmed') \n",
    "print (corr.confirmed)"
   ]
  },
  {
   "cell_type": "code",
   "execution_count": null,
   "metadata": {
    "colab": {
     "base_uri": "https://localhost:8080/",
     "height": 352
    },
    "colab_type": "code",
    "executionInfo": {
     "elapsed": 927,
     "status": "ok",
     "timestamp": 1582281426934,
     "user": {
      "displayName": "Ran Kremer",
      "photoUrl": "https://lh3.googleusercontent.com/a-/AAuE7mB2_ZiPPU7rQBIvIt172EuazLz5955iIqYS5NAMAQ=s64",
      "userId": "05457805718113099013"
     },
     "user_tz": -120
    },
    "id": "JD_ayu7fKS6f",
    "outputId": "0252e5e7-86a9-413b-8aa2-54c2d78dd5fa",
    "scrolled": false
   },
   "outputs": [],
   "source": [
    "import matplotlib.pyplot as plt\n",
    "p=train[['date','region','min','max']].set_index('date')\n",
    "#\n",
    "#rg1='China_Hubei'\n",
    "#p=p[p['region']==rg1]\n",
    "#p.iloc[:,:].plot(marker='*',figsize=(12,4),color=['#19303f','#cccc00']).set_title('Daily Min/Max Temperature - '+rg1,fontdict={'fontsize': 20})\n",
    "#\n",
    "## JOAO - Temp. Teast Italy - Data Supply finishes 13/03/2020\n",
    "region_s=['Italy_nan','Spain_nan','United States_nan','United Kingdom_nan','Germany_nan','Iran_nan',\n",
    "          'Korea, South_nan','China_Hubei','Brazil_nan','Portugal_nan','Turkey_nan',\n",
    "          'Canada_Ontario','Canada_Quebec']\n",
    "p=train[['date','region','min','max']].set_index('date')\n",
    "for i in range(0,len(region_s)):     \n",
    "    pv=p[p['region']==region_s[i]]\n",
    "    pv.iloc[:,:].plot(marker='*',figsize=(12,4),color=['#19303f','#cccc00']).set_title('Daily Min/Max Temperature - '+region_s[i],fontdict={'fontsize': 20})\n",
    "#"
   ]
  },
  {
   "cell_type": "code",
   "execution_count": null,
   "metadata": {
    "colab": {
     "base_uri": "https://localhost:8080/",
     "height": 238
    },
    "colab_type": "code",
    "executionInfo": {
     "elapsed": 471,
     "status": "ok",
     "timestamp": 1582280899307,
     "user": {
      "displayName": "Ran Kremer",
      "photoUrl": "https://lh3.googleusercontent.com/a-/AAuE7mB2_ZiPPU7rQBIvIt172EuazLz5955iIqYS5NAMAQ=s64",
      "userId": "05457805718113099013"
     },
     "user_tz": -120
    },
    "id": "UF117T2UF35z",
    "outputId": "4a98c30b-34a4-4f63-e887-2f8f15b96a05"
   },
   "outputs": [],
   "source": [
    "avg_temp=train[['region','confirmed','min','max']]  # from 20-02-20 to 06-04-2020\n",
    "avg_temp=avg_temp.groupby(by='region').max()\n",
    "avg_temp=avg_temp.sort_values('confirmed',ascending=False)\n",
    "print( 'Most infected Areas Avg Temperature')\n",
    "print(avg_temp.iloc[:100,1:])"
   ]
  },
  {
   "cell_type": "markdown",
   "metadata": {
    "colab_type": "text",
    "id": "m3zZEoVO4Z27"
   },
   "source": [
    "### Kalman X Days Ahead Prediction"
   ]
  },
  {
   "cell_type": "code",
   "execution_count": null,
   "metadata": {},
   "outputs": [],
   "source": [
    "%%R\n",
    "\n",
    "#install.packages('reshape')"
   ]
  },
  {
   "cell_type": "code",
   "execution_count": null,
   "metadata": {
    "colab": {
     "base_uri": "https://localhost:8080/",
     "height": 238
    },
    "colab_type": "code",
    "executionInfo": {
     "elapsed": 45274,
     "status": "ok",
     "timestamp": 1582444304976,
     "user": {
      "displayName": "Ran Kremer",
      "photoUrl": "https://lh3.googleusercontent.com/a-/AAuE7mB2_ZiPPU7rQBIvIt172EuazLz5955iIqYS5NAMAQ=s64",
      "userId": "05457805718113099013"
     },
     "user_tz": -120
    },
    "id": "5N_G_fHvteiv",
    "outputId": "3c813f3a-5d62-4997-cbd5-3ddbc60eb936"
   },
   "outputs": [],
   "source": [
    "%%R\n",
    "\n",
    "require(pracma)\n",
    "require(Metrics)\n",
    "require(readr)\n",
    "library(reshape)\n",
    "all<- read_csv(\"/home/notebookuser/notebooks/covid19/data/ts_conf_r.csv\")\n",
    "all$X1<-NULL\n",
    "\n",
    "### JOAO - FIX\n",
    "#\n",
    "### Flexy Days maximum forward prediction =A Hint!= \"Error increases as number of days increases\"\n",
    "days_prediction<-max_days_prediction # Set i days prediction # max_days_prediction=90 days forward prediction with Kalman Filter\n",
    "\n",
    "for (i in 1: days_prediction) { \n",
    "  if( i>1) {all<-all_new}\n",
    "  date<-all[,1]\n",
    "  date[nrow(date) + 1,1] <-all[nrow(all),1]+1\n",
    "  pred_all<-NULL\n",
    "  for (n in 2:ncol(all)-1) {\n",
    "    Y<-ts(data = all[n+1], start = 1, end =nrow(all)+1)  \n",
    "    sig_w<-0.01\n",
    "    w<-sig_w*randn(1,100) # acceleration which denotes the fluctuation (Q/R) rnorm(100, mean = 0, sd = 1)\n",
    "    sig_v<-0.01\n",
    "    v<-sig_v*randn(1,100)  \n",
    "    t<-0.45\n",
    "    phi<-matrix(c(1,0,t,1),2,2)\n",
    "    gama<-matrix(c(0.5*t^2,t),2,1)\n",
    "    H<-matrix(c(1,0),1,2)\n",
    "    #Kalman\n",
    "    x0_0<-p0_0<-matrix(c(0,0),2,1)\n",
    "    p0_0<-matrix(c(1,0,0,1),2,2)\n",
    "    Q<-0.01\n",
    "    R<-0.01\n",
    "    X<-NULL\n",
    "    X2<-NULL\n",
    "    pred<-NULL\n",
    "    for (i in 0:nrow(all)) {\n",
    "      namp <-paste(\"p\", i+1,\"_\",i, sep = \"\")\n",
    "      assign(namp, phi%*%(get(paste(\"p\", i,\"_\",i, sep = \"\")))%*%t(phi)+gama%*%Q%*%t(gama))\n",
    "      namk <- paste(\"k\", i+1, sep = \"\")\n",
    "      assign(namk,get(paste(\"p\", i+1,\"_\",i, sep = \"\"))%*%t(H)%*%(1/(H%*%get(paste(\"p\", i+1,\"_\",i, sep = \"\"))%*%t(H)+R)))\n",
    "      namx <- paste(\"x\", i+1,\"_\",i, sep = \"\")\n",
    "      assign(namx,phi%*%get(paste(\"x\", i,\"_\",i, sep = \"\")))\n",
    "      namE <- paste(\"E\", i+1, sep = \"\")\n",
    "      assign(namE,Y[i+1]-H%*%get(paste(\"x\", i+1,\"_\",i, sep = \"\")))\n",
    "      namx2 <- paste(\"x\", i+1,\"_\",i+1, sep = \"\")\n",
    "      assign(namx2,get(paste(\"x\", i+1,\"_\",i, sep = \"\"))+get(paste(\"k\", i+1, sep = \"\"))%*%get(paste(\"E\", i+1, sep = \"\")))\n",
    "      namp2 <- paste(\"p\", i+1,\"_\",i+1, sep = \"\")\n",
    "      assign(namp2,(p0_0-get(paste(\"k\", i+1, sep = \"\"))%*%H)%*%get(paste(\"p\", i+1,\"_\",i, sep = \"\")))\n",
    "      X<-rbind(X,get(paste(\"x\", i+1,\"_\",i,sep = \"\"))[1])\n",
    "      X2<-rbind(X2,get(paste(\"x\", i+1,\"_\",i,sep = \"\"))[2])\n",
    "      if(i>2){\n",
    "        remove(list=(paste(\"p\", i-1,\"_\",i-2, sep = \"\")))\n",
    "        remove(list=(paste(\"k\", i-1, sep = \"\")))\n",
    "        remove(list=(paste(\"E\", i-1, sep = \"\")))\n",
    "        remove(list=(paste(\"p\", i-2,\"_\",i-2, sep = \"\")))\n",
    "        remove(list=(paste(\"x\", i-1,\"_\",i-2, sep = \"\")))\n",
    "        remove(list=(paste(\"x\", i-2,\"_\",i-2, sep = \"\")))}\n",
    "    } \n",
    "    pred<-NULL\n",
    "    pred<-cbind(Y,X,round(X2,4))\n",
    "    pred<-as.data.frame(pred)\n",
    "    pred$region<-colnames(all[,n+1])\n",
    "    pred$date<-date$date\n",
    "    pred$actual<-rbind(0,(cbind(pred[2:nrow(pred),1])/pred[1:nrow(pred)-1,1]-1)*100)\n",
    "    pred$predict<-rbind(0,(cbind(pred[2:nrow(pred),2])/pred[1:nrow(pred)-1,2]-1)*100)\n",
    "    pred$pred_rate<-(pred$X/pred$Y-1)*100\n",
    "    pred$X2_change<-rbind(0,(cbind(pred[2:nrow(pred),3]-pred[1:nrow(pred)-1,3])))\n",
    "    pred_all<-rbind(pred_all,pred)\n",
    "  }\n",
    "  pred_all<-cbind(pred_all[,4:5],pred_all[,1:3])\n",
    "  names(pred_all)[5]<-\"X2\"\n",
    "  pred_all<-pred_all[,1:5]\n",
    "       \n",
    "pred_all_today=pred_all[with( pred_all, order(region, date)), ]\n",
    "all_new=all\n",
    "#all_new[nrow(all_new),1]<-all_new[nrow(all),1]+1\n",
    "temp<-with(pred_all_today, pred_all_today[date == all[nrow(all),1]+1, ])\n",
    "temp<-cbind(temp[,1:2],temp[,4])\n",
    "temp2<-reshape(temp, direction = \"wide\", idvar = \"date\", timevar = \"region\")\n",
    "rand_num<-runif(ncol(temp2)-1, 0.9, 1.05)\n",
    "temp2[,2:ncol(temp2)]<-temp2[,2:ncol(temp2)]*rand_num\n",
    "colnames(temp2)=colnames(all_new)\n",
    "all_new<-rbind(all_new,temp2)\n",
    "all_new[,2:ncol(all_new)]<-round(all_new[,2:ncol(all_new)])\n",
    "for (i in 2:ncol(all_new)) {\n",
    "  all_new[nrow(all_new),i]=max(all_new[nrow(all_new)-1,i],all_new[nrow(all_new),i])}\n",
    "}"
   ]
  },
  {
   "cell_type": "code",
   "execution_count": null,
   "metadata": {
    "colab": {
     "base_uri": "https://localhost:8080/",
     "height": 71
    },
    "colab_type": "code",
    "executionInfo": {
     "elapsed": 45272,
     "status": "ok",
     "timestamp": 1582444304980,
     "user": {
      "displayName": "Ran Kremer",
      "photoUrl": "https://lh3.googleusercontent.com/a-/AAuE7mB2_ZiPPU7rQBIvIt172EuazLz5955iIqYS5NAMAQ=s64",
      "userId": "05457805718113099013"
     },
     "user_tz": -120
    },
    "id": "fVMFrhJJsuJ8",
    "outputId": "26260197-a353-4808-afc8-df98c3407df5"
   },
   "outputs": [],
   "source": [
    "all_new=%R all_new"
   ]
  },
  {
   "cell_type": "code",
   "execution_count": null,
   "metadata": {
    "colab": {},
    "colab_type": "code",
    "id": "62OEK0Ew6xjw"
   },
   "outputs": [],
   "source": [
    "all_new['date']=pd.to_datetime(all_new['date'],unit='d')"
   ]
  },
  {
   "cell_type": "code",
   "execution_count": null,
   "metadata": {
    "colab": {
     "base_uri": "https://localhost:8080/",
     "height": 1000
    },
    "colab_type": "code",
    "executionInfo": {
     "elapsed": 47320,
     "status": "ok",
     "timestamp": 1582444307049,
     "user": {
      "displayName": "Ran Kremer",
      "photoUrl": "https://lh3.googleusercontent.com/a-/AAuE7mB2_ZiPPU7rQBIvIt172EuazLz5955iIqYS5NAMAQ=s64",
      "userId": "05457805718113099013"
     },
     "user_tz": -120
    },
    "id": "psIsc_UT5lEg",
    "outputId": "1f8b0dc5-2365-4b4a-9d77-188390247839",
    "scrolled": false
   },
   "outputs": [],
   "source": [
    "#\n",
    "### Joao - Moving Forward ...\n",
    "# Select regions From my_train_list\n",
    "#\n",
    "region=['date']+my_train_list\n",
    "p_kalman=all_new[region]\n",
    "#p=all_new\n",
    "#p.iloc[len(p)-1,2]=None\n",
    "p_kalman=p_kalman.set_index(['date'])\n",
    "p_kalman.iloc[:,:].plot(marker='o',figsize=(24,14)).set_title('Kalman Prediction')\n",
    "#\n",
    "p_kalman2=all_new[['date','United States_nan']] ## Joao\n",
    "p_kalman2=p_kalman2.set_index(['date'])\n",
    "p_kalman2.iloc[:,:].plot(marker='o',figsize=(24,14)).set_title('Kalman Prediction - Select Country/Region to Change - {}'.format(p_kalman2.columns[0]))\n",
    "#\n",
    "p_kalman3=all_new[['date','Italy_nan']] ## Joao\n",
    "p_kalman3=p_kalman3.set_index(['date'])\n",
    "p_kalman3.iloc[:,:].plot(marker='o',figsize=(24,14)).set_title('Kalman Prediction - Select Country/Region to Change - {}'.format(p_kalman3.columns[0]))\n",
    "#\n",
    "p_kalman4=all_new[['date','Spain_nan']] ## Joao\n",
    "p_kalman4=p_kalman4.set_index(['date'])\n",
    "p_kalman4.iloc[:,:].plot(marker='o',figsize=(24,14)).set_title('Kalman Prediction - Select Country/Region to Change - {}'.format(p_kalman4.columns[0]))\n",
    "#"
   ]
  },
  {
   "cell_type": "code",
   "execution_count": null,
   "metadata": {
    "scrolled": false
   },
   "outputs": [],
   "source": [
    "### Joao - Dynamic plot all regions individually\n",
    "#print(region[:])\n",
    "for i in range(1,len(region)):\n",
    "    country_print=region[i]\n",
    "    #print(\"here:\"+country_print)\n",
    "    p_kalman_rg=all_new[['date',country_print]]\n",
    "    p_kalman_rg=p_kalman_rg.set_index(['date'])\n",
    "    p_kalman_rg.iloc[:,:].plot(marker='o',figsize=(16,8)).set_title('Kalman Prediction - Select Country/Region to Change - {}'.format(p_kalman_rg.columns[0]))\n",
    "    "
   ]
  },
  {
   "cell_type": "code",
   "execution_count": null,
   "metadata": {},
   "outputs": [],
   "source": [
    "max_p0=all_new[:]\n",
    "max_p0=max_p0.max()\n",
    "max_date=max_p0[:1]\n",
    "max_p0=max_p0[1:]\n",
    "max_p0=pd.DataFrame(max_p0)\n",
    "max_p0=max_p0.astype(str)\n",
    "max_p0['pred_confirmed']=max_p0[max_p0.columns[0]].str.split(' ').str[-1].astype(float)\n",
    "max_p0[max_p0.columns[0]]=max_p0[max_p0.columns[0]][:-len(max_p0['pred_confirmed'])]\n",
    "max_p0=max_p0.sort_values(by='pred_confirmed', ascending=False)\n",
    "#\n",
    "print(\"### -- Confirmed max cases per country at last prediction date -- ###\")\n",
    "print(max_date)\n",
    "max_p0[:]"
   ]
  },
  {
   "cell_type": "code",
   "execution_count": null,
   "metadata": {
    "colab": {},
    "colab_type": "code",
    "id": "9bwnqSN8WFMp"
   },
   "outputs": [],
   "source": [
    "t.to_csv(r'data/t_confirmed_global.csv', index = False, header=True)"
   ]
  },
  {
   "cell_type": "code",
   "execution_count": null,
   "metadata": {},
   "outputs": [],
   "source": [
    "all_new.to_csv(r'data/prediction_kalman_filter_global.csv', index = False, header=True)"
   ]
  },
  {
   "cell_type": "markdown",
   "metadata": {
    "colab_type": "text",
    "id": "s1qTRyApWuh9"
   },
   "source": [
    "## Iterative Regression"
   ]
  },
  {
   "cell_type": "code",
   "execution_count": null,
   "metadata": {
    "colab": {
     "base_uri": "https://localhost:8080/",
     "height": 119
    },
    "colab_type": "code",
    "executionInfo": {
     "elapsed": 72466,
     "status": "ok",
     "timestamp": 1582444332206,
     "user": {
      "displayName": "Ran Kremer",
      "photoUrl": "https://lh3.googleusercontent.com/a-/AAuE7mB2_ZiPPU7rQBIvIt172EuazLz5955iIqYS5NAMAQ=s64",
      "userId": "05457805718113099013"
     },
     "user_tz": -120
    },
    "id": "7fAG9-jQWv0B",
    "outputId": "8f1f8aa1-1470-4d17-b0d6-14bfa44250bb"
   },
   "outputs": [],
   "source": [
    "t_iter=all_new.set_index(['date'])\n",
    "t_iter=t_iter.stack().reset_index(name='confirmed')\n",
    "t_iter.columns=['date', 'region','confirmed']\n",
    "t_iter['date']=pd.to_datetime(t_iter['date'] ,errors ='coerce')\n",
    "t_iter=t_iter.sort_values(['region', 'date'])\n",
    "\n",
    "t_iter=t_iter.reset_index(drop=True)\n",
    "for i in range(1,len(t_iter)+1):\n",
    "    if(t_iter.iloc[i,1] is not t_iter.iloc[i-1,1]):\n",
    "        t_iter.loc[len(t_iter)+1] = [t_iter.iloc[i-1,0]+ pd.DateOffset(1),t_iter.iloc[i-1,1], 0] \n",
    "t_iter=t_iter.sort_values(['region', 'date'])\n",
    "t_iter=t_iter.reset_index(drop=True)\n",
    "\n",
    "### Joao - Fix - RuntimeWarning: divide by zero encountered in double_scalars\n",
    "#\n",
    "t_iter['1_day_change']=t_iter['3_day_change']=t_iter['7_day_change']=t_iter['1_day_change_rate']=t_iter['3_day_change_rate']=t_iter['7_day_change_rate']=t_iter['last_day']=0\n",
    "for i in range(1,len(t_iter)):\n",
    "    if(t_iter.iloc[i,1] is t_iter.iloc[i-2,1]):\n",
    "        t_iter.iloc[i,3]=t_iter.iloc[i-1,2]-t_iter.iloc[i-2,2]\n",
    "        t_iter.iloc[i,6]=((t_iter.iloc[i-1,2]*100 +1)/(t_iter.iloc[i-2,2]*100 -1 +1))*100\n",
    "        t_iter.iloc[i,9]=t_iter.iloc[i-1,2]\n",
    "    if(t_iter.iloc[i,1] is t_iter.iloc[i-4,1]):\n",
    "        t_iter.iloc[i,4]=t_iter.iloc[i-1,2]-t_iter.iloc[i-4,2]\n",
    "        t_iter.iloc[i,7]=((t_iter.iloc[i-1,2]*100 +1)/(t_iter.iloc[i-4,2]*100 -1 +1))*100\n",
    "    if(t_iter.iloc[i,1] is t_iter.iloc[i-8,1]):\n",
    "        t_iter.iloc[i,5]=t_iter.iloc[i-1,2]-t_iter.iloc[i-8,2]\n",
    "        t_iter.iloc[i,8]=((t_iter.iloc[i-1,2]*100 +1)/(t_iter.iloc[i-8,2]*100 -1 +1))*100\n",
    "t_iter=t_iter.fillna(0)  \n",
    "\n",
    "# t_iter=t_iter.merge(temp[['date','region', 'X']],how='left',on=['date','region'])\n",
    "# t_iter=t_iter.rename(columns = {'X':'kalman_prediction'}) \n",
    "t_iter=t_iter.replace([np.inf, -np.inf], 0)\n",
    "t_iter['kalman_prediction']=round(t_iter['confirmed'])\n",
    "\n",
    "test_iter=t_iter.merge(confirmed[['region',' Population ']],how='left',on='region')\n",
    "test_iter=test_iter.rename(columns = {' Population ':'population'})\n",
    "test_iter['population']=test_iter['population'].str.replace(r\" \", '')\n",
    "test_iter['population']=test_iter['population'].str.replace(r\",\", '')\n",
    "test_iter['population']=test_iter['population'].fillna(10000000) # Fill 10M population if null\n",
    "test_iter['population']=test_iter['population'].astype('int32')\n",
    "## Joao - Fix Divid By Zero\n",
    "#test_iter['infected_rate'] =test_iter['last_day']/test_iter['population']*10000\n",
    "#test_iter['infected_rate'] =((test_iter['last_day']+1)*10000)/((test_iter['population']+1)*100)*100\n",
    "test_iter['infected_rate']=(((test_iter['last_day'] +1)*100)/((test_iter['population'] +1)*100000) *10)\n",
    "#\n",
    "test_iter=test_iter.merge(w,how='left',on=['date','region'])\n",
    "#test_iter=test_iter.sort_values(['region', 'date'])\n",
    "\n",
    "test_iter_temp=test_iter[np.isnan(test_iter['min'])]\n",
    "test_iter_temp=test_iter_temp.drop(columns=['min', 'max'])\n",
    "test_iter_temp=test_iter_temp.merge(w_forecast,how='left',on=['date','region'])\n",
    "test_iter=test_iter.dropna()\n",
    "test_iter=test_iter.append(test_iter_temp)\n",
    "test_iter=test_iter.sort_values(['region', 'date'])\n",
    "### fill missing weather \n",
    "for i in range(0,len(test_iter)):\n",
    "    if(np.isnan(test_iter.iloc[i,13])):\n",
    "        if(test_iter.iloc[i,1] is test_iter.iloc[i-1,1]):\n",
    "            test_iter.iloc[i,13]=test_iter.iloc[i-1,13]+abs(test_iter.iloc[i-1,13]*.01)\n",
    "            test_iter.iloc[i,14]=test_iter.iloc[i-1,14]+abs(test_iter.iloc[i-1,14]*.01)\n"
   ]
  },
  {
   "cell_type": "code",
   "execution_count": null,
   "metadata": {
    "colab": {},
    "colab_type": "code",
    "id": "SAlBmhP449d9"
   },
   "outputs": [],
   "source": [
    "test_iter=test_iter.fillna(0) \n",
    "test_iter[test_iter.isnull().any(axis=1)]\n"
   ]
  },
  {
   "cell_type": "code",
   "execution_count": null,
   "metadata": {
    "colab": {},
    "colab_type": "code",
    "id": "0nEsgisgpf_Z"
   },
   "outputs": [],
   "source": [
    "### JOAO - ERROR - ValueError: Index contains duplicate entries, cannot reshape\n",
    "pred=reg.predict(test_iter[x_col]); pred=pd.DataFrame(pred); pred.columns = ['prediction'];pred=round(pred)\n",
    "pred['confirmed']=test_iter['confirmed'].values; pred['date']=test_iter['date'].values; pred['region']=test_iter['region'].values\n",
    "\n",
    "for i in range(1,len(pred)):\n",
    "    if(pred.iloc[i,3] is pred.iloc[i-1,3]):\n",
    "        if(pred.iloc[i,0]<pred.iloc[i-1,1]):\n",
    "            pred.iloc[i,0]=pred.iloc[i-1,1]\n",
    "### JOAO - Drop Duplicates\n",
    "pred=pred.drop_duplicates(subset=['date','region'], keep='last', inplace=False)        \n",
    "### Joao - Save long term predictions\n",
    "pred.to_csv('data/pred_'+str(num_days_R_prediction)+'_days.csv', index = False, header=True)\n",
    "###\n",
    "pred=pred.pivot(index='date',columns='region',values='prediction') # pivot pred df"
   ]
  },
  {
   "cell_type": "code",
   "execution_count": null,
   "metadata": {},
   "outputs": [],
   "source": [
    "pred[:]"
   ]
  },
  {
   "cell_type": "code",
   "execution_count": null,
   "metadata": {},
   "outputs": [],
   "source": [
    "### JOAO - FIX - issue if all source days ts[:]\n",
    "## Comment for -35days start. 26feb.2020 ts=ts[35:]\n",
    "#pred=pred[:-1]"
   ]
  },
  {
   "cell_type": "code",
   "execution_count": null,
   "metadata": {
    "colab": {
     "base_uri": "https://localhost:8080/",
     "height": 891
    },
    "colab_type": "code",
    "executionInfo": {
     "elapsed": 76666,
     "status": "ok",
     "timestamp": 1582444336423,
     "user": {
      "displayName": "Ran Kremer",
      "photoUrl": "https://lh3.googleusercontent.com/a-/AAuE7mB2_ZiPPU7rQBIvIt172EuazLz5955iIqYS5NAMAQ=s64",
      "userId": "05457805718113099013"
     },
     "user_tz": -120
    },
    "id": "n-xXJMS-Yg4s",
    "outputId": "9ca38705-a493-43b0-b1d3-d4112dbf958a",
    "scrolled": false
   },
   "outputs": [],
   "source": [
    "region=[\n",
    " ### JOAO - LIST of Countries - Start here\n",
    " ###    'Andorra_nan', 'Morocco_nan',\n",
    "        'United States_nan',\n",
    "        'United Kingdom_nan',\n",
    "        'Italy_nan',\n",
    "        'Spain_nan',\n",
    "        'Germany_nan',\n",
    "        'France_nan',\n",
    "        'Turkey_nan',\n",
    "        'Iran_nan',\n",
    "        'China_Hubei',\n",
    "        'Belgium_nan',\n",
    "        'Brazil_nan',\n",
    "        'Switzerland_nan',\n",
    "        'Russia_nan',\n",
    "        'Netherlands_nan',\n",
    "        'Portugal_nan',\n",
    "        'Korea, South_nan',\n",
    "        'India_nan',\n",
    "        'Poland_nan',\n",
    "        'Australia_New South Wales',\n",
    "        'Sweden_nan',\n",
    "        'Singapore_nan',\n",
    "        'China_Hong Kong',\n",
    "        'Taiwan*_nan',\n",
    "        'Canada_Ontario',\n",
    "        'Canada_Quebec',\n",
    "        'China_Beijing',\n",
    "        'China_Macau'\n",
    "  ### JOAO - LIST of Countries - Finish here     \n",
    "       ]\n",
    "\n",
    "p=pred[region]\n",
    "p[:].plot(marker='*',figsize=(24,14),title ='Major Areas Prediction')"
   ]
  },
  {
   "cell_type": "code",
   "execution_count": null,
   "metadata": {
    "scrolled": false
   },
   "outputs": [],
   "source": [
    "#\n",
    "rgsx=['Italy_nan','Spain_nan','United States_nan','Switzerland_nan',\n",
    "      'Germany_nan','United Kingdom_nan','France_nan','Iran_nan',\n",
    "      'Sweden_nan','Netherlands_nan','Russia_nan','Poland_nan',\n",
    "      'Brazil_nan','Turkey_nan','Japan_nan','Portugal_nan',\n",
    "      'Canada_Ontario','Canada_Quebec','China_Beijing','China_Hubei']\n",
    "for i in range (0,len(rgsx)):\n",
    "        rg_print=rgsx[i]\n",
    "        pred_prg=pd.DataFrame()\n",
    "        pred_prg=pred[rg_print]\n",
    "        pred_prg[:].plot(marker='*',figsize=(16,8),title =rg_print+' - Prediction Long Term - Confirmed Cases Covid-19')\n",
    "        plt.legend(loc = 'upper left')\n",
    "        plt.show()\n",
    "#"
   ]
  },
  {
   "cell_type": "code",
   "execution_count": null,
   "metadata": {},
   "outputs": [],
   "source": [
    "#region=my_train_list\n",
    "pv2=pred\n",
    "pv2=pv2.reindex(pv2.max().sort_values(ascending=False).index, axis=1)\n",
    "pv2[:].iloc[:,0:50].plot(marker='*',figsize=(24,14),title ='Top 50 World Global - Long Term - Major Areas Prediction')\n",
    "plt.legend(loc = 'upper left')\n",
    "plt.show()"
   ]
  },
  {
   "cell_type": "code",
   "execution_count": null,
   "metadata": {
    "scrolled": false
   },
   "outputs": [],
   "source": [
    "#region=my_train_list\n",
    "pv2=pred\n",
    "pv2[:].plot(marker='*',figsize=(24,14),title ='World Global - Long Term - Major Areas Prediction')\n",
    "plt.legend(loc = 'upper left')\n",
    "plt.show()"
   ]
  },
  {
   "cell_type": "markdown",
   "metadata": {
    "colab_type": "text",
    "id": "CrGaYE3LumzO"
   },
   "source": [
    "\n",
    "## Prediction Heatmap"
   ]
  },
  {
   "cell_type": "code",
   "execution_count": null,
   "metadata": {},
   "outputs": [],
   "source": [
    "pv1=pv2[:] #p  #p2.append(p3).append(p4).append(p5).append(p6).append(p8).append(p9).append(p11)\n",
    "p=pd.DataFrame(pv1)"
   ]
  },
  {
   "cell_type": "code",
   "execution_count": null,
   "metadata": {},
   "outputs": [],
   "source": [
    "p[45:]"
   ]
  },
  {
   "cell_type": "code",
   "execution_count": null,
   "metadata": {},
   "outputs": [],
   "source": [
    "pfname='data/p+'+str(num_days_R_prediction)+'_confirmed_daily.csv'\n",
    "p.to_csv(pfname, index = False, header=True)"
   ]
  },
  {
   "cell_type": "code",
   "execution_count": null,
   "metadata": {
    "colab": {},
    "colab_type": "code",
    "id": "9DzoizKcuwDL"
   },
   "outputs": [],
   "source": [
    "#!pip install gmplot\n",
    "# Import the necessary libraries\n",
    "import pandas as pd\n",
    "import gmplot\n",
    "# For improved table display in the notebook\n",
    "#from IPython.display import display\n",
    "import random "
   ]
  },
  {
   "cell_type": "code",
   "execution_count": null,
   "metadata": {
    "colab": {},
    "colab_type": "code",
    "id": "ErJO4Di4u_Gm"
   },
   "outputs": [],
   "source": [
    "heatmap=confirmed[['region','Lat','Long']]\n",
    "p_m=p.T # pred.T #\n",
    "### JOAO - Change Global HeapMap print - USA is too small, as USA States datasets are not used! \n",
    "#heatmap=heatmap[heatmap['region'].isin(region)]  ## heatmap for region dataset only \n",
    "heatmap=heatmap[heatmap['region'].isin(confirmed['region'])] ## Global heatmap\n",
    "p_m=p_m.reset_index()\n",
    "heatmap_m=heatmap.merge(p_m,how='left',on='region')\n"
   ]
  },
  {
   "cell_type": "code",
   "execution_count": null,
   "metadata": {},
   "outputs": [],
   "source": [
    "heatmap_m[:]"
   ]
  },
  {
   "cell_type": "code",
   "execution_count": null,
   "metadata": {
    "scrolled": false
   },
   "outputs": [],
   "source": [
    "#!pip install folium\n",
    "import folium\n",
    "import re\n",
    "\n",
    "lat=46.99474\n",
    "lang=6.87237\n",
    "\n",
    "p21_cluster=folium.Map(location=[lat,lang],zoom_start=6)\n",
    "from folium import plugins\n",
    "cluster=plugins.MarkerCluster().add_to(p21_cluster)\n",
    "\n",
    "colors={'A':'darkgreen','B':'darkpurple','C':'pink','D':'beige','E':'red','F':'lightblue','G':'darkblue','H':'cadetblue','I':'gray',\n",
    "        'J':'lightred','K':'blue','L':'orange','M':'lightgreen','N':'orange','O':'purple','P':'lightgray','Q':'darkred','R':'green',\n",
    "        'S':'black','T':'blue','U':'purple','V':'green','X':'blue','Y':'beige','W':'pink','Z':'white'}\n",
    "\n",
    "date_pred=(datetime.today()+pd.DateOffset(days=num_days_R_prediction)).strftime('%Y-%m-%d')\n",
    "ndaysavg=num_days_R_prediction\n",
    "ndayarray=-1-num_days_R_prediction\n",
    "\n",
    "for lat,lng,num,totpred,ldaygrowth in zip(heatmap_m.Lat,heatmap_m.Long,range(0,heatmap_m.shape[0]), heatmap_m[heatmap_m.columns[-1]],  (heatmap_m[heatmap_m.columns[-1]]-heatmap_m[heatmap_m.columns[ndayarray]])/ndaysavg ):\n",
    "    use_color=heatmap_m['region'][num][0]\n",
    "    print_region=re.sub('_nan',  '', heatmap_m['region'][num])\n",
    "    popup = folium.Popup( print_region+' ConfirmedPred='+str(round(totpred))+' 1DayChangePred='+str(round(ldaygrowth))+' Date='+date_pred , parse_html=True)\n",
    "    #\n",
    "    folium.Marker(\n",
    "                    [lat,lng],\n",
    "                    popup=popup,\n",
    "                    icon=folium.Icon(color=colors[use_color])\n",
    "            ).add_to(p21_cluster)\n",
    "p21_cluster"
   ]
  },
  {
   "cell_type": "code",
   "execution_count": null,
   "metadata": {},
   "outputs": [],
   "source": [
    "#\n",
    "region_m2=region + [\n",
    "                    #'Andorra_nan','Monaco_nan','San Marino_nan',\n",
    "                    'Ireland_nan','Austria_nan','Slovenia_nan','Slovakia_nan','Czechia_nan','Romania_nan'\n",
    "                    'Hungary_nan','Ukraine_nan','Croatia_nan','Finland_nan','Norway_nan','Estonia_nan','Denmark_nan','Greece_nan',\n",
    "                    'Chile_nan','Argentina_nan','Mexico_nan','Ecuador_nan','Peru_nan','Colombia_nan','Costa Rica_nan',\n",
    "                    'South Africa_nan','Saudi Arabia_nan','Israel_nan','Japan_nan',\n",
    "                    #'Morocco_nan','Algeria_nan',\n",
    "                    'Pakistan_nan','Bangladesh_nan','China_Beijing',\n",
    "                    'Singapore_nan','Canada_British Columbia']\n",
    "heatmap_m2=heatmap_m[heatmap_m['region'].isin(region_m2)].reset_index()\n",
    "#\n",
    "heatmap_m2[:]"
   ]
  },
  {
   "cell_type": "code",
   "execution_count": null,
   "metadata": {},
   "outputs": [],
   "source": [
    "import folium\n",
    "import re\n",
    "\n",
    "lat=46.99474\n",
    "lang=6.87237\n",
    "\n",
    "p21_reg_cluster=folium.Map(location=[lat,lang],zoom_start=6)\n",
    "from folium import plugins\n",
    "cluster=plugins.MarkerCluster().add_to(p21_reg_cluster)\n",
    "\n",
    "colors={'A':'darkgreen','B':'darkpurple','C':'pink','D':'beige','E':'red','F':'lightblue','G':'darkblue','H':'cadetblue','I':'gray',\n",
    "        'J':'lightred','K':'blue','L':'orange','M':'lightgreen','N':'orange','O':'purple','P':'lightgray','Q':'darkred','R':'green',\n",
    "        'S':'black','T':'blue','U':'purple','V':'green','X':'blue','Y':'beige','W':'pink','Z':'white'}\n",
    "\n",
    "date_pred=(datetime.today()+pd.DateOffset(days=num_days_R_prediction)).strftime('%Y-%m-%d')\n",
    "ndaysavg=num_days_R_prediction\n",
    "ndayarray=-1-num_days_R_prediction\n",
    "\n",
    "for lat2,lng2,num2,totpred2,ldaygrowth2 in zip(heatmap_m2.Lat,heatmap_m2.Long,range(0,heatmap_m2.shape[0]), heatmap_m2[heatmap_m2.columns[-1]], (heatmap_m2[heatmap_m2.columns[-1]]-heatmap_m2[heatmap_m2.columns[ndayarray]])/ndaysavg ):\n",
    "    use_color2=heatmap_m2['region'][num2][0]\n",
    "    print_region=re.sub('_nan',  '', heatmap_m2['region'][num2])\n",
    "    popup2 = folium.Popup( print_region+' ConfirmedPred='+str(round(totpred2))+' 1DayChangePred='+str(round(ldaygrowth2))+' Date='+date_pred , parse_html=True)  \n",
    "    #\n",
    "    folium.Marker(\n",
    "                    [lat2,lng2],\n",
    "                    popup=popup2,\n",
    "                    icon=folium.Icon(color=colors[use_color2])\n",
    "            ).add_to(p21_reg_cluster)\n",
    "p21_reg_cluster"
   ]
  },
  {
   "cell_type": "code",
   "execution_count": null,
   "metadata": {},
   "outputs": [],
   "source": [
    "#\n",
    "datemap=datetime.today().strftime('%Y-%m-%d')\n",
    "p21_cluster.save(\"heatmaps/Heatmap_Folium-Global-\"+datemap+\"-pred\"+str(num_days_R_prediction)+\"Days.html\")\n",
    "#\n",
    "p21_reg_cluster.save(\"heatmaps/Heatmap_Folium-Regional-\"+datemap+\"-pred\"+str(num_days_R_prediction)+\"Days.html\")"
   ]
  },
  {
   "cell_type": "code",
   "execution_count": null,
   "metadata": {},
   "outputs": [],
   "source": [
    "print(\"Stats and Forecast Done for Today!\")\n",
    "print(\"I'm done with this past month of March, April and May!\")\n",
    "print(\" April-May-June-July are going to be hard with this Global Lock-Down!\")"
   ]
  },
  {
   "cell_type": "code",
   "execution_count": null,
   "metadata": {
    "colab": {},
    "colab_type": "code",
    "id": "15zSGQ9xZ2Qy"
   },
   "outputs": [],
   "source": [
    "exit()"
   ]
  },
  {
   "cell_type": "code",
   "execution_count": null,
   "metadata": {},
   "outputs": [],
   "source": []
  }
 ],
 "metadata": {
  "colab": {
   "authorship_tag": "ABX9TyO6GjgZRhWecKel7pXtVap2",
   "collapsed_sections": [
    "9lmtGPPCwHta"
   ],
   "name": "COVID19 Prediction.ipynb",
   "provenance": [],
   "toc_visible": true
  },
  "kernelspec": {
   "display_name": "Python 3",
   "language": "python",
   "name": "python3"
  },
  "language_info": {
   "codemirror_mode": {
    "name": "ipython",
    "version": 3
   },
   "file_extension": ".py",
   "mimetype": "text/x-python",
   "name": "python",
   "nbconvert_exporter": "python",
   "pygments_lexer": "ipython3",
   "version": "3.7.3"
  }
 },
 "nbformat": 4,
 "nbformat_minor": 1
}
