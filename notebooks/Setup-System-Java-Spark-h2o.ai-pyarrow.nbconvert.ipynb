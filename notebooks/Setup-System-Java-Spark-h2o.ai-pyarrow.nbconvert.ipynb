{
 "cells": [
  {
   "cell_type": "code",
   "execution_count": 1,
   "metadata": {},
   "outputs": [
    {
     "name": "stdout",
     "output_type": "stream",
     "text": [
      "\r\n",
      "\r\n",
      "\r\n",
      "The following NEW packages will be installed:\r\n",
      "  wget\r\n",
      "0 upgraded, 1 newly installed, 0 to remove and 0 not upgraded.\r\n",
      "Need to get 316 kB of archives.\r\n",
      "After this operation, 954 kB of additional disk space will be used.\r\n",
      "Get:1 http://archive.ubuntu.com/ubuntu bionic-updates/main amd64 wget amd64 1.19.4-1ubuntu2.2 [316 kB]\r\n",
      "Fetched 316 kB in 0s (1991 kB/s)\r\n",
      "debconf: delaying package configuration, since apt-utils is not installed\r\n",
      "Selecting previously unselected package wget.\r\n",
      "(Reading database ... 15071 files and directories currently installed.)\r\n",
      "Preparing to unpack .../wget_1.19.4-1ubuntu2.2_amd64.deb ...\r\n",
      "Unpacking wget (1.19.4-1ubuntu2.2) ...\r\n",
      "Setting up wget (1.19.4-1ubuntu2.2) ...\r\n",
      "\r\n",
      "\r\n",
      "\r\n",
      "tar is already the newest version (1.29b-2ubuntu0.1).\r\n",
      "0 upgraded, 0 newly installed, 0 to remove and 0 not upgraded.\r\n",
      "debconf: delaying package configuration, since apt-utils is not installed\r\n"
     ]
    }
   ],
   "source": [
    "!apt-get install wget\n",
    "!apt-get install tar\n",
    "!apt-get install openjdk-8-jdk-headless -qq > /dev/null\n",
    "!wget -q https://archive.apache.org/dist/spark/spark-2.4.4/spark-2.4.4-bin-hadoop2.7.tgz\n",
    "!tar xf spark-2.4.4-bin-hadoop2.7.tgz"
   ]
  },
  {
   "cell_type": "code",
   "execution_count": 2,
   "metadata": {},
   "outputs": [
    {
     "name": "stdout",
     "output_type": "stream",
     "text": [
      "Collecting h2o\r\n",
      "  Downloading h2o-3.28.0.3.tar.gz (126.2 MB)\r\n",
      "\u001b[K     |████████████████████████████████| 126.2 MB 16.5 MB/s \r\n",
      "\u001b[?25hRequirement already satisfied: requests in /usr/local/lib/python3.6/dist-packages (from h2o) (2.23.0)\r\n",
      "Collecting tabulate\r\n",
      "  Downloading tabulate-0.8.6.tar.gz (45 kB)\r\n",
      "\u001b[K     |████████████████████████████████| 45 kB 3.8 MB/s \r\n",
      "\u001b[?25hCollecting future\r\n",
      "  Downloading future-0.18.2.tar.gz (829 kB)\r\n",
      "\u001b[K     |████████████████████████████████| 829 kB 9.0 MB/s \r\n",
      "\u001b[?25hCollecting colorama>=0.3.8\r\n",
      "  Downloading colorama-0.4.3-py2.py3-none-any.whl (15 kB)\r\n",
      "Requirement already satisfied: idna<3,>=2.5 in /usr/lib/python3/dist-packages (from requests->h2o) (2.6)\r\n",
      "Requirement already satisfied: chardet<4,>=3.0.2 in /usr/local/lib/python3.6/dist-packages (from requests->h2o) (3.0.4)\r\n",
      "Requirement already satisfied: urllib3!=1.25.0,!=1.25.1,<1.26,>=1.21.1 in /usr/local/lib/python3.6/dist-packages (from requests->h2o) (1.25.8)\r\n",
      "Requirement already satisfied: certifi>=2017.4.17 in /usr/local/lib/python3.6/dist-packages (from requests->h2o) (2019.11.28)\r\n",
      "Building wheels for collected packages: h2o, tabulate, future\r\n",
      "  Building wheel for h2o (setup.py) ... \u001b[?25l-\b \b\\\b \b|\b \b/\b \b-\b \bdone\r\n",
      "\u001b[?25h  Created wheel for h2o: filename=h2o-3.28.0.3-py2.py3-none-any.whl size=126304503 sha256=0da77d3cb42d2e4869e086b7d2bec409b440645beb5d9182a62e07752f0e0524\r\n",
      "  Stored in directory: /root/.cache/pip/wheels/70/cb/5f/3e05b11d28b6cd7dad69b46f37e8ddc9719c7ed735218a0667\r\n",
      "  Building wheel for tabulate (setup.py) ... \u001b[?25l-\b \bdone\r\n",
      "\u001b[?25h  Created wheel for tabulate: filename=tabulate-0.8.6-py3-none-any.whl size=30504 sha256=7a3f0c6bb43029762ebec4752703a6b6c8ac58a26feb735ec29d36847a3deb42\r\n",
      "  Stored in directory: /root/.cache/pip/wheels/f1/f8/e3/a65c54a883edf04f7d6b0eda5486e6f27279354b84fd932da2\r\n",
      "  Building wheel for future (setup.py) ... \u001b[?25l-\b \b\\\b \b|\b \bdone\r\n",
      "\u001b[?25h  Created wheel for future: filename=future-0.18.2-py3-none-any.whl size=493275 sha256=43d0917bf0f8f6b6ca80d00d9ec5dc53faa8aac6ea22d6c15103a995c0f029cd\r\n",
      "  Stored in directory: /root/.cache/pip/wheels/6e/9c/ed/4499c9865ac1002697793e0ae05ba6be33553d098f3347fb94\r\n",
      "Successfully built h2o tabulate future\r\n",
      "Installing collected packages: tabulate, future, colorama, h2o\r\n",
      "Successfully installed colorama-0.4.3 future-0.18.2 h2o-3.28.0.3 tabulate-0.8.6\r\n"
     ]
    }
   ],
   "source": [
    "!pip install h2o"
   ]
  },
  {
   "cell_type": "code",
   "execution_count": 3,
   "metadata": {},
   "outputs": [
    {
     "name": "stdout",
     "output_type": "stream",
     "text": [
      "Collecting findspark\r\n",
      "  Downloading findspark-1.3.0-py2.py3-none-any.whl (3.0 kB)\r\n",
      "Installing collected packages: findspark\r\n",
      "Successfully installed findspark-1.3.0\r\n"
     ]
    }
   ],
   "source": [
    "!pip install findspark"
   ]
  },
  {
   "cell_type": "code",
   "execution_count": 4,
   "metadata": {},
   "outputs": [
    {
     "name": "stdout",
     "output_type": "stream",
     "text": [
      "Collecting pyarrow\r\n",
      "  Downloading pyarrow-0.16.0-cp36-cp36m-manylinux2014_x86_64.whl (63.1 MB)\r\n",
      "\u001b[K     |████████████████████████████████| 63.1 MB 11.8 MB/s \r\n",
      "\u001b[?25hRequirement already satisfied: numpy>=1.14 in /usr/local/lib/python3.6/dist-packages (from pyarrow) (1.18.1)\r\n",
      "Requirement already satisfied: six>=1.0.0 in /usr/local/lib/python3.6/dist-packages (from pyarrow) (1.14.0)\r\n",
      "Installing collected packages: pyarrow\r\n",
      "Successfully installed pyarrow-0.16.0\r\n"
     ]
    }
   ],
   "source": [
    "!pip install pyarrow"
   ]
  },
  {
   "cell_type": "code",
   "execution_count": 5,
   "metadata": {},
   "outputs": [
    {
     "name": "stdout",
     "output_type": "stream",
     "text": [
      "Collecting pandas\r\n",
      "  Downloading pandas-1.0.1-cp36-cp36m-manylinux1_x86_64.whl (10.1 MB)\r\n",
      "\u001b[K     |████████████████████████████████| 10.1 MB 3.7 MB/s \r\n",
      "\u001b[?25hCollecting pytz>=2017.2\r\n",
      "  Downloading pytz-2019.3-py2.py3-none-any.whl (509 kB)\r\n",
      "\u001b[K     |████████████████████████████████| 509 kB 6.8 MB/s \r\n",
      "\u001b[?25hRequirement already satisfied: numpy>=1.13.3 in /usr/local/lib/python3.6/dist-packages (from pandas) (1.18.1)\r\n",
      "Requirement already satisfied: python-dateutil>=2.6.1 in /usr/local/lib/python3.6/dist-packages (from pandas) (2.8.1)\r\n",
      "Requirement already satisfied: six>=1.5 in /usr/local/lib/python3.6/dist-packages (from python-dateutil>=2.6.1->pandas) (1.14.0)\r\n",
      "Installing collected packages: pytz, pandas\r\n",
      "Successfully installed pandas-1.0.1 pytz-2019.3\r\n"
     ]
    }
   ],
   "source": [
    "!pip install pandas"
   ]
  },
  {
   "cell_type": "code",
   "execution_count": 6,
   "metadata": {},
   "outputs": [
    {
     "name": "stdout",
     "output_type": "stream",
     "text": [
      "Requirement already satisfied: numpy in /usr/local/lib/python3.6/dist-packages (1.18.1)\r\n"
     ]
    }
   ],
   "source": [
    "!pip install numpy"
   ]
  },
  {
   "cell_type": "code",
   "execution_count": 7,
   "metadata": {},
   "outputs": [
    {
     "name": "stdout",
     "output_type": "stream",
     "text": [
      "returned value: 0\n"
     ]
    }
   ],
   "source": [
    "import subprocess \n",
    "cmd0 = \"cat $HOME/.bashrc > mylog.txt \"\n",
    "returned_value0 = subprocess.call(cmd0, shell=True) \n",
    "print(\"returned value:\", returned_value0)"
   ]
  },
  {
   "cell_type": "code",
   "execution_count": 8,
   "metadata": {},
   "outputs": [
    {
     "name": "stdout",
     "output_type": "stream",
     "text": [
      "returned value1: 0\n"
     ]
    }
   ],
   "source": [
    "import subprocess \n",
    "cmd1 = \"echo 'export PATH=/tf/notebooks_h2o/spark-2.4.4-bin-hadoop2.7/bin:$PATH' >> $HOME/.bashrc \"\n",
    "returned_value1 = subprocess.call(cmd1, shell=True) \n",
    "print(\"returned value1:\", returned_value1)"
   ]
  },
  {
   "cell_type": "code",
   "execution_count": 9,
   "metadata": {},
   "outputs": [
    {
     "name": "stdout",
     "output_type": "stream",
     "text": [
      "returned value2: 0\n"
     ]
    }
   ],
   "source": [
    "import subprocess\n",
    "cmd2 = \"echo 'export JAVA_HOME=/usr/lib/jvm/java-8-openjdk-amd64' >> $HOME/.bashrc \"\n",
    "returned_value2 = subprocess.call(cmd2, shell=True) \n",
    "print(\"returned value2:\", returned_value2)"
   ]
  },
  {
   "cell_type": "code",
   "execution_count": 10,
   "metadata": {},
   "outputs": [
    {
     "name": "stdout",
     "output_type": "stream",
     "text": [
      "returned value3: 0\n"
     ]
    }
   ],
   "source": [
    "import subprocess\n",
    "cmd3 = \" echo 'export SPARK_HOME=/tf/notebooks_h2o/spark-2.4.4-bin-hadoop2.7'  >> $HOME/.bashrc \"\n",
    "returned_value3 = subprocess.call(cmd3, shell=True) \n",
    "print(\"returned value3:\", returned_value3)"
   ]
  },
  {
   "cell_type": "code",
   "execution_count": 11,
   "metadata": {},
   "outputs": [
    {
     "name": "stdout",
     "output_type": "stream",
     "text": [
      "returned value4: 0\n"
     ]
    }
   ],
   "source": [
    "import subprocess\n",
    "cmd4 = \" echo 'export HADOOP_HOME=$SPARK_HOME'  >> $HOME/.bashrc \"\n",
    "returned_value4 = subprocess.call(cmd4, shell=True) \n",
    "print(\"returned value4:\", returned_value4)"
   ]
  },
  {
   "cell_type": "code",
   "execution_count": 12,
   "metadata": {},
   "outputs": [
    {
     "name": "stdout",
     "output_type": "stream",
     "text": [
      "returned value5: 0\n"
     ]
    }
   ],
   "source": [
    "import subprocess\n",
    "cmd5 = \"echo 'export JAVA_HOME=/usr/lib/jvm/java-8-openjdk-amd64' >> $HOME/.bashrc \"\n",
    "returned_value5 = subprocess.call(cmd5, shell=True) \n",
    "print(\"returned value5:\", returned_value5)"
   ]
  },
  {
   "cell_type": "code",
   "execution_count": 13,
   "metadata": {},
   "outputs": [
    {
     "name": "stdout",
     "output_type": "stream",
     "text": [
      "returned value5: 0\n"
     ]
    }
   ],
   "source": [
    "import subprocess\n",
    "cmd6 = \" echo 'export PYSPARK_DRIVER_PYTHON=jupyter'  >> $HOME/.bashrc \"\n",
    "returned_value6 = subprocess.call(cmd6, shell=True) \n",
    "print(\"returned value5:\", returned_value6)"
   ]
  },
  {
   "cell_type": "code",
   "execution_count": 14,
   "metadata": {},
   "outputs": [
    {
     "name": "stdout",
     "output_type": "stream",
     "text": [
      "returned value7: 0\n"
     ]
    }
   ],
   "source": [
    "import subprocess\n",
    "cmd7 = \" echo 'export PYSPARK_DRIVER_PYTHON_OPTS=notebook'  >> $HOME/.bashrc \"\n",
    "returned_value7 = subprocess.call(cmd7, shell=True) \n",
    "print(\"returned value7:\", returned_value7)"
   ]
  },
  {
   "cell_type": "code",
   "execution_count": 15,
   "metadata": {},
   "outputs": [
    {
     "name": "stdout",
     "output_type": "stream",
     "text": [
      "returned value8: 0\n"
     ]
    }
   ],
   "source": [
    "import subprocess\n",
    "cmd8 = \" echo 'export PYSPARK_PYTHON=/usr/bin/python3'  >> $HOME/.bashrc \"\n",
    "returned_value8 = subprocess.call(cmd8, shell=True) \n",
    "print(\"returned value8:\", returned_value8)"
   ]
  },
  {
   "cell_type": "code",
   "execution_count": 16,
   "metadata": {},
   "outputs": [
    {
     "name": "stdout",
     "output_type": "stream",
     "text": [
      "returned value9: 0\n"
     ]
    }
   ],
   "source": [
    "import subprocess\n",
    "cmd9 = \" echo 'export PYTHONPATH=$SPARK_HOME/python:$SPARK_HOME/python/build:$PYTHONPATH'  >> $HOME/.bashrc \"\n",
    "returned_value9 = subprocess.call(cmd9, shell=True) \n",
    "print(\"returned value9:\", returned_value9)"
   ]
  },
  {
   "cell_type": "code",
   "execution_count": 17,
   "metadata": {},
   "outputs": [
    {
     "name": "stdout",
     "output_type": "stream",
     "text": [
      "returned value10: 0\n"
     ]
    }
   ],
   "source": [
    "import subprocess\n",
    "cmd10 = \" echo 'export PYTHONPATH=$SPARK_HOME/python/lib/py4j-0.10.7-src.zip:$PYTHONPATH'  >> $HOME/.bashrc \"\n",
    "returned_value10 = subprocess.call(cmd10, shell=True) \n",
    "print(\"returned value10:\", returned_value10)"
   ]
  },
  {
   "cell_type": "code",
   "execution_count": 18,
   "metadata": {},
   "outputs": [
    {
     "name": "stdout",
     "output_type": "stream",
     "text": [
      "returned value11: 0\n"
     ]
    }
   ],
   "source": [
    "import subprocess\n",
    "cmd11 = \" echo 'export SPARK_LOCAL_IP=0.0.0.0'  >> $HOME/.bashrc \"\n",
    "returned_value11 = subprocess.call(cmd11, shell=True) \n",
    "print(\"returned value11:\", returned_value11)"
   ]
  },
  {
   "cell_type": "code",
   "execution_count": 19,
   "metadata": {},
   "outputs": [
    {
     "name": "stdout",
     "output_type": "stream",
     "text": [
      "returned value12: 0\n"
     ]
    }
   ],
   "source": [
    "import subprocess\n",
    "cmd12 = \" echo 'export PACKAGES=\\\"io.delta:delta-core_2.11:0.3.0\\\"'  >> $HOME/.bashrc \"\n",
    "returned_value12 = subprocess.call(cmd12, shell=True) \n",
    "print(\"returned value12:\", returned_value12)"
   ]
  },
  {
   "cell_type": "code",
   "execution_count": 20,
   "metadata": {},
   "outputs": [
    {
     "name": "stdout",
     "output_type": "stream",
     "text": [
      "returned value13: 0\n"
     ]
    }
   ],
   "source": [
    "import subprocess\n",
    "cmd13 = \" echo 'export PYSPARK_SUBMIT_ARGS=\\\"--packages ${PACKAGES}  pyspark-shell\\\"'  >> $HOME/.bashrc \"\n",
    "returned_value13 = subprocess.call(cmd13, shell=True) \n",
    "print(\"returned value13:\", returned_value13)"
   ]
  },
  {
   "cell_type": "code",
   "execution_count": 21,
   "metadata": {},
   "outputs": [
    {
     "name": "stdout",
     "output_type": "stream",
     "text": [
      "returned value_s1: 0\n"
     ]
    }
   ],
   "source": [
    "import subprocess\n",
    "cmds1 = \" source $HOME/.bashrc | echo done\" \n",
    "returned_value_s1 = subprocess.call(cmds1, shell=True) \n",
    "print(\"returned value_s1:\", returned_value_s1)"
   ]
  },
  {
   "cell_type": "code",
   "execution_count": 22,
   "metadata": {},
   "outputs": [
    {
     "name": "stdout",
     "output_type": "stream",
     "text": [
      "returned value0: 0\n"
     ]
    }
   ],
   "source": [
    "import subprocess \n",
    "cmd0 = \"cat $HOME/.bashrc >> mylog.txt \"\n",
    "returned_value0 = subprocess.call(cmd0, shell=True) \n",
    "print(\"returned value0:\", returned_value0)"
   ]
  },
  {
   "cell_type": "code",
   "execution_count": 23,
   "metadata": {},
   "outputs": [
    {
     "name": "stdout",
     "output_type": "stream",
     "text": [
      "Checking whether there is an H2O instance running at http://localhost:54321 ..... not found.\n",
      "Attempting to start a local H2O server...\n",
      "  Java Version: openjdk version \"1.8.0_242\"; OpenJDK Runtime Environment (build 1.8.0_242-8u242-b08-0ubuntu3~18.04-b08); OpenJDK 64-Bit Server VM (build 25.242-b08, mixed mode)\n",
      "  Starting server from /usr/local/lib/python3.6/dist-packages/h2o/backend/bin/h2o.jar\n",
      "  Ice root: /tmp/tmp5qsqvx9f\n",
      "  JVM stdout: /tmp/tmp5qsqvx9f/h2o_unknownUser_started_from_python.out\n",
      "  JVM stderr: /tmp/tmp5qsqvx9f/h2o_unknownUser_started_from_python.err\n",
      "  Server is running at http://127.0.0.1:54321\n",
      "Connecting to H2O server at http://127.0.0.1:54321 ... successful.\n"
     ]
    },
    {
     "data": {
      "text/html": [
       "<div style=\"overflow:auto\"><table style=\"width:50%\"><tr><td>H2O cluster uptime:</td>\n",
       "<td>02 secs</td></tr>\n",
       "<tr><td>H2O cluster timezone:</td>\n",
       "<td>Etc/GMT</td></tr>\n",
       "<tr><td>H2O data parsing timezone:</td>\n",
       "<td>UTC</td></tr>\n",
       "<tr><td>H2O cluster version:</td>\n",
       "<td>3.28.0.3</td></tr>\n",
       "<tr><td>H2O cluster version age:</td>\n",
       "<td>21 days and 59 minutes </td></tr>\n",
       "<tr><td>H2O cluster name:</td>\n",
       "<td>H2O_from_python_unknownUser_rdbeeo</td></tr>\n",
       "<tr><td>H2O cluster total nodes:</td>\n",
       "<td>1</td></tr>\n",
       "<tr><td>H2O cluster free memory:</td>\n",
       "<td>876 Mb</td></tr>\n",
       "<tr><td>H2O cluster total cores:</td>\n",
       "<td>6</td></tr>\n",
       "<tr><td>H2O cluster allowed cores:</td>\n",
       "<td>6</td></tr>\n",
       "<tr><td>H2O cluster status:</td>\n",
       "<td>accepting new members, healthy</td></tr>\n",
       "<tr><td>H2O connection url:</td>\n",
       "<td>http://127.0.0.1:54321</td></tr>\n",
       "<tr><td>H2O connection proxy:</td>\n",
       "<td>{'http': None, 'https': None}</td></tr>\n",
       "<tr><td>H2O internal security:</td>\n",
       "<td>False</td></tr>\n",
       "<tr><td>H2O API Extensions:</td>\n",
       "<td>Amazon S3, XGBoost, Algos, AutoML, Core V3, TargetEncoder, Core V4</td></tr>\n",
       "<tr><td>Python version:</td>\n",
       "<td>3.6.9 final</td></tr></table></div>"
      ],
      "text/plain": [
       "--------------------------  ------------------------------------------------------------------\n",
       "H2O cluster uptime:         02 secs\n",
       "H2O cluster timezone:       Etc/GMT\n",
       "H2O data parsing timezone:  UTC\n",
       "H2O cluster version:        3.28.0.3\n",
       "H2O cluster version age:    21 days and 59 minutes\n",
       "H2O cluster name:           H2O_from_python_unknownUser_rdbeeo\n",
       "H2O cluster total nodes:    1\n",
       "H2O cluster free memory:    876 Mb\n",
       "H2O cluster total cores:    6\n",
       "H2O cluster allowed cores:  6\n",
       "H2O cluster status:         accepting new members, healthy\n",
       "H2O connection url:         http://127.0.0.1:54321\n",
       "H2O connection proxy:       {'http': None, 'https': None}\n",
       "H2O internal security:      False\n",
       "H2O API Extensions:         Amazon S3, XGBoost, Algos, AutoML, Core V3, TargetEncoder, Core V4\n",
       "Python version:             3.6.9 final\n",
       "--------------------------  ------------------------------------------------------------------"
      ]
     },
     "metadata": {},
     "output_type": "display_data"
    }
   ],
   "source": [
    "import h2o\n",
    "h2o.init()"
   ]
  },
  {
   "cell_type": "code",
   "execution_count": 24,
   "metadata": {},
   "outputs": [],
   "source": [
    "exit()"
   ]
  },
  {
   "cell_type": "code",
   "execution_count": 25,
   "metadata": {},
   "outputs": [
    {
     "name": "stdout",
     "output_type": "stream",
     "text": [
      "returned value0: 0\n"
     ]
    }
   ],
   "source": [
    "import subprocess \n",
    "cmd0 = \" echo ' ${HOME} ' >> mylog.txt \"\n",
    "returned_value0 = subprocess.call(cmd0, shell=True) \n",
    "print(\"returned value0:\", returned_value0)"
   ]
  },
  {
   "cell_type": "code",
   "execution_count": null,
   "metadata": {},
   "outputs": [],
   "source": []
  }
 ],
 "metadata": {
  "kernelspec": {
   "display_name": "Python 3",
   "language": "python",
   "name": "python3"
  },
  "language_info": {
   "codemirror_mode": {
    "name": "ipython",
    "version": 3
   },
   "file_extension": ".py",
   "mimetype": "text/x-python",
   "name": "python",
   "nbconvert_exporter": "python",
   "pygments_lexer": "ipython3",
   "version": "3.6.9"
  }
 },
 "nbformat": 4,
 "nbformat_minor": 2
}
