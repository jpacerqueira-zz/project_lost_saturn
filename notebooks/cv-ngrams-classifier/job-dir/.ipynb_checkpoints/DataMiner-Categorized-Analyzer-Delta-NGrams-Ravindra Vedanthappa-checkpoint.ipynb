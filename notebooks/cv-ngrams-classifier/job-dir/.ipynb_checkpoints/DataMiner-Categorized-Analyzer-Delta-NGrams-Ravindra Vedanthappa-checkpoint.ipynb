{
 "cells": [
  {
   "cell_type": "code",
   "execution_count": 1,
   "metadata": {},
   "outputs": [],
   "source": [
    "#\n",
    "###### https://github.com/LucaCanali/Miscellaneous/blob/master/Pyspark_SQL_Magic_Jupyter/IPython_Pyspark_SQL_Magic.py\n",
    "#\n",
    "#\n",
    "# IPython magic functions to use with Pyspark and Spark SQL\n",
    "# The following code is intended as examples of shorcuts to simplify the use of SQL in pyspark\n",
    "# The defined functions are:\n",
    "#\n",
    "# %sql <statement>          - return a Spark DataFrame for lazy evaluation of the SQL\n",
    "# %sql_show <statement>     - run the SQL statement and show max_show_lines (50) lines\n",
    "# %sql_display <statement>  - run the SQL statement and display the results using a HTML table \n",
    "#                           - this is implemented passing via Pandas and displays up to max_show_lines (50)\n",
    "# %sql_explain <statement>  - display the execution plan of the SQL statement\n",
    "#\n",
    "# Use: %<magic> for line magic or %%<magic> for cell magic.\n",
    "#\n",
    "# Author: Luca.Canali@cern.ch\n",
    "# September 2016\n",
    "#\n",
    "\n",
    "from IPython.core.magic import register_line_cell_magic\n",
    "\n",
    "# Configuration parameters\n",
    "max_show_lines = 50         # Limit on the number of lines to show with %sql_show and %sql_display\n",
    "detailed_explain = True     # Set to False if you want to see only the physical plan when running explain\n",
    "\n",
    "\n",
    "@register_line_cell_magic\n",
    "def sql(line, cell=None):\n",
    "    \"Return a Spark DataFrame for lazy evaluation of the sql. Use: %sql or %%sql\"\n",
    "    val = cell if cell is not None else line \n",
    "    return sqlContext.sql(val)\n",
    "\n",
    "@register_line_cell_magic\n",
    "def sql_show(line, cell=None):\n",
    "    \"Execute sql and show the first max_show_lines lines. Use: %sql_show or %%sql_show\"\n",
    "    val = cell if cell is not None else line \n",
    "    return sqlContext.sql(val).show(max_show_lines) \n",
    "\n",
    "@register_line_cell_magic\n",
    "def sql_display(line, cell=None):\n",
    "    \"\"\"Execute sql and convert results to Pandas DataFrame for pretty display or further processing.\n",
    "    Use: %sql_display or %%sql_display\"\"\"\n",
    "    val = cell if cell is not None else line \n",
    "    return sqlContext.sql(val).limit(max_show_lines).toPandas() \n",
    "\n",
    "@register_line_cell_magic\n",
    "def sql_explain(line, cell=None):\n",
    "    \"Display the execution plan of the sql. Use: %sql_explain or %%sql_explain\"\n",
    "    val = cell if cell is not None else line \n",
    "    return sqlContext.sql(val).explain(detailed_explain)\n"
   ]
  },
  {
   "cell_type": "code",
   "execution_count": null,
   "metadata": {},
   "outputs": [],
   "source": [
    "##############################\n",
    "###### Load The Delta   ######\n",
    "##############################\n",
    "###\n",
    "### Input delta in folder :  /data/delta\n",
    "job_dir=\"/home/notebookuser/notebooks/cv-ngrams-classifier/job-dir/\"\n",
    "json_cv_file=job_dir+\"data/delta/json-cv-pdf\"\n",
    "json_cv_table=\"pdf_cv\"\n",
    "#\n",
    "ngrams_cv_file=job_dir+\"data/delta/cv-files-ngrams\"\n",
    "ngrams_cv_table=\"ngrams_cv\"\n",
    "#\n",
    "skills_file=job_dir+\"data/delta/role_skills\"\n",
    "skills_table=\"role_skills\"\n",
    "###\n",
    "######\n",
    "##############################Execution##########################\n",
    "import findspark\n",
    "findspark.init()\n",
    "#\n",
    "#\n",
    "import pyspark\n",
    "from pyspark.sql import functions as pfunc\n",
    "from pyspark.sql import SQLContext\n",
    "from pyspark.sql import Window, types\n",
    "import re\n",
    "import pandas as pd\n",
    "import numpy as np\n",
    "from pandas import DataFrame\n",
    "from pyspark.sql.types import IntegerType\n",
    "from pyspark.sql.types import FloatType\n",
    "from pyspark.sql.functions import udf\n",
    "from pyspark.sql.functions import *\n",
    "from scipy.stats import kstest\n",
    "from scipy import stats\n",
    "#\n",
    "import subprocess\n",
    "#\n",
    "sc = pyspark.SparkContext(appName=\"Daily_CV_Analysis-Delta\")\n",
    "sqlContext = SQLContext(sc)\n",
    "#\n",
    "\n",
    "#\n",
    "# Join with Internal Curation Data in urltopredict staged folder\n",
    "from pyspark.sql import functions as F\n",
    "### use version=1\n",
    "version=1\n",
    "## .option(\"versionAsOf\", version)\n",
    "delta_df1=sqlContext.read.format(\"delta\").load(json_cv_file)\\\n",
    ".persist(pyspark.StorageLevel.MEMORY_AND_DISK_2)\n",
    "delta_df1.printSchema()\n",
    "delta_df1.registerTempTable(json_cv_table)\n",
    "#\n",
    "delta_df2=sqlContext.read.format(\"delta\").load(ngrams_cv_file)\\\n",
    ".persist(pyspark.StorageLevel.MEMORY_AND_DISK_2)\n",
    "delta_df2.printSchema()\n",
    "delta_df2.registerTempTable(ngrams_cv_table)\n",
    "#\n",
    "delta_df3=sqlContext.read.format(\"delta\").load(skills_file)\\\n",
    ".persist(pyspark.StorageLevel.MEMORY_AND_DISK_2)\n",
    "delta_df3.printSchema()\n",
    "delta_df3.registerTempTable(skills_table)\n",
    "#\n",
    "print(\"Table Loading Done\")\n",
    "#"
   ]
  },
  {
   "cell_type": "code",
   "execution_count": null,
   "metadata": {
    "scrolled": false
   },
   "outputs": [],
   "source": [
    "#\n",
    "####\n",
    "#### Expose most frequent Terms in CV pages\n",
    "####\n",
    "from pyspark.sql.functions import *\n",
    "from pyspark.sql.types import *\n",
    "#\n",
    "mywords=sqlContext.sql(\"select filename,pages from pdf_cv where filename IS NOT NULL \") ## ='cv-x1' \n",
    "mywords=mywords.select(\"filename\",explode(\"pages.p_content\").alias(\"p_cont\"))\\\n",
    ".select(\"filename\",explode(split(col(\"p_cont\"), \"\\s+\")).alias(\"terms_in_pages\"))\n",
    "###\n",
    "mywords.printSchema()\n",
    "####\n",
    "filler_words_list=['the','a','of','to','is','or','in','on','for','by','an','The','and','A','at','as','it','be',\\\n",
    "                   'your','new','my','via','that','when','their','with','you','are','It','from','can','usually',\\\n",
    "                   'i','o','a','--','-',':','•','|','●','§','&','–','.','_',';',',','(',')','/',\\\n",
    "                   '1','2','3','4','5','6','7','8','9','0',\\\n",
    "                   'a','b','c','d','e','f','j','k','l','m','n','o','p','q','r','s','t','u','v','w','x','y','z',\\\n",
    "                   '○','+','-','_','',\\\n",
    "                   ' ','\\n','\\n ','  ','\\n  ','   ','\\n   ','    ','     ','      ','       ','        ','         ','          ','           ']\n",
    "####\n",
    "wordCountDF = mywords.filter(~(col(\"terms_in_pages\").isin(filler_words_list))).groupBy(\"filename\",\"terms_in_pages\").count().orderBy(col('count').desc())\n",
    "####        \n",
    "wordCountDF.show(200)\n",
    "#"
   ]
  },
  {
   "cell_type": "code",
   "execution_count": null,
   "metadata": {},
   "outputs": [],
   "source": [
    "#\n",
    "data_analytics_df1=sqlContext.sql(\"select * from pdf_cv limit 5\")\n",
    "data_analytics_df1.printSchema()\n",
    "data_analytics_df1.show(5)\n",
    "#\n",
    "#\n",
    "data_analytics_df2=sqlContext.sql(\"select * from ngrams_cv limit 5\")\n",
    "data_analytics_df2.printSchema()\n",
    "data_analytics_df2.show(5)\n",
    "#\n",
    "#\n",
    "data_analytics_df3=sqlContext.sql(\"select * from role_skills limit 5\")\n",
    "data_analytics_df3.printSchema()\n",
    "data_analytics_df3.show(5)\n",
    "#\n",
    "#\n",
    "data_analytics_df4=sqlContext.sql(\" select distinct(a.filename) from ngrams_cv as a, role_skills as b where b.role = 'devops engineer' AND b.level='5' AND b.skill = 'terraform' AND (array_contains(a.1_grams,b.skill)) limit 10 \")\n",
    "data_analytics_df4.printSchema()\n",
    "data_analytics_df4.show(5)\n",
    "#\n",
    "#"
   ]
  },
  {
   "cell_type": "code",
   "execution_count": null,
   "metadata": {},
   "outputs": [],
   "source": [
    "%%sql_display\n",
    "select distinct(a.filename) from ngrams_cv as a, role_skills as b \n",
    " where b.role = 'devops engineer' AND b.level='5' AND b.skill = 'terraform' \n",
    "  AND (array_contains(a.1_grams,b.skill) or array_contains(a.2_grams,b.skill) or array_contains(a.3_grams,b.skill))\n",
    " limit 10"
   ]
  },
  {
   "cell_type": "code",
   "execution_count": null,
   "metadata": {},
   "outputs": [],
   "source": [
    "%%sql_display\n",
    "select distinct(a.filename) from ngrams_cv as a, role_skills as b \n",
    " where b.role = 'data engineer' AND b.level='5' AND b.skill = 'python' \n",
    "  AND (array_contains(a.1_grams,b.skill) or array_contains(a.2_grams,b.skill) or array_contains(a.3_grams,b.skill))\n",
    " limit 10"
   ]
  },
  {
   "cell_type": "code",
   "execution_count": null,
   "metadata": {},
   "outputs": [],
   "source": [
    "%%sql_display\n",
    "select distinct(a.filename) from ngrams_cv as a, role_skills as b \n",
    " where b.role = 'data engineer' AND b.level='5' AND b.skill = 'scala' \n",
    "  AND (array_contains(a.1_grams,b.skill) or array_contains(a.2_grams,b.skill) or array_contains(a.3_grams,b.skill))\n",
    " limit 10"
   ]
  },
  {
   "cell_type": "code",
   "execution_count": null,
   "metadata": {},
   "outputs": [],
   "source": [
    "%%sql_display\n",
    "select a.filename, b.skill from ngrams_cv as a, role_skills as b \n",
    " where b.role = 'data engineer' AND b.level='5' \n",
    "  AND (array_contains(a.1_grams,b.skill) or array_contains(a.2_grams,b.skill) or array_contains(a.3_grams,b.skill))\n",
    " limit 100"
   ]
  },
  {
   "cell_type": "code",
   "execution_count": null,
   "metadata": {},
   "outputs": [],
   "source": [
    "%%sql_display\n",
    "select distinct(b.skill) from ngrams_cv as a, role_skills as b \n",
    " where b.role = 'data engineer' AND b.level='5' \n",
    "  AND (array_contains(a.1_grams,b.skill) or array_contains(a.2_grams,b.skill) or array_contains(a.3_grams,b.skill))\n",
    " limit 100"
   ]
  },
  {
   "cell_type": "code",
   "execution_count": null,
   "metadata": {},
   "outputs": [],
   "source": [
    "%%sql_display\n",
    "select distinct(b.skill) from ngrams_cv as a, role_skills as b \n",
    " where b.role = 'data architect' AND b.level='5' \n",
    "  AND (array_contains(a.1_grams,b.skill) or array_contains(a.2_grams,b.skill) or array_contains(a.3_grams,b.skill))\n",
    " limit 100"
   ]
  },
  {
   "cell_type": "code",
   "execution_count": null,
   "metadata": {},
   "outputs": [],
   "source": [
    "%%sql_display\n",
    "select distinct(b.skill) from ngrams_cv as a, role_skills as b \n",
    " where b.role = 'solution architect' AND b.level='5' \n",
    "  AND (array_contains(a.1_grams,b.skill) or array_contains(a.2_grams,b.skill) or array_contains(a.3_grams,b.skill))\n",
    " limit 100"
   ]
  },
  {
   "cell_type": "code",
   "execution_count": null,
   "metadata": {},
   "outputs": [],
   "source": [
    "%%sql_display\n",
    "select distinct(b.skill) from ngrams_cv as a, role_skills as b \n",
    " where b.role = 'devops engineer' AND b.level='5' \n",
    "  AND (array_contains(a.1_grams,b.skill) or array_contains(a.2_grams,b.skill) or array_contains(a.3_grams,b.skill))\n",
    " limit 100"
   ]
  },
  {
   "cell_type": "code",
   "execution_count": null,
   "metadata": {},
   "outputs": [],
   "source": [
    "%%sql_display\n",
    "select distinct(b.skill) from ngrams_cv as a, role_skills as b \n",
    " where b.role = 'data scientist' AND b.level='5' \n",
    "  AND (array_contains(a.1_grams,b.skill) or array_contains(a.2_grams,b.skill) or array_contains(a.3_grams,b.skill))\n",
    " limit 100"
   ]
  },
  {
   "cell_type": "code",
   "execution_count": null,
   "metadata": {},
   "outputs": [],
   "source": [
    "%%sql_display\n",
    "select *  from ngrams_cv as a, role_skills as b \n",
    " where b.role = 'data engineer' AND b.level='3' AND b.skill = 'python' \n",
    "  AND (array_contains(a.1_grams,b.skill) or array_contains(a.2_grams,b.skill) or array_contains(a.3_grams,b.skill))\n",
    "limit 10"
   ]
  },
  {
   "cell_type": "code",
   "execution_count": null,
   "metadata": {},
   "outputs": [],
   "source": [
    "%%sql_display\n",
    "select * from role_skills limit 150"
   ]
  },
  {
   "cell_type": "code",
   "execution_count": null,
   "metadata": {},
   "outputs": [],
   "source": [
    "%%sql_display\n",
    "select * from ngrams_cv"
   ]
  },
  {
   "cell_type": "code",
   "execution_count": null,
   "metadata": {},
   "outputs": [],
   "source": [
    "sc.stop()"
   ]
  },
  {
   "cell_type": "code",
   "execution_count": null,
   "metadata": {},
   "outputs": [],
   "source": []
  }
 ],
 "metadata": {
  "kernelspec": {
   "display_name": "Python 3",
   "language": "python",
   "name": "python3"
  },
  "language_info": {
   "codemirror_mode": {
    "name": "ipython",
    "version": 3
   },
   "file_extension": ".py",
   "mimetype": "text/x-python",
   "name": "python",
   "nbconvert_exporter": "python",
   "pygments_lexer": "ipython3",
   "version": "3.7.7"
  }
 },
 "nbformat": 4,
 "nbformat_minor": 2
}
